{
 "cells": [
  {
   "cell_type": "markdown",
   "metadata": {
    "slideshow": {
     "slide_type": "slide"
    }
   },
   "source": [
    "# Exploratory Data Analysis: risk index and vegetation fires\n",
    "<hr style=\"border:2px solid #0077b9;\">\n",
    "\n",
    "- Obtendo os dados através da [SimpleGeo.py](https://github.com/vconrado/bdq.py)\n",
    "- Explorando os dados ([seaborn](https://seaborn.pydata.org/))"
   ]
  },
  {
   "cell_type": "markdown",
   "metadata": {
    "slideshow": {
     "slide_type": "slide"
    }
   },
   "source": [
    "# Objetivo\n",
    "<hr style=\"border:2px solid #0077b9;\">\n",
    "Conhecer os dados, avaliando as correlações entre variáveis e suas distribuições\n",
    "\n",
    "- Qual a relação entre o índice de risco a ocorrência de focos?\n",
    "- Essa relação é constante em todas as regiões do país?\n",
    "- E é constante nas estações do ano?"
   ]
  },
  {
   "cell_type": "markdown",
   "metadata": {
    "slideshow": {
     "slide_type": "slide"
    }
   },
   "source": [
    "# Obtendo dados através da SimpleGeo\n",
    "<hr style=\"border:2px solid #0077b9;\">"
   ]
  },
  {
   "cell_type": "code",
   "execution_count": null,
   "metadata": {
    "slideshow": {
     "slide_type": "subslide"
    }
   },
   "outputs": [],
   "source": [
    "from SimpleGeo import SimpleGeo, Predicates as pre\n",
    "\n",
    "import pandas as pd\n",
    "from datetime import datetime, timedelta\n",
    "import matplotlib.pyplot as plt\n",
    "from IPython.display import display, HTML \n",
    "display(HTML(\"<style>.dataframe{font-size: 16px !important;}</style>\"))\n",
    "\n",
    "# Objeto SimpleGeo\n",
    "s = SimpleGeo(wfs=\"http://www.terrama2.dpi.inpe.br/geoserver\", wtss=\"http://www.terrama2.dpi.inpe.br/e-sensing\", cache=True, cache_dir=\"/tmp/.simplegeo\")\n",
    "\n",
    "# Coverage e TimeSerie\n",
    "c = s.coverage(\"rpth\") \\\n",
    "    .attributes([\"precipitation\", \"risk\", \"temperature\", \"humidity\"])\n",
    "ts = s.time_serie(c)  "
   ]
  },
  {
   "cell_type": "code",
   "execution_count": null,
   "metadata": {
    "slideshow": {
     "slide_type": "subslide"
    }
   },
   "outputs": [],
   "source": [
    "# Feature Base\n",
    "f = s.feature('esensing:focos_bra_2016') \\\n",
    "     .attributes([\"timestamp\",\"regiao\",\"bioma\",\"satelite\",\"satelite_referencia\",\n",
    "                {'time_serie': ts, 'start_date': 0, 'end_date': 0, 'datetime': 'timestamp'}]) \\\n",
    "     .max_features(5) \\\n",
    "     .sort_by('rand')\n",
    "\n",
    "# Filtro Base\n",
    "satelite_filter = pre.OR(\n",
    "                    pre.EQ('satelite','TERRA_M-M'),\n",
    "                    pre.EQ('satelite','TERRA_M-T'),\n",
    "                    pre.EQ('satelite','AQUA_M-M'),\n",
    "                    pre.EQ('satelite','AQUA_M-T'))\n",
    "\n",
    "# Obtendo Features para cada Região\n",
    "fc_n = f.filter(pre.AND(satelite_filter, pre.EQ('regiao','N'))).get()   \n",
    "fc_ne = f.filter(pre.AND(satelite_filter, pre.EQ('regiao','NE'))).get()   \n",
    "fc_co = f.filter(pre.AND(satelite_filter, pre.EQ('regiao','CO'))).get()   \n",
    "fc_se = f.filter(pre.AND(satelite_filter, pre.EQ('regiao','SE'))).get()   \n",
    "fc_s = f.filter(pre.AND(satelite_filter, pre.EQ('regiao','S'))).get()"
   ]
  },
  {
   "cell_type": "code",
   "execution_count": null,
   "metadata": {
    "slideshow": {
     "slide_type": "subslide"
    }
   },
   "outputs": [],
   "source": [
    "# Combinando todos os dados\n",
    "focos = pd.concat([fc_n, fc_ne, fc_co, fc_se, fc_s], ignore_index=True)\n",
    "\n",
    "# Mostrando amostra\n",
    "display(focos.sample(n=5))"
   ]
  },
  {
   "cell_type": "code",
   "execution_count": null,
   "metadata": {
    "slideshow": {
     "slide_type": "subslide"
    }
   },
   "outputs": [],
   "source": [
    "# Limpando os dados\n",
    "\n",
    "dados = focos[['humidity', 'precipitation', 'risk', 'temperature', 'bioma', 'regiao', 'timestamp']]\n",
    "\n",
    "display(dados.sample(n=5))"
   ]
  },
  {
   "cell_type": "code",
   "execution_count": null,
   "metadata": {
    "slideshow": {
     "slide_type": "subslide"
    }
   },
   "outputs": [],
   "source": [
    "# Olhando os dados\n",
    "dados.describe()"
   ]
  },
  {
   "cell_type": "code",
   "execution_count": null,
   "metadata": {
    "slideshow": {
     "slide_type": "subslide"
    }
   },
   "outputs": [],
   "source": [
    "# Arrumando os dados\n",
    "\n",
    "# Removendo linhas com missing data\n",
    "dados = dados[dados['risk']<=1]\n",
    "\n",
    "# reordenando os dados\n",
    "dados = dados[[\"risk\", \"precipitation\", \"humidity\", \"temperature\", \"bioma\", \"regiao\", \"timestamp\"]]\n",
    "\n",
    "# Convertendo temperatura de Kelvin para Celsius\n",
    "dados[\"temperature\"] = dados[\"temperature\"]-273.15\n",
    "\n",
    "# Convertendo para data\n",
    "dados['timestamp'] = pd.to_datetime(dados['timestamp'])  \n",
    "\n",
    "dados.describe()"
   ]
  },
  {
   "cell_type": "markdown",
   "metadata": {
    "slideshow": {
     "slide_type": "slide"
    }
   },
   "source": [
    "## Explorando os dados\n",
    "<hr style=\"border:2px solid #0077b9;\">\n",
    "- Explorar dados\n",
    "    - Todo o Brasil\n",
    "    - Por região (N, NE, CO, SE e S)\n",
    "    - Por estação (Primavera, Verão, Outono e Inverno)"
   ]
  },
  {
   "cell_type": "markdown",
   "metadata": {
    "slideshow": {
     "slide_type": "subslide"
    }
   },
   "source": [
    "### Todo o Brasil\n",
    "<hr style=\"border:2px solid #0077b9;\">"
   ]
  },
  {
   "cell_type": "code",
   "execution_count": null,
   "metadata": {
    "slideshow": {
     "slide_type": "subslide"
    }
   },
   "outputs": [],
   "source": [
    "# importando e configurando módulos de plotagem\n",
    "import seaborn as sns\n",
    "import numpy as np\n",
    "from IPython.display import display, HTML \n",
    "from matplotlib import pyplot as plt\n",
    "%matplotlib inline \n",
    "\n",
    "fig_size = (16,5)\n",
    "palette=sns.diverging_palette(10, 240,  as_cmap=True)\n",
    "\n",
    "siglas = [\"N \", \"NE\", \"CO\", \"SE\", \"S \"]\n",
    "regioes = [\"Norte\", \"Nordeste\", \"Centro-Oeste\", \"Sudeste\", \"Sul\"]\n",
    "\n",
    "palette=sns.diverging_palette(240, 10,  as_cmap=True)"
   ]
  },
  {
   "cell_type": "code",
   "execution_count": null,
   "metadata": {
    "slideshow": {
     "slide_type": "subslide"
    }
   },
   "outputs": [],
   "source": [
    "# Gerando matrix de correlação\n",
    "sns.set(font_scale=1.2)\n",
    "f, ax = plt.subplots(figsize=(10, 8))\n",
    "corr = dados.corr()\n",
    "sns.heatmap(corr, mask=np.zeros_like(corr, dtype=np.bool), cmap=palette, \n",
    "            square=True, ax=ax, annot=True) "
   ]
  },
  {
   "cell_type": "code",
   "execution_count": null,
   "metadata": {
    "slideshow": {
     "slide_type": "subslide"
    }
   },
   "outputs": [],
   "source": [
    "# Boxplot de todos os dados\n",
    "fig, ax = plt.subplots(figsize=fig_size)\n",
    "sns.boxplot(ax=ax, x=\"risk\", data=dados, palette=\"vlag\" )\n",
    "sns.swarmplot(x=\"risk\", data=dados, size=2, color=\".3\", linewidth=0)\n",
    "ax.xaxis.grid(True) \n",
    "ax.set(ylabel=\"Todos\")\n",
    "sns.despine(trim=True, left=True)"
   ]
  },
  {
   "cell_type": "code",
   "execution_count": null,
   "metadata": {
    "slideshow": {
     "slide_type": "subslide"
    }
   },
   "outputs": [],
   "source": [
    "# Gerando scatterplot matrix\n",
    "sns.pairplot(dados)"
   ]
  },
  {
   "cell_type": "markdown",
   "metadata": {
    "slideshow": {
     "slide_type": "slide"
    }
   },
   "source": [
    "### Por região\n",
    "<hr style=\"border:2px solid #0077b9;\">\n",
    "- N, NE, CO, SE e S"
   ]
  },
  {
   "cell_type": "code",
   "execution_count": null,
   "metadata": {
    "slideshow": {
     "slide_type": "subslide"
    }
   },
   "outputs": [],
   "source": [
    "# Gerando matrix de correlação para cada região\n",
    "\n",
    "f, ((ax1, ax2), (ax3, ax4), (ax5, ax6)) = plt.subplots(3, 2, sharex=True, sharey=True)\n",
    "ax = [ax1, ax2, ax3, ax4, ax5, ax6]\n",
    "\n",
    "for i in xrange(0, 5):\n",
    "    corr = dados[dados['regiao'] == siglas[i]].corr()\n",
    "    sns.heatmap(corr, mask=np.zeros_like(corr, dtype=np.bool), cmap=palette, \n",
    "                square=True, ax=ax[i], annot=True, vmin=-1, vmax=1)\n",
    "    ax[i].set_title(regioes[i])\n",
    "\n",
    "ax6.set_visible(False)\n",
    "f.subplots_adjust(hspace=0.4, top=4, right=2.5)"
   ]
  },
  {
   "cell_type": "code",
   "execution_count": null,
   "metadata": {
    "slideshow": {
     "slide_type": "subslide"
    }
   },
   "outputs": [],
   "source": [
    "# Gerando scatterplot matrix por região\n",
    "sns.set(font_scale=2)\n",
    "color_regions = [\"#1f77b4\", \"#ff7f0e\", \"#2ca02c\", \"#d62728\", \"#9467bd\"]\n",
    "sns.pairplot(dados, hue=\"regiao\", palette=sns.color_palette(color_regions), size=4)"
   ]
  },
  {
   "cell_type": "code",
   "execution_count": null,
   "metadata": {
    "slideshow": {
     "slide_type": "subslide"
    }
   },
   "outputs": [],
   "source": [
    "# Histogramas para cada região\n",
    "from scipy import stats, integrate\n",
    "sns.set(color_codes=True)\n",
    "\n",
    "sns.set(font_scale=2)\n",
    "sns.set_context(\"paper\", rc={\"font.size\":28,\"axes.titlesize\":22,\"axes.labelsize\":22})   \n",
    "f, ((ax1, ax2), (ax3, ax4), (ax5, ax6)) = plt.subplots(3, 2, sharex=True, sharey=True)\n",
    "ax = [ax1, ax2, ax3, ax4, ax5, ax6]\n",
    "\n",
    "for i in xrange(0, 5):\n",
    "    sns.distplot(dados[dados['regiao'] == siglas[i]][\"risk\"], ax=ax[i], kde=False, bins=np.arange(0.0, 1.1, 0.1), color=color_regions[i], hist_kws=dict(edgecolor=\"k\", linewidth=2))\n",
    "    ax[i].set_title(regioes[i])\n",
    "    ax[i].tick_params(labelsize=22)\n",
    "    plt.setp( ax[i].get_xticklabels(), visible=True)\n",
    "\n",
    "ax[5].set_visible(False)\n",
    "plt.subplots_adjust(hspace=0.4, top=3, right=1.9)"
   ]
  },
  {
   "cell_type": "code",
   "execution_count": null,
   "metadata": {
    "slideshow": {
     "slide_type": "subslide"
    }
   },
   "outputs": [],
   "source": [
    "# Gerando boxplot para (risco, temperatura, precipitação, umidade) por região\n",
    "\n",
    "sns.set(font_scale=1.5)\n",
    "\n",
    "for var in (\"risk\", \"temperature\", \"precipitation\", \"humidity\"):\n",
    "    fig, ax = plt.subplots(figsize=fig_size)\n",
    "    sns.boxplot(ax=ax, x=var,  y=\"regiao\", data=dados, palette=color_regions)\n",
    "    sns.swarmplot(x=var, y=\"regiao\", data=dados, size=2, color=\".3\", linewidth=0)\n",
    "    ax.xaxis.grid(True)\n",
    "    ax.set(ylabel=\"\")\n",
    "    sns.despine(trim=True, left=True)"
   ]
  },
  {
   "cell_type": "markdown",
   "metadata": {
    "slideshow": {
     "slide_type": "slide"
    }
   },
   "source": [
    "### Por estações\n",
    "<hr style=\"border:2px solid #0077b9;\">\n",
    "- Primavera, Verão, Outono e Inverno"
   ]
  },
  {
   "cell_type": "code",
   "execution_count": null,
   "metadata": {
    "slideshow": {
     "slide_type": "subslide"
    }
   },
   "outputs": [],
   "source": [
    "# Separando dados por estação\n",
    "\n",
    "# períodos das estacoes no hemisfério sul\n",
    "primavera = (dados['timestamp'] > '2016-09-23') & (dados['timestamp'] <= '2016-12-21')\n",
    "verao = (dados['timestamp'] > '2016-12-21') | ( (dados['timestamp'] >= '2016-01-01') & (dados['timestamp'] < '2016-03-21') )\n",
    "outono = (dados['timestamp'] > '2016-03-21') & (dados['timestamp'] <= '2016-06-20')\n",
    "inverno = (dados['timestamp'] > '2016-06-20') & (dados['timestamp'] <= '2016-09-23')\n",
    "\n",
    "# Criando coluna estacao\n",
    "dados['estacao']=''\n",
    "dados.loc[primavera, 'estacao']=\"primavera\"\n",
    "dados.loc[verao, 'estacao']=\"verao\"\n",
    "dados.loc[outono,'estacao']=\"outono\"\n",
    "dados.loc[inverno, 'estacao']='inverno'\n",
    "\n",
    "# Contado por grupo de risco e por estação\n",
    "dados.filter(items=[\"risk\", \"estacao\"])\\\n",
    "     .groupby([\"estacao\",pd.cut(dados[\"risk\"], np.arange(0, 1+.25, .25))])\\\n",
    "     .count().rename(columns={'risk':'Total'})"
   ]
  },
  {
   "cell_type": "code",
   "execution_count": null,
   "metadata": {
    "slideshow": {
     "slide_type": "subslide"
    }
   },
   "outputs": [],
   "source": [
    "# Boxplot para Estação-Risco\n",
    "\n",
    "colors = [\"faded green\", \"windows blue\", \"amber\", \"greyish\"]\n",
    "colors_estacoes = sns.xkcd_palette(colors).as_hex()\n",
    "\n",
    "sns.set(font_scale=1.5)\n",
    "fig, ax = plt.subplots(figsize=fig_size)\n",
    "sns.boxplot(ax=ax, x=\"risk\", y=\"estacao\", data=dados, palette=colors_estacoes)\n",
    "sns.swarmplot(x=\"risk\", y=\"estacao\", data=dados, size=2, color=\".3\", linewidth=0)\n",
    "ax.xaxis.grid(True)\n",
    "ax.set(ylabel=\"\")\n",
    "sns.despine(trim=True, left=True)"
   ]
  },
  {
   "cell_type": "code",
   "execution_count": null,
   "metadata": {
    "slideshow": {
     "slide_type": "subslide"
    }
   },
   "outputs": [],
   "source": [
    "# Ocorrências por Região-Estação\n",
    "\n",
    "sns.set(font_scale=1.2)\n",
    "estacao_regiao=pd.DataFrame(index=(\"N \", \"NE\", \"CO\", \"SE\", \"S \"))\n",
    "for estacao in (\"primavera\", \"verao\", \"outono\", \"inverno\"): \n",
    "    for regiao in (\"N \", \"NE\", \"CO\", \"SE\", \"S \"):\n",
    "        estacao_regiao.set_value(regiao, estacao, len(dados.loc[ (dados['estacao']==estacao) & (dados['regiao']==regiao)]))\n",
    "\n",
    "sns.heatmap(estacao_regiao, cmap=palette, annot=True,  fmt='g')"
   ]
  },
  {
   "cell_type": "code",
   "execution_count": null,
   "metadata": {
    "slideshow": {
     "slide_type": "subslide"
    }
   },
   "outputs": [],
   "source": [
    "# Boxplot Região-Estação\n",
    "\n",
    "sns.set(font_scale=1.5)\n",
    "for estacao,i in zip((\"primavera\", \"verao\", \"outono\", \"inverno\"), xrange(0,5)): \n",
    "    fig, ax = plt.subplots(figsize=fig_size)\n",
    "    sns.boxplot(x=\"risk\", y=\"regiao\", data=dados.loc[dados['estacao']==estacao] , palette=color_regions, ax=ax)\n",
    "    sns.swarmplot(x=\"risk\", y=\"regiao\", data=dados.loc[dados['estacao']==estacao], size=2, color=\".3\", linewidth=0, ax=ax)\n",
    "    ax.xaxis.grid(True)\n",
    "    ax.set(ylabel=\"\")\n",
    "    sns.despine(trim=True, left=True)\n",
    "    ax.set_title(estacao)"
   ]
  },
  {
   "cell_type": "markdown",
   "metadata": {
    "slideshow": {
     "slide_type": "slide"
    }
   },
   "source": [
    "## Links\n",
    "<hr style=\"border:2px solid #0077b9;\">\n",
    "\n",
    "\n",
    "- **simple_geo.py**: [http://github.com/esensing/simple_geo.py/](http://github.com/esensing/simple_geo.py/)\n",
    "- WTSS.py: [https://github.com/e-sensing/wtss.py](https://github.com/e-sensing/wtss.py)\n",
    "- Seaborn: [https://seaborn.pydata.org/](https://seaborn.pydata.org/)"
   ]
  }
 ],
 "metadata": {
  "celltoolbar": "Slideshow",
  "kernelspec": {
   "display_name": "Python [conda env:simplegeo]",
   "language": "python",
   "name": "conda-env-simplegeo-py"
  },
  "language_info": {
   "codemirror_mode": {
    "name": "ipython",
    "version": 2
   },
   "file_extension": ".py",
   "mimetype": "text/x-python",
   "name": "python",
   "nbconvert_exporter": "python",
   "pygments_lexer": "ipython2",
   "version": "2.7.14"
  }
 },
 "nbformat": 4,
 "nbformat_minor": 2
}
