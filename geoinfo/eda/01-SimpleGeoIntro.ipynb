{
 "cells": [
  {
   "cell_type": "markdown",
   "metadata": {
    "slideshow": {
     "slide_type": "slide"
    }
   },
   "source": [
    " # Web Services for Geospatial Big Data\n",
    "<hr style=\"border:2px solid #0077b9;\">\n",
    "\n",
    "- Vitor Gomes <vitor.gomes@inpe.br>\n",
    "- Gilberto Ribeiro <gilberto.queiroz@inpe.br>\n",
    "- Rolf Simões <rolf.simoes@inpe.br>"
   ]
  },
  {
   "cell_type": "markdown",
   "metadata": {
    "slideshow": {
     "slide_type": "slide"
    }
   },
   "source": [
    "## File-based analysis method \n",
    "<hr style=\"border:2px solid #0077b9;\">\n",
    "<center>\n",
    "<img src=\"./imgs/arquitetura0.png\" alt=\"Arquitetura 1\" style=\"width: 500px;\"/>\n",
    "</center>"
   ]
  },
  {
   "cell_type": "markdown",
   "metadata": {
    "slideshow": {
     "slide_type": "slide"
    }
   },
   "source": [
    "## Web Services for Geospatial Big Data \n",
    "<hr style=\"border:2px solid #0077b9;\">\n",
    "<center>\n",
    "<img src=\"./imgs/arquitetura1.png\" alt=\"Arquitetura 1\" style=\"width: 1200px;\"/>\n",
    "</center>"
   ]
  },
  {
   "cell_type": "markdown",
   "metadata": {
    "slideshow": {
     "slide_type": "slide"
    }
   },
   "source": [
    "## Web Services for Geospatial Big Data<hr style=\"border:2px solid #0077b9;\">\n",
    "<center>\n",
    "<img src=\"./imgs/arquitetura2.png\" alt=\"Arquitetura 2\" style=\"width: 1200px;\"/>\n",
    "</center>"
   ]
  }
 ],
 "metadata": {
  "celltoolbar": "Slideshow",
  "kernelspec": {
   "display_name": "Python [default]",
   "language": "python",
   "name": "python2"
  },
  "language_info": {
   "codemirror_mode": {
    "name": "ipython",
    "version": 2
   },
   "file_extension": ".py",
   "mimetype": "text/x-python",
   "name": "python",
   "nbconvert_exporter": "python",
   "pygments_lexer": "ipython2",
   "version": "2.7.14"
  }
 },
 "nbformat": 4,
 "nbformat_minor": 2
}
