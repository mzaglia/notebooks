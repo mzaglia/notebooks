{
 "cells": [
  {
   "cell_type": "markdown",
   "metadata": {
    "slideshow": {
     "slide_type": "slide"
    }
   },
   "source": [
    "# SimpleGeo.py\n",
    "<hr style=\"border:2px solid #0077b9;\">\n",
    "\n",
    "SimpleGeo.py is a Python Client API for access data delivery over WFS and WTSS. "
   ]
  },
  {
   "cell_type": "markdown",
   "metadata": {
    "slideshow": {
     "slide_type": "subslide"
    }
   },
   "source": [
    "## GIT Repository\n",
    "<hr style=\"border:2px solid #0077b9;\">\n",
    "<img src=\"./imgs/simplegeo.git.png\" style=\"width: 1200px;\"/>\n",
    "URL: [github.com/e-sensing/simple_geo.py](github.com/e-sensing/simple_geo.py)"
   ]
  },
  {
   "cell_type": "markdown",
   "metadata": {
    "slideshow": {
     "slide_type": "slide"
    }
   },
   "source": [
    "## Using SimpleGeo.py\n",
    "<hr style=\"border:2px solid #0077b9;\">"
   ]
  },
  {
   "cell_type": "markdown",
   "metadata": {
    "slideshow": {
     "slide_type": "slide"
    }
   },
   "source": [
    "### Listing Features e Coverages\n",
    "<hr style=\"border:2px solid #0077b9;\">"
   ]
  },
  {
   "cell_type": "code",
   "execution_count": 4,
   "metadata": {
    "slideshow": {
     "slide_type": "subslide"
    }
   },
   "outputs": [
    {
     "name": "stdout",
     "output_type": "stream",
     "text": [
      "Features:\n",
      "\tesensing:amostras_cerrado\n",
      "\tesensing:estados_bra\n",
      "\tesensing:focos_bra_2016\n",
      "\tesensing:municipios_bra\n",
      "\n",
      "Coverages:\n",
      "\trpth\n"
     ]
    }
   ],
   "source": [
    "from SimpleGeo import SimpleGeo, Predicates as pre\n",
    "\n",
    "# connect to wfs and wtss servers\n",
    "s = SimpleGeo(wfs=\"http://www.terrama2.dpi.inpe.br/e-sensing/geoserver\", wtss=\"http://www.terrama2.dpi.inpe.br/e-sensing\")\n",
    "\n",
    "# print available features\n",
    "print(\"Features:\")\n",
    "for f in s.features()['features']:\n",
    "    print(\"\\t{}\".format(f))\n",
    "\n",
    "# print available coverages\n",
    "print(\"\\nCoverages:\")\n",
    "for c in s.coverages()['coverages']:\n",
    "    print(\"\\t{}\".format(c))"
   ]
  },
  {
   "cell_type": "markdown",
   "metadata": {
    "slideshow": {
     "slide_type": "slide"
    }
   },
   "source": [
    "## Retrieving Feature\n",
    "<hr style=\"border:2px solid #0077b9;\">"
   ]
  },
  {
   "cell_type": "code",
   "execution_count": 2,
   "metadata": {
    "slideshow": {
     "slide_type": "subslide"
    }
   },
   "outputs": [
    {
     "name": "stdout",
     "output_type": "stream",
     "text": [
      "Nome: esensing:estados_bra\n",
      "Tipo: MultiPolygon\n",
      "Atributos:\n",
      "\tnome        : string\n",
      "\tgeometria   : MultiPolygon\n",
      "\tpais        : string\n",
      "\tregiao      : string\n"
     ]
    }
   ],
   "source": [
    "# Feature estados_bra\n",
    "f = s.feature('esensing:estados_bra')\n",
    "\n",
    "metadata = f.describe()\n",
    "\n",
    "#print(metadata)\n",
    "\n",
    "print(\"Nome: {}\".format(metadata['full_name']))\n",
    "print(\"Tipo: {}\".format(metadata['geometry']['localtype']))\n",
    "\n",
    "print(\"Atributos:\")\n",
    "for att in metadata['attributes']:\n",
    "    print(\"\\t{:<12}: {}\".format(att['name'], att['localtype']))"
   ]
  },
  {
   "cell_type": "markdown",
   "metadata": {
    "slideshow": {
     "slide_type": "slide"
    }
   },
   "source": [
    "## Retrieving Coverages Metadata\n",
    "<hr style=\"border:2px solid #0077b9;\">"
   ]
  },
  {
   "cell_type": "code",
   "execution_count": 4,
   "metadata": {
    "slideshow": {
     "slide_type": "subslide"
    }
   },
   "outputs": [
    {
     "name": "stdout",
     "output_type": "stream",
     "text": [
      "Nome: rpth\n",
      "Proj4: +proj=longlat +ellps=WGS84 +datum=WGS84 +no_defs\n",
      "Timeline: 2016-01-02 ... 2016-12-31\n",
      "Atributos:\n",
      "\thumidity\n",
      "\tprecipitation\n",
      "\trisk\n",
      "\ttemperature\n"
     ]
    }
   ],
   "source": [
    "# Coverage rpth\n",
    "c = s.coverage('rpth')\n",
    "\n",
    "metadata = c.describe()\n",
    "print(\"Nome: {}\".format(metadata['name']))\n",
    "print(\"Proj4: {}\".format(metadata['crs']['proj4']))\n",
    "print(\"Timeline: {} ... {}\".format(metadata['timeline'][1], metadata['timeline'][-1]))\n",
    "print(\"Atributos:\")\n",
    "for att in metadata['attributes']:\n",
    "    print(\"\\t{}\".format(att))\n",
    "\n",
    "#print(metadata)"
   ]
  },
  {
   "cell_type": "markdown",
   "metadata": {
    "slideshow": {
     "slide_type": "slide"
    }
   },
   "source": [
    "## Retrieving Features\n",
    "<hr style=\"border:2px solid #0077b9;\">"
   ]
  },
  {
   "cell_type": "code",
   "execution_count": 5,
   "metadata": {
    "slideshow": {
     "slide_type": "subslide"
    }
   },
   "outputs": [
    {
     "data": {
      "text/html": [
       "<div>\n",
       "<style scoped>\n",
       "    .dataframe tbody tr th:only-of-type {\n",
       "        vertical-align: middle;\n",
       "    }\n",
       "\n",
       "    .dataframe tbody tr th {\n",
       "        vertical-align: top;\n",
       "    }\n",
       "\n",
       "    .dataframe thead th {\n",
       "        text-align: right;\n",
       "    }\n",
       "</style>\n",
       "<table border=\"1\" class=\"dataframe\">\n",
       "  <thead>\n",
       "    <tr style=\"text-align: right;\">\n",
       "      <th></th>\n",
       "      <th>bbox</th>\n",
       "      <th>geometry</th>\n",
       "      <th>nome</th>\n",
       "      <th>pais</th>\n",
       "      <th>regiao</th>\n",
       "    </tr>\n",
       "  </thead>\n",
       "  <tbody>\n",
       "    <tr>\n",
       "      <th>0</th>\n",
       "      <td>[-54.6193, -26.7171, -48.0235, -22.5163]</td>\n",
       "      <td>(POLYGON ((-52.0519 -22.5393, -52.0461 -22.539...</td>\n",
       "      <td>Paraná</td>\n",
       "      <td>Brazil</td>\n",
       "      <td>S</td>\n",
       "    </tr>\n",
       "    <tr>\n",
       "      <th>1</th>\n",
       "      <td>[-57.6439, -33.7521, -49.6914, -27.0823]</td>\n",
       "      <td>(POLYGON ((-53.0318 -27.1595, -53.0299 -27.159...</td>\n",
       "      <td>Rio Grande do Sul</td>\n",
       "      <td>Brazil</td>\n",
       "      <td>S</td>\n",
       "    </tr>\n",
       "    <tr>\n",
       "      <th>2</th>\n",
       "      <td>[-53.8369, -29.3551, -48.3271, -25.9558]</td>\n",
       "      <td>(POLYGON ((-48.8215 -28.6111, -48.8216 -28.611...</td>\n",
       "      <td>Santa Catarina</td>\n",
       "      <td>Brazil</td>\n",
       "      <td>S</td>\n",
       "    </tr>\n",
       "    <tr>\n",
       "      <th>3</th>\n",
       "      <td>[-51.0461, -22.9228, -39.8568, -14.2332]</td>\n",
       "      <td>(POLYGON ((-44.2098 -14.2446, -44.2091 -14.246...</td>\n",
       "      <td>Minas Gerais</td>\n",
       "      <td>Brazil</td>\n",
       "      <td>SE</td>\n",
       "    </tr>\n",
       "    <tr>\n",
       "      <th>4</th>\n",
       "      <td>[-44.8893, -23.3689, -40.9585, -20.7632]</td>\n",
       "      <td>(POLYGON ((-44.7189 -23.3591, -44.7196 -23.359...</td>\n",
       "      <td>Rio de Janeiro</td>\n",
       "      <td>Brazil</td>\n",
       "      <td>SE</td>\n",
       "    </tr>\n",
       "    <tr>\n",
       "      <th>5</th>\n",
       "      <td>[-38.2376, -10.5012, -35.152, -8.8131]</td>\n",
       "      <td>(POLYGON ((-35.4675 -8.817399999999999, -35.46...</td>\n",
       "      <td>Alagoas</td>\n",
       "      <td>Brazil</td>\n",
       "      <td>NE</td>\n",
       "    </tr>\n",
       "    <tr>\n",
       "      <th>6</th>\n",
       "      <td>[-46.6171, -18.3486, -37.3411, -8.5328]</td>\n",
       "      <td>(POLYGON ((-38.6548 -18.0424, -38.6582 -18.043...</td>\n",
       "      <td>Bahia</td>\n",
       "      <td>Brazil</td>\n",
       "      <td>NE</td>\n",
       "    </tr>\n",
       "    <tr>\n",
       "      <th>7</th>\n",
       "      <td>[-41.4235, -7.8582, -37.2533, -2.7842]</td>\n",
       "      <td>(POLYGON ((-40.4972 -2.7845, -40.4917 -2.7881,...</td>\n",
       "      <td>Ceará</td>\n",
       "      <td>Brazil</td>\n",
       "      <td>NE</td>\n",
       "    </tr>\n",
       "    <tr>\n",
       "      <th>8</th>\n",
       "      <td>[-48.7552, -10.2618, -41.7959, -1.044]</td>\n",
       "      <td>(POLYGON ((-43.9991 -2.3927, -43.9994 -2.3959,...</td>\n",
       "      <td>Maranhão</td>\n",
       "      <td>Brazil</td>\n",
       "      <td>NE</td>\n",
       "    </tr>\n",
       "    <tr>\n",
       "      <th>9</th>\n",
       "      <td>[-38.7656, -8.303, -34.7929, -6.0259]</td>\n",
       "      <td>(POLYGON ((-34.8595 -6.9842, -34.8583 -6.9843,...</td>\n",
       "      <td>Paraíba</td>\n",
       "      <td>Brazil</td>\n",
       "      <td>NE</td>\n",
       "    </tr>\n",
       "  </tbody>\n",
       "</table>\n",
       "</div>"
      ],
      "text/plain": [
       "                                       bbox  \\\n",
       "0  [-54.6193, -26.7171, -48.0235, -22.5163]   \n",
       "1  [-57.6439, -33.7521, -49.6914, -27.0823]   \n",
       "2  [-53.8369, -29.3551, -48.3271, -25.9558]   \n",
       "3  [-51.0461, -22.9228, -39.8568, -14.2332]   \n",
       "4  [-44.8893, -23.3689, -40.9585, -20.7632]   \n",
       "5    [-38.2376, -10.5012, -35.152, -8.8131]   \n",
       "6   [-46.6171, -18.3486, -37.3411, -8.5328]   \n",
       "7    [-41.4235, -7.8582, -37.2533, -2.7842]   \n",
       "8    [-48.7552, -10.2618, -41.7959, -1.044]   \n",
       "9     [-38.7656, -8.303, -34.7929, -6.0259]   \n",
       "\n",
       "                                            geometry               nome  \\\n",
       "0  (POLYGON ((-52.0519 -22.5393, -52.0461 -22.539...             Paraná   \n",
       "1  (POLYGON ((-53.0318 -27.1595, -53.0299 -27.159...  Rio Grande do Sul   \n",
       "2  (POLYGON ((-48.8215 -28.6111, -48.8216 -28.611...     Santa Catarina   \n",
       "3  (POLYGON ((-44.2098 -14.2446, -44.2091 -14.246...       Minas Gerais   \n",
       "4  (POLYGON ((-44.7189 -23.3591, -44.7196 -23.359...     Rio de Janeiro   \n",
       "5  (POLYGON ((-35.4675 -8.817399999999999, -35.46...            Alagoas   \n",
       "6  (POLYGON ((-38.6548 -18.0424, -38.6582 -18.043...              Bahia   \n",
       "7  (POLYGON ((-40.4972 -2.7845, -40.4917 -2.7881,...              Ceará   \n",
       "8  (POLYGON ((-43.9991 -2.3927, -43.9994 -2.3959,...           Maranhão   \n",
       "9  (POLYGON ((-34.8595 -6.9842, -34.8583 -6.9843,...            Paraíba   \n",
       "\n",
       "     pais regiao  \n",
       "0  Brazil     S   \n",
       "1  Brazil     S   \n",
       "2  Brazil     S   \n",
       "3  Brazil     SE  \n",
       "4  Brazil     SE  \n",
       "5  Brazil     NE  \n",
       "6  Brazil     NE  \n",
       "7  Brazil     NE  \n",
       "8  Brazil     NE  \n",
       "9  Brazil     NE  "
      ]
     },
     "metadata": {},
     "output_type": "display_data"
    }
   ],
   "source": [
    "f = s.feature('esensing:estados_bra')\n",
    "estados = f.get()\n",
    "# displaying \n",
    "display(estados.head(n=10))"
   ]
  },
  {
   "cell_type": "markdown",
   "metadata": {
    "slideshow": {
     "slide_type": "slide"
    }
   },
   "source": [
    "## SimpleGeo Features Methods\n",
    "<hr style=\"border:2px solid #0077b9;\">"
   ]
  },
  {
   "cell_type": "markdown",
   "metadata": {
    "slideshow": {
     "slide_type": "subslide"
    }
   },
   "source": [
    "### Retrieving Features methods\n",
    "\n",
    "\n",
    "- attributes: selects attributes to be retrieved\n",
    "- max_features: limit the number of features returned\n",
    "- sort_by: sorts by the returning features using one (ou more) attributes\n",
    "- filter: filtering features by its spatial and non-spatial attributes\n",
    "\n",
    "\n"
   ]
  },
  {
   "cell_type": "markdown",
   "metadata": {
    "slideshow": {
     "slide_type": "slide"
    }
   },
   "source": [
    "### attributes\n",
    "<hr style=\"border:2px solid #0077b9;\">"
   ]
  },
  {
   "cell_type": "code",
   "execution_count": 6,
   "metadata": {
    "slideshow": {
     "slide_type": "subslide"
    }
   },
   "outputs": [
    {
     "data": {
      "text/html": [
       "<div>\n",
       "<style scoped>\n",
       "    .dataframe tbody tr th:only-of-type {\n",
       "        vertical-align: middle;\n",
       "    }\n",
       "\n",
       "    .dataframe tbody tr th {\n",
       "        vertical-align: top;\n",
       "    }\n",
       "\n",
       "    .dataframe thead th {\n",
       "        text-align: right;\n",
       "    }\n",
       "</style>\n",
       "<table border=\"1\" class=\"dataframe\">\n",
       "  <thead>\n",
       "    <tr style=\"text-align: right;\">\n",
       "      <th></th>\n",
       "      <th>bbox</th>\n",
       "      <th>geometry</th>\n",
       "      <th>nome</th>\n",
       "      <th>regiao</th>\n",
       "    </tr>\n",
       "  </thead>\n",
       "  <tbody>\n",
       "    <tr>\n",
       "      <th>0</th>\n",
       "      <td>[-54.6193, -26.7171, -48.0235, -22.5163]</td>\n",
       "      <td>(POLYGON ((-52.0519 -22.5393, -52.0461 -22.539...</td>\n",
       "      <td>Paraná</td>\n",
       "      <td>S</td>\n",
       "    </tr>\n",
       "    <tr>\n",
       "      <th>1</th>\n",
       "      <td>[-57.6439, -33.7521, -49.6914, -27.0823]</td>\n",
       "      <td>(POLYGON ((-53.0318 -27.1595, -53.0299 -27.159...</td>\n",
       "      <td>Rio Grande do Sul</td>\n",
       "      <td>S</td>\n",
       "    </tr>\n",
       "    <tr>\n",
       "      <th>2</th>\n",
       "      <td>[-53.8369, -29.3551, -48.3271, -25.9558]</td>\n",
       "      <td>(POLYGON ((-48.8215 -28.6111, -48.8216 -28.611...</td>\n",
       "      <td>Santa Catarina</td>\n",
       "      <td>S</td>\n",
       "    </tr>\n",
       "    <tr>\n",
       "      <th>3</th>\n",
       "      <td>[-51.0461, -22.9228, -39.8568, -14.2332]</td>\n",
       "      <td>(POLYGON ((-44.2098 -14.2446, -44.2091 -14.246...</td>\n",
       "      <td>Minas Gerais</td>\n",
       "      <td>SE</td>\n",
       "    </tr>\n",
       "    <tr>\n",
       "      <th>4</th>\n",
       "      <td>[-44.8893, -23.3689, -40.9585, -20.7632]</td>\n",
       "      <td>(POLYGON ((-44.7189 -23.3591, -44.7196 -23.359...</td>\n",
       "      <td>Rio de Janeiro</td>\n",
       "      <td>SE</td>\n",
       "    </tr>\n",
       "    <tr>\n",
       "      <th>5</th>\n",
       "      <td>[-38.2376, -10.5012, -35.152, -8.8131]</td>\n",
       "      <td>(POLYGON ((-35.4675 -8.817399999999999, -35.46...</td>\n",
       "      <td>Alagoas</td>\n",
       "      <td>NE</td>\n",
       "    </tr>\n",
       "    <tr>\n",
       "      <th>6</th>\n",
       "      <td>[-46.6171, -18.3486, -37.3411, -8.5328]</td>\n",
       "      <td>(POLYGON ((-38.6548 -18.0424, -38.6582 -18.043...</td>\n",
       "      <td>Bahia</td>\n",
       "      <td>NE</td>\n",
       "    </tr>\n",
       "    <tr>\n",
       "      <th>7</th>\n",
       "      <td>[-41.4235, -7.8582, -37.2533, -2.7842]</td>\n",
       "      <td>(POLYGON ((-40.4972 -2.7845, -40.4917 -2.7881,...</td>\n",
       "      <td>Ceará</td>\n",
       "      <td>NE</td>\n",
       "    </tr>\n",
       "    <tr>\n",
       "      <th>8</th>\n",
       "      <td>[-48.7552, -10.2618, -41.7959, -1.044]</td>\n",
       "      <td>(POLYGON ((-43.9991 -2.3927, -43.9994 -2.3959,...</td>\n",
       "      <td>Maranhão</td>\n",
       "      <td>NE</td>\n",
       "    </tr>\n",
       "    <tr>\n",
       "      <th>9</th>\n",
       "      <td>[-38.7656, -8.303, -34.7929, -6.0259]</td>\n",
       "      <td>(POLYGON ((-34.8595 -6.9842, -34.8583 -6.9843,...</td>\n",
       "      <td>Paraíba</td>\n",
       "      <td>NE</td>\n",
       "    </tr>\n",
       "  </tbody>\n",
       "</table>\n",
       "</div>"
      ],
      "text/plain": [
       "                                       bbox  \\\n",
       "0  [-54.6193, -26.7171, -48.0235, -22.5163]   \n",
       "1  [-57.6439, -33.7521, -49.6914, -27.0823]   \n",
       "2  [-53.8369, -29.3551, -48.3271, -25.9558]   \n",
       "3  [-51.0461, -22.9228, -39.8568, -14.2332]   \n",
       "4  [-44.8893, -23.3689, -40.9585, -20.7632]   \n",
       "5    [-38.2376, -10.5012, -35.152, -8.8131]   \n",
       "6   [-46.6171, -18.3486, -37.3411, -8.5328]   \n",
       "7    [-41.4235, -7.8582, -37.2533, -2.7842]   \n",
       "8    [-48.7552, -10.2618, -41.7959, -1.044]   \n",
       "9     [-38.7656, -8.303, -34.7929, -6.0259]   \n",
       "\n",
       "                                            geometry               nome regiao  \n",
       "0  (POLYGON ((-52.0519 -22.5393, -52.0461 -22.539...             Paraná     S   \n",
       "1  (POLYGON ((-53.0318 -27.1595, -53.0299 -27.159...  Rio Grande do Sul     S   \n",
       "2  (POLYGON ((-48.8215 -28.6111, -48.8216 -28.611...     Santa Catarina     S   \n",
       "3  (POLYGON ((-44.2098 -14.2446, -44.2091 -14.246...       Minas Gerais     SE  \n",
       "4  (POLYGON ((-44.7189 -23.3591, -44.7196 -23.359...     Rio de Janeiro     SE  \n",
       "5  (POLYGON ((-35.4675 -8.817399999999999, -35.46...            Alagoas     NE  \n",
       "6  (POLYGON ((-38.6548 -18.0424, -38.6582 -18.043...              Bahia     NE  \n",
       "7  (POLYGON ((-40.4972 -2.7845, -40.4917 -2.7881,...              Ceará     NE  \n",
       "8  (POLYGON ((-43.9991 -2.3927, -43.9994 -2.3959,...           Maranhão     NE  \n",
       "9  (POLYGON ((-34.8595 -6.9842, -34.8583 -6.9843,...            Paraíba     NE  "
      ]
     },
     "metadata": {},
     "output_type": "display_data"
    }
   ],
   "source": [
    "f = s.feature('esensing:estados_bra').attributes(['nome','regiao'])\n",
    "estados = f.get()\n",
    "# displaying \n",
    "display(estados.head(n=10))"
   ]
  },
  {
   "cell_type": "markdown",
   "metadata": {
    "slideshow": {
     "slide_type": "slide"
    }
   },
   "source": [
    "### max_features\n",
    "<hr style=\"border:2px solid #0077b9;\">"
   ]
  },
  {
   "cell_type": "code",
   "execution_count": 7,
   "metadata": {
    "slideshow": {
     "slide_type": "subslide"
    }
   },
   "outputs": [
    {
     "data": {
      "text/html": [
       "<div>\n",
       "<style scoped>\n",
       "    .dataframe tbody tr th:only-of-type {\n",
       "        vertical-align: middle;\n",
       "    }\n",
       "\n",
       "    .dataframe tbody tr th {\n",
       "        vertical-align: top;\n",
       "    }\n",
       "\n",
       "    .dataframe thead th {\n",
       "        text-align: right;\n",
       "    }\n",
       "</style>\n",
       "<table border=\"1\" class=\"dataframe\">\n",
       "  <thead>\n",
       "    <tr style=\"text-align: right;\">\n",
       "      <th></th>\n",
       "      <th>bbox</th>\n",
       "      <th>geometry</th>\n",
       "      <th>nome</th>\n",
       "      <th>regiao</th>\n",
       "    </tr>\n",
       "  </thead>\n",
       "  <tbody>\n",
       "    <tr>\n",
       "      <th>0</th>\n",
       "      <td>[-54.6193, -26.7171, -48.0235, -22.5163]</td>\n",
       "      <td>(POLYGON ((-52.0519 -22.5393, -52.0461 -22.539...</td>\n",
       "      <td>Paraná</td>\n",
       "      <td>S</td>\n",
       "    </tr>\n",
       "    <tr>\n",
       "      <th>1</th>\n",
       "      <td>[-57.6439, -33.7521, -49.6914, -27.0823]</td>\n",
       "      <td>(POLYGON ((-53.0318 -27.1595, -53.0299 -27.159...</td>\n",
       "      <td>Rio Grande do Sul</td>\n",
       "      <td>S</td>\n",
       "    </tr>\n",
       "    <tr>\n",
       "      <th>2</th>\n",
       "      <td>[-53.8369, -29.3551, -48.3271, -25.9558]</td>\n",
       "      <td>(POLYGON ((-48.8215 -28.6111, -48.8216 -28.611...</td>\n",
       "      <td>Santa Catarina</td>\n",
       "      <td>S</td>\n",
       "    </tr>\n",
       "    <tr>\n",
       "      <th>3</th>\n",
       "      <td>[-51.0461, -22.9228, -39.8568, -14.2332]</td>\n",
       "      <td>(POLYGON ((-44.2098 -14.2446, -44.2091 -14.246...</td>\n",
       "      <td>Minas Gerais</td>\n",
       "      <td>SE</td>\n",
       "    </tr>\n",
       "    <tr>\n",
       "      <th>4</th>\n",
       "      <td>[-44.8893, -23.3689, -40.9585, -20.7632]</td>\n",
       "      <td>(POLYGON ((-44.7189 -23.3591, -44.7196 -23.359...</td>\n",
       "      <td>Rio de Janeiro</td>\n",
       "      <td>SE</td>\n",
       "    </tr>\n",
       "  </tbody>\n",
       "</table>\n",
       "</div>"
      ],
      "text/plain": [
       "                                       bbox  \\\n",
       "0  [-54.6193, -26.7171, -48.0235, -22.5163]   \n",
       "1  [-57.6439, -33.7521, -49.6914, -27.0823]   \n",
       "2  [-53.8369, -29.3551, -48.3271, -25.9558]   \n",
       "3  [-51.0461, -22.9228, -39.8568, -14.2332]   \n",
       "4  [-44.8893, -23.3689, -40.9585, -20.7632]   \n",
       "\n",
       "                                            geometry               nome regiao  \n",
       "0  (POLYGON ((-52.0519 -22.5393, -52.0461 -22.539...             Paraná     S   \n",
       "1  (POLYGON ((-53.0318 -27.1595, -53.0299 -27.159...  Rio Grande do Sul     S   \n",
       "2  (POLYGON ((-48.8215 -28.6111, -48.8216 -28.611...     Santa Catarina     S   \n",
       "3  (POLYGON ((-44.2098 -14.2446, -44.2091 -14.246...       Minas Gerais     SE  \n",
       "4  (POLYGON ((-44.7189 -23.3591, -44.7196 -23.359...     Rio de Janeiro     SE  "
      ]
     },
     "metadata": {},
     "output_type": "display_data"
    }
   ],
   "source": [
    "f = s.feature('esensing:estados_bra').attributes(['nome','regiao']).max_features(5)\n",
    "estados = f.get()\n",
    "# displaying\n",
    "display(estados)"
   ]
  },
  {
   "cell_type": "markdown",
   "metadata": {
    "slideshow": {
     "slide_type": "slide"
    }
   },
   "source": [
    "### sort_by\n",
    "<hr style=\"border:2px solid #0077b9;\">"
   ]
  },
  {
   "cell_type": "code",
   "execution_count": 8,
   "metadata": {
    "slideshow": {
     "slide_type": "subslide"
    }
   },
   "outputs": [
    {
     "data": {
      "text/html": [
       "<div>\n",
       "<style scoped>\n",
       "    .dataframe tbody tr th:only-of-type {\n",
       "        vertical-align: middle;\n",
       "    }\n",
       "\n",
       "    .dataframe tbody tr th {\n",
       "        vertical-align: top;\n",
       "    }\n",
       "\n",
       "    .dataframe thead th {\n",
       "        text-align: right;\n",
       "    }\n",
       "</style>\n",
       "<table border=\"1\" class=\"dataframe\">\n",
       "  <thead>\n",
       "    <tr style=\"text-align: right;\">\n",
       "      <th></th>\n",
       "      <th>bbox</th>\n",
       "      <th>geometry</th>\n",
       "      <th>nome</th>\n",
       "      <th>regiao</th>\n",
       "    </tr>\n",
       "  </thead>\n",
       "  <tbody>\n",
       "    <tr>\n",
       "      <th>0</th>\n",
       "      <td>[-73.9904, -11.1456, -66.6238, -7.1118]</td>\n",
       "      <td>(POLYGON ((-73.1825 -7.3355, -73.1367999999999...</td>\n",
       "      <td>Acre</td>\n",
       "      <td>N</td>\n",
       "    </tr>\n",
       "    <tr>\n",
       "      <th>1</th>\n",
       "      <td>[-38.2376, -10.5012, -35.152, -8.8131]</td>\n",
       "      <td>(POLYGON ((-35.4675 -8.817399999999999, -35.46...</td>\n",
       "      <td>Alagoas</td>\n",
       "      <td>NE</td>\n",
       "    </tr>\n",
       "    <tr>\n",
       "      <th>2</th>\n",
       "      <td>[-54.8763, -1.2362, -49.8762, 4.4367]</td>\n",
       "      <td>(POLYGON ((-50.1812 1.901, -50.1769 1.8992, -5...</td>\n",
       "      <td>Amapá</td>\n",
       "      <td>N</td>\n",
       "    </tr>\n",
       "    <tr>\n",
       "      <th>3</th>\n",
       "      <td>[-73.8016, -9.818, -56.0976, 2.2466]</td>\n",
       "      <td>(POLYGON ((-67.3261 2.0297, -67.3168 2.0012, -...</td>\n",
       "      <td>Amazonas</td>\n",
       "      <td>N</td>\n",
       "    </tr>\n",
       "    <tr>\n",
       "      <th>4</th>\n",
       "      <td>[-46.6171, -18.3486, -37.3411, -8.5328]</td>\n",
       "      <td>(POLYGON ((-38.6548 -18.0424, -38.6582 -18.043...</td>\n",
       "      <td>Bahia</td>\n",
       "      <td>NE</td>\n",
       "    </tr>\n",
       "  </tbody>\n",
       "</table>\n",
       "</div>"
      ],
      "text/plain": [
       "                                      bbox  \\\n",
       "0  [-73.9904, -11.1456, -66.6238, -7.1118]   \n",
       "1   [-38.2376, -10.5012, -35.152, -8.8131]   \n",
       "2    [-54.8763, -1.2362, -49.8762, 4.4367]   \n",
       "3     [-73.8016, -9.818, -56.0976, 2.2466]   \n",
       "4  [-46.6171, -18.3486, -37.3411, -8.5328]   \n",
       "\n",
       "                                            geometry      nome regiao  \n",
       "0  (POLYGON ((-73.1825 -7.3355, -73.1367999999999...      Acre     N   \n",
       "1  (POLYGON ((-35.4675 -8.817399999999999, -35.46...   Alagoas     NE  \n",
       "2  (POLYGON ((-50.1812 1.901, -50.1769 1.8992, -5...     Amapá     N   \n",
       "3  (POLYGON ((-67.3261 2.0297, -67.3168 2.0012, -...  Amazonas     N   \n",
       "4  (POLYGON ((-38.6548 -18.0424, -38.6582 -18.043...     Bahia     NE  "
      ]
     },
     "metadata": {},
     "output_type": "display_data"
    }
   ],
   "source": [
    "# ASC\n",
    "f = s.feature('esensing:estados_bra').attributes(['nome','regiao']).max_features(5).sort_by('nome')\n",
    "estados = f.get()\n",
    "# displaying\n",
    "display(estados)"
   ]
  },
  {
   "cell_type": "code",
   "execution_count": 5,
   "metadata": {
    "slideshow": {
     "slide_type": "subslide"
    }
   },
   "outputs": [
    {
     "data": {
      "text/html": [
       "<div>\n",
       "<style scoped>\n",
       "    .dataframe tbody tr th:only-of-type {\n",
       "        vertical-align: middle;\n",
       "    }\n",
       "\n",
       "    .dataframe tbody tr th {\n",
       "        vertical-align: top;\n",
       "    }\n",
       "\n",
       "    .dataframe thead th {\n",
       "        text-align: right;\n",
       "    }\n",
       "</style>\n",
       "<table border=\"1\" class=\"dataframe\">\n",
       "  <thead>\n",
       "    <tr style=\"text-align: right;\">\n",
       "      <th></th>\n",
       "      <th>bbox</th>\n",
       "      <th>geometry</th>\n",
       "      <th>nome</th>\n",
       "      <th>regiao</th>\n",
       "    </tr>\n",
       "  </thead>\n",
       "  <tbody>\n",
       "    <tr>\n",
       "      <th>0</th>\n",
       "      <td>[-50.7421, -13.4677, -45.6967, -5.1684]</td>\n",
       "      <td>(POLYGON ((-48.3588 -5.1701, -48.3562 -5.1719,...</td>\n",
       "      <td>Tocantins</td>\n",
       "      <td>N</td>\n",
       "    </tr>\n",
       "    <tr>\n",
       "      <th>1</th>\n",
       "      <td>[-38.245, -11.5687, -36.3939, -9.515]</td>\n",
       "      <td>(POLYGON ((-37.9924 -9.5251, -37.9893 -9.5274,...</td>\n",
       "      <td>Sergipe</td>\n",
       "      <td>NE</td>\n",
       "    </tr>\n",
       "    <tr>\n",
       "      <th>2</th>\n",
       "      <td>[-53.1101, -25.3123, -44.1614, -19.7797]</td>\n",
       "      <td>(POLYGON ((-48.0017 -25.2489, -48.0019 -25.249...</td>\n",
       "      <td>São Paulo</td>\n",
       "      <td>SE</td>\n",
       "    </tr>\n",
       "    <tr>\n",
       "      <th>3</th>\n",
       "      <td>[-53.8369, -29.3551, -48.3271, -25.9558]</td>\n",
       "      <td>(POLYGON ((-48.8215 -28.6111, -48.8216 -28.611...</td>\n",
       "      <td>Santa Catarina</td>\n",
       "      <td>S</td>\n",
       "    </tr>\n",
       "    <tr>\n",
       "      <th>4</th>\n",
       "      <td>[-64.8253, -1.5806, -58.8869, 5.2718]</td>\n",
       "      <td>(POLYGON ((-60.2005 5.2643, -60.1983 5.2605, -...</td>\n",
       "      <td>Roraima</td>\n",
       "      <td>N</td>\n",
       "    </tr>\n",
       "  </tbody>\n",
       "</table>\n",
       "</div>"
      ],
      "text/plain": [
       "                                       bbox  \\\n",
       "0   [-50.7421, -13.4677, -45.6967, -5.1684]   \n",
       "1     [-38.245, -11.5687, -36.3939, -9.515]   \n",
       "2  [-53.1101, -25.3123, -44.1614, -19.7797]   \n",
       "3  [-53.8369, -29.3551, -48.3271, -25.9558]   \n",
       "4     [-64.8253, -1.5806, -58.8869, 5.2718]   \n",
       "\n",
       "                                            geometry            nome regiao  \n",
       "0  (POLYGON ((-48.3588 -5.1701, -48.3562 -5.1719,...       Tocantins     N   \n",
       "1  (POLYGON ((-37.9924 -9.5251, -37.9893 -9.5274,...         Sergipe     NE  \n",
       "2  (POLYGON ((-48.0017 -25.2489, -48.0019 -25.249...       São Paulo     SE  \n",
       "3  (POLYGON ((-48.8215 -28.6111, -48.8216 -28.611...  Santa Catarina     S   \n",
       "4  (POLYGON ((-60.2005 5.2643, -60.1983 5.2605, -...         Roraima     N   "
      ]
     },
     "metadata": {},
     "output_type": "display_data"
    }
   ],
   "source": [
    "# DESC\n",
    "f = s.feature('esensing:estados_bra').attributes(['nome','regiao']).max_features(5).sort_by(pre.DESC('nome'))\n",
    "estados = f.get()\n",
    "# displaying\n",
    "display(estados)"
   ]
  },
  {
   "cell_type": "markdown",
   "metadata": {
    "slideshow": {
     "slide_type": "slide"
    }
   },
   "source": [
    "### filter\n",
    "<hr style=\"border:2px solid #0077b9;\">\n",
    "\n",
    "- Non-spatial predicates:\n",
    "    - EQ: equal\n",
    "    - NE: different\n",
    "    - LT: less than\n",
    "    - GT: greater than\n",
    "    - LE: less or equal than\n",
    "    - GE: greater or equal than\n",
    "    - AND: and\n",
    "    - OR: or"
   ]
  },
  {
   "cell_type": "markdown",
   "metadata": {
    "slideshow": {
     "slide_type": "subslide"
    }
   },
   "source": [
    "- Spatial predicates:\n",
    "    - WITHIN: within\n",
    "    - INTERSECTS: intersects"
   ]
  },
  {
   "cell_type": "code",
   "execution_count": 6,
   "metadata": {
    "slideshow": {
     "slide_type": "subslide"
    }
   },
   "outputs": [
    {
     "data": {
      "text/html": [
       "<div>\n",
       "<style scoped>\n",
       "    .dataframe tbody tr th:only-of-type {\n",
       "        vertical-align: middle;\n",
       "    }\n",
       "\n",
       "    .dataframe tbody tr th {\n",
       "        vertical-align: top;\n",
       "    }\n",
       "\n",
       "    .dataframe thead th {\n",
       "        text-align: right;\n",
       "    }\n",
       "</style>\n",
       "<table border=\"1\" class=\"dataframe\">\n",
       "  <thead>\n",
       "    <tr style=\"text-align: right;\">\n",
       "      <th></th>\n",
       "      <th>bbox</th>\n",
       "      <th>geometry</th>\n",
       "      <th>nome</th>\n",
       "      <th>pais</th>\n",
       "      <th>regiao</th>\n",
       "    </tr>\n",
       "  </thead>\n",
       "  <tbody>\n",
       "    <tr>\n",
       "      <th>0</th>\n",
       "      <td>[-54.6193, -26.7171, -48.0235, -22.5163]</td>\n",
       "      <td>(POLYGON ((-52.0519 -22.5393, -52.0461 -22.539...</td>\n",
       "      <td>Paraná</td>\n",
       "      <td>Brazil</td>\n",
       "      <td>S</td>\n",
       "    </tr>\n",
       "    <tr>\n",
       "      <th>1</th>\n",
       "      <td>[-57.6439, -33.7521, -49.6914, -27.0823]</td>\n",
       "      <td>(POLYGON ((-53.0318 -27.1595, -53.0299 -27.159...</td>\n",
       "      <td>Rio Grande do Sul</td>\n",
       "      <td>Brazil</td>\n",
       "      <td>S</td>\n",
       "    </tr>\n",
       "    <tr>\n",
       "      <th>2</th>\n",
       "      <td>[-53.8369, -29.3551, -48.3271, -25.9558]</td>\n",
       "      <td>(POLYGON ((-48.8215 -28.6111, -48.8216 -28.611...</td>\n",
       "      <td>Santa Catarina</td>\n",
       "      <td>Brazil</td>\n",
       "      <td>S</td>\n",
       "    </tr>\n",
       "  </tbody>\n",
       "</table>\n",
       "</div>"
      ],
      "text/plain": [
       "                                       bbox  \\\n",
       "0  [-54.6193, -26.7171, -48.0235, -22.5163]   \n",
       "1  [-57.6439, -33.7521, -49.6914, -27.0823]   \n",
       "2  [-53.8369, -29.3551, -48.3271, -25.9558]   \n",
       "\n",
       "                                            geometry               nome  \\\n",
       "0  (POLYGON ((-52.0519 -22.5393, -52.0461 -22.539...             Paraná   \n",
       "1  (POLYGON ((-53.0318 -27.1595, -53.0299 -27.159...  Rio Grande do Sul   \n",
       "2  (POLYGON ((-48.8215 -28.6111, -48.8216 -28.611...     Santa Catarina   \n",
       "\n",
       "     pais regiao  \n",
       "0  Brazil     S   \n",
       "1  Brazil     S   \n",
       "2  Brazil     S   "
      ]
     },
     "metadata": {},
     "output_type": "display_data"
    }
   ],
   "source": [
    "# Only South region\n",
    "f = s.feature('esensing:estados_bra')\\\n",
    "     .filter(pre.EQ('regiao','S'))\n",
    "estados = f.get()\n",
    "# displaying \n",
    "display(estados)"
   ]
  },
  {
   "cell_type": "code",
   "execution_count": 7,
   "metadata": {
    "slideshow": {
     "slide_type": "subslide"
    }
   },
   "outputs": [
    {
     "data": {
      "text/html": [
       "<div>\n",
       "<style scoped>\n",
       "    .dataframe tbody tr th:only-of-type {\n",
       "        vertical-align: middle;\n",
       "    }\n",
       "\n",
       "    .dataframe tbody tr th {\n",
       "        vertical-align: top;\n",
       "    }\n",
       "\n",
       "    .dataframe thead th {\n",
       "        text-align: right;\n",
       "    }\n",
       "</style>\n",
       "<table border=\"1\" class=\"dataframe\">\n",
       "  <thead>\n",
       "    <tr style=\"text-align: right;\">\n",
       "      <th></th>\n",
       "      <th>bbox</th>\n",
       "      <th>geometry</th>\n",
       "      <th>nome</th>\n",
       "      <th>pais</th>\n",
       "      <th>regiao</th>\n",
       "    </tr>\n",
       "  </thead>\n",
       "  <tbody>\n",
       "    <tr>\n",
       "      <th>0</th>\n",
       "      <td>[-54.6193, -26.7171, -48.0235, -22.5163]</td>\n",
       "      <td>(POLYGON ((-52.0519 -22.5393, -52.0461 -22.539...</td>\n",
       "      <td>Paraná</td>\n",
       "      <td>Brazil</td>\n",
       "      <td>S</td>\n",
       "    </tr>\n",
       "    <tr>\n",
       "      <th>1</th>\n",
       "      <td>[-57.6439, -33.7521, -49.6914, -27.0823]</td>\n",
       "      <td>(POLYGON ((-53.0318 -27.1595, -53.0299 -27.159...</td>\n",
       "      <td>Rio Grande do Sul</td>\n",
       "      <td>Brazil</td>\n",
       "      <td>S</td>\n",
       "    </tr>\n",
       "    <tr>\n",
       "      <th>2</th>\n",
       "      <td>[-53.8369, -29.3551, -48.3271, -25.9558]</td>\n",
       "      <td>(POLYGON ((-48.8215 -28.6111, -48.8216 -28.611...</td>\n",
       "      <td>Santa Catarina</td>\n",
       "      <td>Brazil</td>\n",
       "      <td>S</td>\n",
       "    </tr>\n",
       "    <tr>\n",
       "      <th>3</th>\n",
       "      <td>[-73.9904, -11.1456, -66.6238, -7.1118]</td>\n",
       "      <td>(POLYGON ((-73.1825 -7.3355, -73.1367999999999...</td>\n",
       "      <td>Acre</td>\n",
       "      <td>Brazil</td>\n",
       "      <td>N</td>\n",
       "    </tr>\n",
       "    <tr>\n",
       "      <th>4</th>\n",
       "      <td>[-54.8763, -1.2362, -49.8762, 4.4367]</td>\n",
       "      <td>(POLYGON ((-50.1812 1.901, -50.1769 1.8992, -5...</td>\n",
       "      <td>Amapá</td>\n",
       "      <td>Brazil</td>\n",
       "      <td>N</td>\n",
       "    </tr>\n",
       "    <tr>\n",
       "      <th>5</th>\n",
       "      <td>[-73.8016, -9.818, -56.0976, 2.2466]</td>\n",
       "      <td>(POLYGON ((-67.3261 2.0297, -67.3168 2.0012, -...</td>\n",
       "      <td>Amazonas</td>\n",
       "      <td>Brazil</td>\n",
       "      <td>N</td>\n",
       "    </tr>\n",
       "    <tr>\n",
       "      <th>6</th>\n",
       "      <td>[-58.8983, -9.8412, -46.0609, 2.591]</td>\n",
       "      <td>(POLYGON ((-46.0609 -1.0947, -46.0667 -1.1052,...</td>\n",
       "      <td>Pará</td>\n",
       "      <td>Brazil</td>\n",
       "      <td>N</td>\n",
       "    </tr>\n",
       "    <tr>\n",
       "      <th>7</th>\n",
       "      <td>[-66.8103, -13.6937, -59.7744, -7.9693]</td>\n",
       "      <td>(POLYGON ((-63.3272 -7.9767, -63.1184 -7.9771,...</td>\n",
       "      <td>Rondônia</td>\n",
       "      <td>Brazil</td>\n",
       "      <td>N</td>\n",
       "    </tr>\n",
       "    <tr>\n",
       "      <th>8</th>\n",
       "      <td>[-64.8253, -1.5806, -58.8869, 5.2718]</td>\n",
       "      <td>(POLYGON ((-60.2005 5.2643, -60.1983 5.2605, -...</td>\n",
       "      <td>Roraima</td>\n",
       "      <td>Brazil</td>\n",
       "      <td>N</td>\n",
       "    </tr>\n",
       "    <tr>\n",
       "      <th>9</th>\n",
       "      <td>[-50.7421, -13.4677, -45.6967, -5.1684]</td>\n",
       "      <td>(POLYGON ((-48.3588 -5.1701, -48.3562 -5.1719,...</td>\n",
       "      <td>Tocantins</td>\n",
       "      <td>Brazil</td>\n",
       "      <td>N</td>\n",
       "    </tr>\n",
       "  </tbody>\n",
       "</table>\n",
       "</div>"
      ],
      "text/plain": [
       "                                       bbox  \\\n",
       "0  [-54.6193, -26.7171, -48.0235, -22.5163]   \n",
       "1  [-57.6439, -33.7521, -49.6914, -27.0823]   \n",
       "2  [-53.8369, -29.3551, -48.3271, -25.9558]   \n",
       "3   [-73.9904, -11.1456, -66.6238, -7.1118]   \n",
       "4     [-54.8763, -1.2362, -49.8762, 4.4367]   \n",
       "5      [-73.8016, -9.818, -56.0976, 2.2466]   \n",
       "6      [-58.8983, -9.8412, -46.0609, 2.591]   \n",
       "7   [-66.8103, -13.6937, -59.7744, -7.9693]   \n",
       "8     [-64.8253, -1.5806, -58.8869, 5.2718]   \n",
       "9   [-50.7421, -13.4677, -45.6967, -5.1684]   \n",
       "\n",
       "                                            geometry               nome  \\\n",
       "0  (POLYGON ((-52.0519 -22.5393, -52.0461 -22.539...             Paraná   \n",
       "1  (POLYGON ((-53.0318 -27.1595, -53.0299 -27.159...  Rio Grande do Sul   \n",
       "2  (POLYGON ((-48.8215 -28.6111, -48.8216 -28.611...     Santa Catarina   \n",
       "3  (POLYGON ((-73.1825 -7.3355, -73.1367999999999...               Acre   \n",
       "4  (POLYGON ((-50.1812 1.901, -50.1769 1.8992, -5...              Amapá   \n",
       "5  (POLYGON ((-67.3261 2.0297, -67.3168 2.0012, -...           Amazonas   \n",
       "6  (POLYGON ((-46.0609 -1.0947, -46.0667 -1.1052,...               Pará   \n",
       "7  (POLYGON ((-63.3272 -7.9767, -63.1184 -7.9771,...           Rondônia   \n",
       "8  (POLYGON ((-60.2005 5.2643, -60.1983 5.2605, -...            Roraima   \n",
       "9  (POLYGON ((-48.3588 -5.1701, -48.3562 -5.1719,...          Tocantins   \n",
       "\n",
       "     pais regiao  \n",
       "0  Brazil     S   \n",
       "1  Brazil     S   \n",
       "2  Brazil     S   \n",
       "3  Brazil     N   \n",
       "4  Brazil     N   \n",
       "5  Brazil     N   \n",
       "6  Brazil     N   \n",
       "7  Brazil     N   \n",
       "8  Brazil     N   \n",
       "9  Brazil     N   "
      ]
     },
     "metadata": {},
     "output_type": "display_data"
    }
   ],
   "source": [
    "# South or North regions\n",
    "f = s.feature('esensing:estados_bra')\\\n",
    "     .filter(pre.OR(\n",
    "             pre.EQ('regiao','S'),\n",
    "             pre.EQ('regiao','N')\n",
    "         ))\n",
    "estados = f.get()\n",
    "# displaying \n",
    "display(estados)"
   ]
  },
  {
   "cell_type": "code",
   "execution_count": 8,
   "metadata": {
    "slideshow": {
     "slide_type": "subslide"
    }
   },
   "outputs": [
    {
     "data": {
      "text/html": [
       "<div>\n",
       "<style scoped>\n",
       "    .dataframe tbody tr th:only-of-type {\n",
       "        vertical-align: middle;\n",
       "    }\n",
       "\n",
       "    .dataframe tbody tr th {\n",
       "        vertical-align: top;\n",
       "    }\n",
       "\n",
       "    .dataframe thead th {\n",
       "        text-align: right;\n",
       "    }\n",
       "</style>\n",
       "<table border=\"1\" class=\"dataframe\">\n",
       "  <thead>\n",
       "    <tr style=\"text-align: right;\">\n",
       "      <th></th>\n",
       "      <th>bbox</th>\n",
       "      <th>geometry</th>\n",
       "      <th>id</th>\n",
       "      <th>municipio</th>\n",
       "      <th>regiao</th>\n",
       "      <th>timestamp</th>\n",
       "    </tr>\n",
       "  </thead>\n",
       "  <tbody>\n",
       "    <tr>\n",
       "      <th>0</th>\n",
       "      <td>[-51.499, -27.415, -51.499, -27.415]</td>\n",
       "      <td>POINT (-51.499 -27.415)</td>\n",
       "      <td>48020995</td>\n",
       "      <td>Zortéa</td>\n",
       "      <td>S</td>\n",
       "      <td>2016-08-06T16:55:00Z</td>\n",
       "    </tr>\n",
       "    <tr>\n",
       "      <th>1</th>\n",
       "      <td>[-51.544, -27.543, -51.544, -27.543]</td>\n",
       "      <td>POINT (-51.544 -27.543)</td>\n",
       "      <td>48021014</td>\n",
       "      <td>Zortéa</td>\n",
       "      <td>S</td>\n",
       "      <td>2016-12-01T17:00:00Z</td>\n",
       "    </tr>\n",
       "    <tr>\n",
       "      <th>2</th>\n",
       "      <td>[-51.556, -27.51, -51.556, -27.51]</td>\n",
       "      <td>POINT (-51.556 -27.51)</td>\n",
       "      <td>48020989</td>\n",
       "      <td>Zortéa</td>\n",
       "      <td>S</td>\n",
       "      <td>2016-08-06T16:54:39Z</td>\n",
       "    </tr>\n",
       "    <tr>\n",
       "      <th>3</th>\n",
       "      <td>[-51.565, -27.511, -51.565, -27.511]</td>\n",
       "      <td>POINT (-51.565 -27.511)</td>\n",
       "      <td>48020993</td>\n",
       "      <td>Zortéa</td>\n",
       "      <td>S</td>\n",
       "      <td>2016-08-06T16:54:39Z</td>\n",
       "    </tr>\n",
       "    <tr>\n",
       "      <th>4</th>\n",
       "      <td>[-51.558, -27.512, -51.558, -27.512]</td>\n",
       "      <td>POINT (-51.558 -27.512)</td>\n",
       "      <td>48020997</td>\n",
       "      <td>Zortéa</td>\n",
       "      <td>S</td>\n",
       "      <td>2016-08-06T16:55:00Z</td>\n",
       "    </tr>\n",
       "    <tr>\n",
       "      <th>5</th>\n",
       "      <td>[-51.569, -27.475, -51.569, -27.475]</td>\n",
       "      <td>POINT (-51.569 -27.475)</td>\n",
       "      <td>48021013</td>\n",
       "      <td>Zortéa</td>\n",
       "      <td>S</td>\n",
       "      <td>2016-08-28T04:15:00Z</td>\n",
       "    </tr>\n",
       "    <tr>\n",
       "      <th>6</th>\n",
       "      <td>[-51.503, -27.416, -51.503, -27.416]</td>\n",
       "      <td>POINT (-51.503 -27.416)</td>\n",
       "      <td>48020985</td>\n",
       "      <td>Zortéa</td>\n",
       "      <td>S</td>\n",
       "      <td>2016-08-06T17:04:37Z</td>\n",
       "    </tr>\n",
       "    <tr>\n",
       "      <th>7</th>\n",
       "      <td>[-51.497, -27.417, -51.497, -27.417]</td>\n",
       "      <td>POINT (-51.497 -27.417)</td>\n",
       "      <td>48020987</td>\n",
       "      <td>Zortéa</td>\n",
       "      <td>S</td>\n",
       "      <td>2016-08-06T16:54:39Z</td>\n",
       "    </tr>\n",
       "    <tr>\n",
       "      <th>8</th>\n",
       "      <td>[-51.563, -27.513, -51.563, -27.513]</td>\n",
       "      <td>POINT (-51.563 -27.513)</td>\n",
       "      <td>48020991</td>\n",
       "      <td>Zortéa</td>\n",
       "      <td>S</td>\n",
       "      <td>2016-08-06T16:55:00Z</td>\n",
       "    </tr>\n",
       "    <tr>\n",
       "      <th>9</th>\n",
       "      <td>[-51.504, -27.458, -51.504, -27.458]</td>\n",
       "      <td>POINT (-51.504 -27.458)</td>\n",
       "      <td>48021018</td>\n",
       "      <td>Zortéa</td>\n",
       "      <td>S</td>\n",
       "      <td>2016-07-29T17:45:00Z</td>\n",
       "    </tr>\n",
       "  </tbody>\n",
       "</table>\n",
       "</div>"
      ],
      "text/plain": [
       "                                   bbox                 geometry        id  \\\n",
       "0  [-51.499, -27.415, -51.499, -27.415]  POINT (-51.499 -27.415)  48020995   \n",
       "1  [-51.544, -27.543, -51.544, -27.543]  POINT (-51.544 -27.543)  48021014   \n",
       "2    [-51.556, -27.51, -51.556, -27.51]   POINT (-51.556 -27.51)  48020989   \n",
       "3  [-51.565, -27.511, -51.565, -27.511]  POINT (-51.565 -27.511)  48020993   \n",
       "4  [-51.558, -27.512, -51.558, -27.512]  POINT (-51.558 -27.512)  48020997   \n",
       "5  [-51.569, -27.475, -51.569, -27.475]  POINT (-51.569 -27.475)  48021013   \n",
       "6  [-51.503, -27.416, -51.503, -27.416]  POINT (-51.503 -27.416)  48020985   \n",
       "7  [-51.497, -27.417, -51.497, -27.417]  POINT (-51.497 -27.417)  48020987   \n",
       "8  [-51.563, -27.513, -51.563, -27.513]  POINT (-51.563 -27.513)  48020991   \n",
       "9  [-51.504, -27.458, -51.504, -27.458]  POINT (-51.504 -27.458)  48021018   \n",
       "\n",
       "  municipio regiao             timestamp  \n",
       "0    Zortéa     S   2016-08-06T16:55:00Z  \n",
       "1    Zortéa     S   2016-12-01T17:00:00Z  \n",
       "2    Zortéa     S   2016-08-06T16:54:39Z  \n",
       "3    Zortéa     S   2016-08-06T16:54:39Z  \n",
       "4    Zortéa     S   2016-08-06T16:55:00Z  \n",
       "5    Zortéa     S   2016-08-28T04:15:00Z  \n",
       "6    Zortéa     S   2016-08-06T17:04:37Z  \n",
       "7    Zortéa     S   2016-08-06T16:54:39Z  \n",
       "8    Zortéa     S   2016-08-06T16:55:00Z  \n",
       "9    Zortéa     S   2016-07-29T17:45:00Z  "
      ]
     },
     "metadata": {},
     "output_type": "display_data"
    }
   ],
   "source": [
    "f = s.feature(\"esensing:focos_bra_2016\") \\\n",
    "    .attributes([\"id\", \"municipio\", \"timestamp\", \"regiao\"]) \\\n",
    "    .filter(pre.OR(\n",
    "    pre.AND(\n",
    "        pre.EQ(\"satelite_referencia\", \"true\"),\n",
    "        pre.GE(\"timestamp\", \"2016-01-01\"),\n",
    "        pre.LT(\"timestamp\", \"2016-02-01\"),\n",
    "        pre.WITHIN(\n",
    "            \"POLYGON((-49.515628859948507 -19.394602563415745,-48.020567850467053 -19.610579617637825,-48.354439522883652 -21.052347219666608,-49.849500507163917 -20.836369963642884,-49.515628859948507 -19.394602563415745))\"),\n",
    "    ), \\\n",
    "    pre.NE(\"regiao\", \"SE\") \\\n",
    "    )) \\\n",
    "    .max_features(10) \\\n",
    "    .sort_by(pre.DESC(\"municipio\"))\n",
    "    \n",
    "focos = f.get()\n",
    "display(focos)"
   ]
  },
  {
   "cell_type": "markdown",
   "metadata": {
    "slideshow": {
     "slide_type": "slide"
    }
   },
   "source": [
    "## Time Series\n",
    "<hr style=\"border:2px solid #0077b9;\">"
   ]
  },
  {
   "cell_type": "code",
   "execution_count": 9,
   "metadata": {
    "slideshow": {
     "slide_type": "subslide"
    }
   },
   "outputs": [
    {
     "data": {
      "text/html": [
       "<div>\n",
       "<style scoped>\n",
       "    .dataframe tbody tr th:only-of-type {\n",
       "        vertical-align: middle;\n",
       "    }\n",
       "\n",
       "    .dataframe tbody tr th {\n",
       "        vertical-align: top;\n",
       "    }\n",
       "\n",
       "    .dataframe thead th {\n",
       "        text-align: right;\n",
       "    }\n",
       "</style>\n",
       "<table border=\"1\" class=\"dataframe\">\n",
       "  <thead>\n",
       "    <tr style=\"text-align: right;\">\n",
       "      <th></th>\n",
       "      <th>humidity</th>\n",
       "      <th>precipitation</th>\n",
       "      <th>risk</th>\n",
       "      <th>temperature</th>\n",
       "    </tr>\n",
       "  </thead>\n",
       "  <tbody>\n",
       "    <tr>\n",
       "      <th>2016-01-01</th>\n",
       "      <td>0.620963</td>\n",
       "      <td>0.840492</td>\n",
       "      <td>0.047310</td>\n",
       "      <td>303.245178</td>\n",
       "    </tr>\n",
       "    <tr>\n",
       "      <th>2016-01-02</th>\n",
       "      <td>0.531946</td>\n",
       "      <td>5.364658</td>\n",
       "      <td>0.021442</td>\n",
       "      <td>303.892456</td>\n",
       "    </tr>\n",
       "    <tr>\n",
       "      <th>2016-01-03</th>\n",
       "      <td>0.734242</td>\n",
       "      <td>2.840686</td>\n",
       "      <td>0.029456</td>\n",
       "      <td>300.913147</td>\n",
       "    </tr>\n",
       "    <tr>\n",
       "      <th>2016-01-04</th>\n",
       "      <td>0.535269</td>\n",
       "      <td>3.866830</td>\n",
       "      <td>0.034228</td>\n",
       "      <td>304.197449</td>\n",
       "    </tr>\n",
       "  </tbody>\n",
       "</table>\n",
       "</div>"
      ],
      "text/plain": [
       "            humidity  precipitation      risk  temperature\n",
       "2016-01-01  0.620963       0.840492  0.047310   303.245178\n",
       "2016-01-02  0.531946       5.364658  0.021442   303.892456\n",
       "2016-01-03  0.734242       2.840686  0.029456   300.913147\n",
       "2016-01-04  0.535269       3.866830  0.034228   304.197449"
      ]
     },
     "metadata": {},
     "output_type": "display_data"
    }
   ],
   "source": [
    "from shapely.geometry import Point\n",
    "# Time Series\n",
    "\n",
    "c = s.coverage(\"rpth\") \\\n",
    "    .attributes([\"precipitation\", \"risk\", \"temperature\", \"humidity\"])\n",
    "\n",
    "ts = s.time_series(c) \\\n",
    "    .period(\"2016-01-01\", \"2016-01-04\")\n",
    "\n",
    "ts_data = ts.get(Point(-54.0, -12.0))\n",
    "display(ts_data)"
   ]
  },
  {
   "cell_type": "code",
   "execution_count": 10,
   "metadata": {
    "slideshow": {
     "slide_type": "subslide"
    }
   },
   "outputs": [
    {
     "data": {
      "text/html": [
       "<div>\n",
       "<style scoped>\n",
       "    .dataframe tbody tr th:only-of-type {\n",
       "        vertical-align: middle;\n",
       "    }\n",
       "\n",
       "    .dataframe tbody tr th {\n",
       "        vertical-align: top;\n",
       "    }\n",
       "\n",
       "    .dataframe thead th {\n",
       "        text-align: right;\n",
       "    }\n",
       "</style>\n",
       "<table border=\"1\" class=\"dataframe\">\n",
       "  <thead>\n",
       "    <tr style=\"text-align: right;\">\n",
       "      <th></th>\n",
       "      <th>humidity</th>\n",
       "      <th>precipitation</th>\n",
       "      <th>risk</th>\n",
       "      <th>temperature</th>\n",
       "    </tr>\n",
       "  </thead>\n",
       "  <tbody>\n",
       "    <tr>\n",
       "      <th>2016-01-01</th>\n",
       "      <td>0.620963</td>\n",
       "      <td>0.840492</td>\n",
       "      <td>0.047310</td>\n",
       "      <td>303.245178</td>\n",
       "    </tr>\n",
       "    <tr>\n",
       "      <th>2016-01-02</th>\n",
       "      <td>0.531946</td>\n",
       "      <td>5.364658</td>\n",
       "      <td>0.021442</td>\n",
       "      <td>303.892456</td>\n",
       "    </tr>\n",
       "    <tr>\n",
       "      <th>2016-01-03</th>\n",
       "      <td>0.734242</td>\n",
       "      <td>2.840686</td>\n",
       "      <td>0.029456</td>\n",
       "      <td>300.913147</td>\n",
       "    </tr>\n",
       "    <tr>\n",
       "      <th>2016-01-04</th>\n",
       "      <td>0.535269</td>\n",
       "      <td>3.866830</td>\n",
       "      <td>0.034228</td>\n",
       "      <td>304.197449</td>\n",
       "    </tr>\n",
       "  </tbody>\n",
       "</table>\n",
       "</div>"
      ],
      "text/plain": [
       "            humidity  precipitation      risk  temperature\n",
       "2016-01-01  0.620963       0.840492  0.047310   303.245178\n",
       "2016-01-02  0.531946       5.364658  0.021442   303.892456\n",
       "2016-01-03  0.734242       2.840686  0.029456   300.913147\n",
       "2016-01-04  0.535269       3.866830  0.034228   304.197449"
      ]
     },
     "metadata": {},
     "output_type": "display_data"
    },
    {
     "data": {
      "text/html": [
       "<div>\n",
       "<style scoped>\n",
       "    .dataframe tbody tr th:only-of-type {\n",
       "        vertical-align: middle;\n",
       "    }\n",
       "\n",
       "    .dataframe tbody tr th {\n",
       "        vertical-align: top;\n",
       "    }\n",
       "\n",
       "    .dataframe thead th {\n",
       "        text-align: right;\n",
       "    }\n",
       "</style>\n",
       "<table border=\"1\" class=\"dataframe\">\n",
       "  <thead>\n",
       "    <tr style=\"text-align: right;\">\n",
       "      <th></th>\n",
       "      <th>humidity</th>\n",
       "      <th>precipitation</th>\n",
       "      <th>risk</th>\n",
       "      <th>temperature</th>\n",
       "    </tr>\n",
       "  </thead>\n",
       "  <tbody>\n",
       "    <tr>\n",
       "      <th>2016-01-01</th>\n",
       "      <td>0.570955</td>\n",
       "      <td>1.923350</td>\n",
       "      <td>0.042945</td>\n",
       "      <td>303.669464</td>\n",
       "    </tr>\n",
       "    <tr>\n",
       "      <th>2016-01-02</th>\n",
       "      <td>0.667068</td>\n",
       "      <td>5.284581</td>\n",
       "      <td>0.024789</td>\n",
       "      <td>301.866028</td>\n",
       "    </tr>\n",
       "    <tr>\n",
       "      <th>2016-01-03</th>\n",
       "      <td>0.790824</td>\n",
       "      <td>5.740402</td>\n",
       "      <td>0.018523</td>\n",
       "      <td>299.142426</td>\n",
       "    </tr>\n",
       "    <tr>\n",
       "      <th>2016-01-04</th>\n",
       "      <td>0.460336</td>\n",
       "      <td>0.241759</td>\n",
       "      <td>0.102072</td>\n",
       "      <td>305.305603</td>\n",
       "    </tr>\n",
       "  </tbody>\n",
       "</table>\n",
       "</div>"
      ],
      "text/plain": [
       "            humidity  precipitation      risk  temperature\n",
       "2016-01-01  0.570955       1.923350  0.042945   303.669464\n",
       "2016-01-02  0.667068       5.284581  0.024789   301.866028\n",
       "2016-01-03  0.790824       5.740402  0.018523   299.142426\n",
       "2016-01-04  0.460336       0.241759  0.102072   305.305603"
      ]
     },
     "metadata": {},
     "output_type": "display_data"
    }
   ],
   "source": [
    "# Lista de Pontos\n",
    "ts_data = ts.get([Point(-54.0, -12.0), Point(-54.0, -13.0)])\n",
    "for t in ts_data:\n",
    "    display(t)"
   ]
  },
  {
   "cell_type": "markdown",
   "metadata": {
    "slideshow": {
     "slide_type": "slide"
    }
   },
   "source": [
    "## Integrating Features Time Series data\n",
    "<hr style=\"border:2px solid #0077b9;\">"
   ]
  },
  {
   "cell_type": "code",
   "execution_count": 12,
   "metadata": {
    "slideshow": {
     "slide_type": "subslide"
    }
   },
   "outputs": [
    {
     "data": {
      "text/html": [
       "<div>\n",
       "<style scoped>\n",
       "    .dataframe tbody tr th:only-of-type {\n",
       "        vertical-align: middle;\n",
       "    }\n",
       "\n",
       "    .dataframe tbody tr th {\n",
       "        vertical-align: top;\n",
       "    }\n",
       "\n",
       "    .dataframe thead th {\n",
       "        text-align: right;\n",
       "    }\n",
       "</style>\n",
       "<table border=\"1\" class=\"dataframe\">\n",
       "  <thead>\n",
       "    <tr style=\"text-align: right;\">\n",
       "      <th></th>\n",
       "      <th>bbox</th>\n",
       "      <th>geometry</th>\n",
       "      <th>id</th>\n",
       "      <th>municipio</th>\n",
       "      <th>regiao</th>\n",
       "      <th>timestamp</th>\n",
       "      <th>humidity</th>\n",
       "      <th>precipitation</th>\n",
       "      <th>risk</th>\n",
       "      <th>temperature</th>\n",
       "    </tr>\n",
       "  </thead>\n",
       "  <tbody>\n",
       "    <tr>\n",
       "      <th>0</th>\n",
       "      <td>[-52.31, -2.95, -52.31, -2.95]</td>\n",
       "      <td>POINT (-52.31 -2.95)</td>\n",
       "      <td>45276709</td>\n",
       "      <td>Vitória Do Xingu</td>\n",
       "      <td>N</td>\n",
       "      <td>2016-01-01T00:00:00Z</td>\n",
       "      <td>0.565847</td>\n",
       "      <td>2.938754</td>\n",
       "      <td>0.536405</td>\n",
       "      <td>304.520020</td>\n",
       "    </tr>\n",
       "    <tr>\n",
       "      <th>1</th>\n",
       "      <td>[-63.68, 0.5, -63.68, 0.5]</td>\n",
       "      <td>POINT (-63.68 0.5)</td>\n",
       "      <td>25231226</td>\n",
       "      <td>Barcelos</td>\n",
       "      <td>N</td>\n",
       "      <td>2016-01-01T00:00:00Z</td>\n",
       "      <td>0.473713</td>\n",
       "      <td>0.000000</td>\n",
       "      <td>0.415944</td>\n",
       "      <td>305.005859</td>\n",
       "    </tr>\n",
       "    <tr>\n",
       "      <th>2</th>\n",
       "      <td>[-63.66, 0.5, -63.66, 0.5]</td>\n",
       "      <td>POINT (-63.66 0.5)</td>\n",
       "      <td>25239660</td>\n",
       "      <td>Barcelos</td>\n",
       "      <td>N</td>\n",
       "      <td>2016-01-01T00:00:00Z</td>\n",
       "      <td>0.473829</td>\n",
       "      <td>0.000000</td>\n",
       "      <td>0.438030</td>\n",
       "      <td>305.018280</td>\n",
       "    </tr>\n",
       "    <tr>\n",
       "      <th>3</th>\n",
       "      <td>[-52.33, -2.95, -52.33, -2.95]</td>\n",
       "      <td>POINT (-52.33 -2.95)</td>\n",
       "      <td>42899497</td>\n",
       "      <td>Brasil Novo</td>\n",
       "      <td>N</td>\n",
       "      <td>2016-01-01T00:00:00Z</td>\n",
       "      <td>0.567601</td>\n",
       "      <td>2.650581</td>\n",
       "      <td>1.000000</td>\n",
       "      <td>304.486359</td>\n",
       "    </tr>\n",
       "    <tr>\n",
       "      <th>4</th>\n",
       "      <td>[-61.1, -11.34, -61.1, -11.34]</td>\n",
       "      <td>POINT (-61.1 -11.34)</td>\n",
       "      <td>46941054</td>\n",
       "      <td>Cacoal</td>\n",
       "      <td>N</td>\n",
       "      <td>2016-01-01T00:00:00Z</td>\n",
       "      <td>0.623452</td>\n",
       "      <td>0.027066</td>\n",
       "      <td>0.154713</td>\n",
       "      <td>302.489166</td>\n",
       "    </tr>\n",
       "  </tbody>\n",
       "</table>\n",
       "</div>"
      ],
      "text/plain": [
       "                             bbox              geometry        id  \\\n",
       "0  [-52.31, -2.95, -52.31, -2.95]  POINT (-52.31 -2.95)  45276709   \n",
       "1      [-63.68, 0.5, -63.68, 0.5]    POINT (-63.68 0.5)  25231226   \n",
       "2      [-63.66, 0.5, -63.66, 0.5]    POINT (-63.66 0.5)  25239660   \n",
       "3  [-52.33, -2.95, -52.33, -2.95]  POINT (-52.33 -2.95)  42899497   \n",
       "4  [-61.1, -11.34, -61.1, -11.34]  POINT (-61.1 -11.34)  46941054   \n",
       "\n",
       "          municipio regiao             timestamp  humidity  precipitation  \\\n",
       "0  Vitória Do Xingu     N   2016-01-01T00:00:00Z  0.565847       2.938754   \n",
       "1          Barcelos     N   2016-01-01T00:00:00Z  0.473713       0.000000   \n",
       "2          Barcelos     N   2016-01-01T00:00:00Z  0.473829       0.000000   \n",
       "3       Brasil Novo     N   2016-01-01T00:00:00Z  0.567601       2.650581   \n",
       "4            Cacoal     N   2016-01-01T00:00:00Z  0.623452       0.027066   \n",
       "\n",
       "       risk  temperature  \n",
       "0  0.536405   304.520020  \n",
       "1  0.415944   305.005859  \n",
       "2  0.438030   305.018280  \n",
       "3  1.000000   304.486359  \n",
       "4  0.154713   302.489166  "
      ]
     },
     "metadata": {},
     "output_type": "display_data"
    }
   ],
   "source": [
    "# Time Series\n",
    "c = s.coverage(\"rpth\") \\\n",
    "    .attributes([\"precipitation\", \"risk\", \"temperature\", \"humidity\"])\n",
    "ts = s.time_series(c)\n",
    "\n",
    "# Feature + Time Series\n",
    "f = s.feature(\"esensing:focos_bra_2016\") \\\n",
    "    .attributes(\n",
    "    [\"id\", \"municipio\", \"timestamp\", \"regiao\",\n",
    "     {'time_series': ts, 'start_date': 0, 'end_date': 0, 'datetime': 'timestamp'}]) \\\n",
    "    .sort_by(\"timestamp\") \\\n",
    "    .max_features(5)\n",
    "display(f.get())"
   ]
  },
  {
   "cell_type": "markdown",
   "metadata": {
    "slideshow": {
     "slide_type": "slide"
    }
   },
   "source": [
    "### Cache\n",
    "<hr style=\"border:2px solid #0077b9;\">\n"
   ]
  },
  {
   "cell_type": "code",
   "execution_count": null,
   "metadata": {
    "slideshow": {
     "slide_type": "subslide"
    }
   },
   "outputs": [],
   "source": [
    "from SimpleGeo import Predicates as pre\n",
    "import time\n",
    "\n",
    "# connect to wfs and wtss servers\n",
    "s = SimpleGeo(wfs=\"http://www.terrama2.dpi.inpe.br/e-sensing/geoserver\", wtss=\"http://www.terrama2.dpi.inpe.br/e-sensing\", cache=True, cache_dir=\"/tmp/.cache\")\n",
    "s.clear_cache()\n",
    "f = s.feature(\"esensing:focos_bra_2016\") \\\n",
    "    .attributes([\"id\", \"municipio\", \"timestamp\", \"regiao\"]) \\\n",
    "    .filter(pre.OR(\n",
    "    pre.AND(\n",
    "        pre.EQ(\"satelite_referencia\", \"true\"),\n",
    "        pre.GE(\"timestamp\", \"2016-01-01\"),\n",
    "        pre.LT(\"timestamp\", \"2016-02-01\"),\n",
    "        pre.WITHIN(\n",
    "            \"POLYGON((-49.515628859948507 -19.394602563415745,-48.020567850467053 -19.610579617637825,-48.354439522883652 -21.052347219666608,-49.849500507163917 -20.836369963642884,-49.515628859948507 -19.394602563415745))\"),\n",
    "    ), \\\n",
    "    pre.NE(\"regiao\", \"SE\") \\\n",
    "    )) \\\n",
    "    .max_features(10) \\\n",
    "    .sort_by(pre.DESC(\"municipio\"))\n",
    "\n",
    "start = time.time()\n",
    "focos = f.get()\n",
    "end = time.time()\n",
    "\n",
    "# total time\n",
    "print(\"Elapsed time: {}s\".format(end-start))"
   ]
  }
 ],
 "metadata": {
  "celltoolbar": "Slideshow",
  "kernelspec": {
   "display_name": "Python [conda env:simplegeo]",
   "language": "python",
   "name": "conda-env-simplegeo-py"
  },
  "language_info": {
   "codemirror_mode": {
    "name": "ipython",
    "version": 2
   },
   "file_extension": ".py",
   "mimetype": "text/x-python",
   "name": "python",
   "nbconvert_exporter": "python",
   "pygments_lexer": "ipython2",
   "version": "2.7.14"
  }
 },
 "nbformat": 4,
 "nbformat_minor": 2
}
