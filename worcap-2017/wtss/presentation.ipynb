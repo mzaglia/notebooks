{
 "cells": [
  {
   "cell_type": "markdown",
   "metadata": {
    "slideshow": {
     "slide_type": "slide"
    }
   },
   "source": [
    "# Prática WTSS\n",
    "<hr style=\"border:2px solid #0077b9;\">\n",
    "\n",
    "- Rolf Simoes\n",
    "- Gilberto Ribeiro\n",
    "- Vitor Gomes"
   ]
  },
  {
   "cell_type": "markdown",
   "metadata": {
    "slideshow": {
     "slide_type": "slide"
    }
   },
   "source": [
    "## Agenda\n",
    "<hr style=\"border:2px solid #0077b9;\">\n",
    "- Arquitetura de acesso a dados\n",
    "\n",
    "- Comandos básicos do WTSS\n",
    "\n",
    "- Python integration"
   ]
  },
  {
   "cell_type": "markdown",
   "metadata": {
    "slideshow": {
     "slide_type": "slide"
    }
   },
   "source": [
    "# Arquitetura de acesso a dados\n",
    "<hr style=\"border:2px solid #0077b9;\">\n",
    "\n",
    "<img src=\"./imgs/arquitetura.png\" alt=\"Arquitetura 1\" style=\"width: 1200px;\"/>\n"
   ]
  },
  {
   "cell_type": "markdown",
   "metadata": {
    "slideshow": {
     "slide_type": "notes"
    }
   },
   "source": [
    "## Comandos básicos do WTSS\n",
    "\n",
    "- ```wtss.list_coverages()```: Obtém uma lista das coverages disponíveis.\n",
    "- ```wtss.describe_coverage()```: Obtém o meta-dados de uma coverage.\n",
    "- ```wtss.time_series()```: Obtém uma série temporal para uma localização e intervalo de tempo.\n",
    "\n",
    "O cliente WTSS Python está disponível em https://github.com/e-sensing/wtss.py"
   ]
  },
  {
   "cell_type": "markdown",
   "metadata": {
    "slideshow": {
     "slide_type": "slide"
    }
   },
   "source": [
    "## WTSS: Listando coverages\n",
    "<hr style=\"border:1px solid #0077b9;\">\n",
    "\n",
    "```wtss.list_coverages()```"
   ]
  },
  {
   "cell_type": "code",
   "execution_count": null,
   "metadata": {
    "scrolled": true,
    "slideshow": {
     "slide_type": "subslide"
    }
   },
   "outputs": [],
   "source": [
    "# WTSS python client: Access to data & metadata\n",
    "from wtss import wtss\n",
    "\n",
    "# connect to e-Sensing server\n",
    "w = wtss(\"http://www.dpi.inpe.br/tws\")\n",
    "\n",
    "# print the available data sets\n",
    "cv_list = w.list_coverages()\n",
    "for cv_name in cv_list[\"coverages\"]:\n",
    "    print(cv_name)"
   ]
  },
  {
   "cell_type": "markdown",
   "metadata": {
    "slideshow": {
     "slide_type": "slide"
    }
   },
   "source": [
    "## WTSS: Descrevendo coverages\n",
    "<hr style=\"border:1px solid #0077b9;\">\n",
    "\n",
    "```wtss.describe_coverage(cv_name)```"
   ]
  },
  {
   "cell_type": "code",
   "execution_count": null,
   "metadata": {
    "slideshow": {
     "slide_type": "subslide"
    }
   },
   "outputs": [],
   "source": [
    "# explore a WTSS data set\n",
    "cv_scheme = w.describe_coverage(\"mod13q1_512\")\n",
    "\n",
    "# format output\n",
    "print(\"SciDB array: {}. {}({})\\n\".format(cv_scheme[\"name\"],\n",
    "                                         cv_scheme['description'], \n",
    "                                         cv_scheme['detail']))\n",
    "print(\"Linha do tempo:\\n{}...{}\\n\".format(cv_scheme['timeline'][0:3], \n",
    "                                          cv_scheme['timeline'][-3:]))\n",
    "print(\"Atributos:\")\n",
    "for el in cv_scheme['attributes']:\n",
    "    att = cv_scheme['attributes'][el]\n",
    "    print(\"{}: {}. Tipo: {}. Fator de escala: {}\".format(el,\n",
    "                                                         att['description'],\n",
    "                                                         att['datatype'], \n",
    "                                                         att['scale_factor']))"
   ]
  },
  {
   "cell_type": "markdown",
   "metadata": {
    "slideshow": {
     "slide_type": "slide"
    }
   },
   "source": [
    "## WTSS: Obtendo séries temporais\n",
    "<hr style=\"border:1px solid #0077b9;\">\n",
    "\n",
    "```wtss.time_series(coverage, attributes, latitude, longitude, start_date=None, end_date=None)```"
   ]
  },
  {
   "cell_type": "code",
   "execution_count": null,
   "metadata": {
    "slideshow": {
     "slide_type": "subslide"
    }
   },
   "outputs": [],
   "source": [
    "import pandas as pd\n",
    "# we are interested in observing land dynamics at\n",
    "latitude  = -14.919100049\n",
    "longitude = -59.11781088\n",
    "# get time series of a point\n",
    "ts = w.time_series(\"mod13q1_512\", (\"ndvi\", \"evi\"), latitude, longitude)\n",
    "# build a data frame made of vegetation indexes\n",
    "ndvi = pd.Series(ts[\"ndvi\"], index = ts.timeline) * \\\n",
    "        cv_scheme['attributes']['ndvi']['scale_factor']\n",
    "evi  = pd.Series(ts[\"evi\"],  index = ts.timeline) * \\\n",
    "        cv_scheme['attributes']['evi']['scale_factor']\n",
    "vidf = pd.DataFrame({'ndvi': ndvi, 'evi': evi})\n",
    "vidf[0:5]"
   ]
  },
  {
   "cell_type": "code",
   "execution_count": null,
   "metadata": {
    "slideshow": {
     "slide_type": "slide"
    }
   },
   "outputs": [],
   "source": [
    "# Let's show the choosen location on a map\n",
    "from tsmap import *\n",
    "location = {'lon': longitude, 'lat': latitude}\n",
    "createTSMap(location, vidf, 4)"
   ]
  },
  {
   "cell_type": "markdown",
   "metadata": {
    "slideshow": {
     "slide_type": "slide"
    }
   },
   "source": [
    "## Visualização de dados\n",
    "<hr style=\"border:1px solid #0077b9;\">\n",
    "\n",
    "O Python fornece ferramentas para visualização de dados científicos."
   ]
  },
  {
   "cell_type": "code",
   "execution_count": null,
   "metadata": {
    "slideshow": {
     "slide_type": "subslide"
    }
   },
   "outputs": [],
   "source": [
    "%matplotlib inline\n",
    "import matplotlib\n",
    "from cycler import cycler\n",
    "matplotlib.style.use('ggplot')\n",
    "# Updating the default matplotlib colors\n",
    "colors = cycler(u'color', [u'#74c476',u'#6baed6',u'#d62728', \\\n",
    "                           u'#ff7f0e', u'#756bb1'])\n",
    "matplotlib.rcParams['axes.prop_cycle'] = colors\n",
    "# Time series visualization\n",
    "fig, ax = matplotlib.pyplot.subplots(figsize = (15, 5))\n",
    "ax.plot()\n",
    "vidf['ndvi'].plot()\n",
    "vidf['evi'].plot()\n",
    "ax.legend()\n",
    "fig.autofmt_xdate()"
   ]
  },
  {
   "cell_type": "markdown",
   "metadata": {
    "slideshow": {
     "slide_type": "slide"
    }
   },
   "source": [
    "## Análise dos dados\n",
    "<hr style=\"border:1px solid #0077b9;\">"
   ]
  },
  {
   "cell_type": "markdown",
   "metadata": {
    "slideshow": {
     "slide_type": "slide"
    }
   },
   "source": [
    "### Ajuste de modelo linear\n",
    "<hr>\n",
    "\n",
    "Um jeito simples de revelar uma tendência geral é ajustar uma reta nos dados."
   ]
  },
  {
   "cell_type": "code",
   "execution_count": null,
   "metadata": {
    "slideshow": {
     "slide_type": "subslide"
    }
   },
   "outputs": [],
   "source": [
    "from linearmodel import *\n",
    "# fit a line to the vegetation indexes\n",
    "vidf['ndvi_lm'] = fitline(vidf['ndvi'])\n",
    "vidf['evi_lm'] = fitline(vidf['evi'])\n",
    "# plot\n",
    "fig, ax = matplotlib.pyplot.subplots(figsize = (15, 5))\n",
    "ax.plot()\n",
    "vidf['ndvi'].plot()\n",
    "vidf['evi'].plot()\n",
    "vidf['ndvi_lm'].plot()\n",
    "vidf['evi_lm'].plot()\n",
    "ax.legend()\n",
    "fig.autofmt_xdate()\n",
    "#vidf[0:5]"
   ]
  },
  {
   "cell_type": "markdown",
   "metadata": {
    "slideshow": {
     "slide_type": "slide"
    }
   },
   "source": [
    "### Decomposição por Fourier\n",
    "<hr>\n",
    "É possível decompor uma série temporal em um conjunto de senóides por Fourier. Essas funções nos dão a amplitude, a frequência e a fase de cada harmônica do sinal. Geralmente, altas frequências estão associadas a ruído. Removendo as funções de alta frequência ajudam a obter um sinal mais suave."
   ]
  },
  {
   "cell_type": "code",
   "execution_count": null,
   "metadata": {
    "slideshow": {
     "slide_type": "subslide"
    }
   },
   "outputs": [],
   "source": [
    "from fourier import *\n",
    "# filter the vi\n",
    "vidf['ndvi_ff'] = fourierfilter(vidf['ndvi'], 200)\n",
    "vidf['evi_ff'] = fourierfilter(vidf['evi'], 50)\n",
    "# plot\n",
    "fig, ax = matplotlib.pyplot.subplots(figsize = (15, 5))\n",
    "ax.plot()\n",
    "vidf['ndvi'].plot()\n",
    "vidf['evi'].plot()\n",
    "vidf['ndvi_ff'].plot()\n",
    "vidf['evi_ff'].plot()\n",
    "ax.legend()\n",
    "fig.autofmt_xdate()\n",
    "#vidf[0:5]"
   ]
  },
  {
   "cell_type": "markdown",
   "metadata": {
    "slideshow": {
     "slide_type": "slide"
    }
   },
   "source": [
    "### Filtro Whittaker\n",
    "<hr>\n",
    "\n",
    "O filtro Whitakker é uma combinação linear de pontos contíguos na série temporal."
   ]
  },
  {
   "cell_type": "code",
   "execution_count": null,
   "metadata": {
    "slideshow": {
     "slide_type": "subslide"
    }
   },
   "outputs": [],
   "source": [
    "from whittaker import *\n",
    "# filter the vi\n",
    "vidf['ndvi_wf'] = pd.Series(whittaker_filter(ndvi,1000), index = ts.timeline)\n",
    "vidf['evi_wf']  = pd.Series(whittaker_filter(evi,1), index = ts.timeline)\n",
    "# plot\n",
    "fig, ax = matplotlib.pyplot.subplots(figsize = (15, 5))\n",
    "ax.plot()\n",
    "vidf['ndvi'].plot()\n",
    "vidf['evi'].plot()\n",
    "vidf['ndvi_wf'].plot()\n",
    "vidf['evi_wf'].plot()\n",
    "ax.legend()\n",
    "fig.autofmt_xdate()\n",
    "#vidf[0:5]"
   ]
  },
  {
   "cell_type": "markdown",
   "metadata": {
    "slideshow": {
     "slide_type": "slide"
    }
   },
   "source": [
    "## Classificação\n",
    "<hr style=\"border:1px solid #0077b9;\">"
   ]
  },
  {
   "cell_type": "markdown",
   "metadata": {
    "slideshow": {
     "slide_type": "slide"
    }
   },
   "source": [
    "### Dynamic Time Warping\n",
    "<hr>\n",
    "\n",
    "Dynamic Time Warping (DTW) é um algoritmo de casamento de padrões. É uma função de distância que distorce o tempo para melhor ajustar duas séries temporais."
   ]
  },
  {
   "cell_type": "markdown",
   "metadata": {
    "slideshow": {
     "slide_type": "slide"
    }
   },
   "source": [
    "#### Padrões\n",
    "\n",
    "Nossos padrões são séries temporais idealizadas para um ano de [floresta](floresta) e [cerrado](https://en.wikipedia.org/wiki/Cerrado). Esses padrões foram obtidos utilizando Modelo Aditivo Generalizado [GAM, da sigla em inglês](https://en.wikipedia.org/wiki/Generalized_additive_model) de um grande número de séries temporais amostradas por especialistas."
   ]
  },
  {
   "cell_type": "code",
   "execution_count": null,
   "metadata": {
    "slideshow": {
     "slide_type": "slide"
    }
   },
   "outputs": [],
   "source": [
    "from dtw import *\n",
    "from tools import *\n",
    "\n",
    "# open the pattern file\n",
    "patterns_ts = pd.read_json(\"examples/patterns.json\", orient='records')\n",
    "# update timeline type from str to datetime\n",
    "patterns_ts[\"timeline\"] = pd.to_datetime(patterns_ts[\"timeline\"])\n",
    "plot_time_series(patterns_ts)"
   ]
  },
  {
   "cell_type": "markdown",
   "metadata": {
    "slideshow": {
     "slide_type": "slide"
    }
   },
   "source": [
    "#### Amostras\n",
    "\n",
    "Nossas amostras usadas para classificação consiste de um arquivo CSV com 10 pontos."
   ]
  },
  {
   "cell_type": "code",
   "execution_count": null,
   "metadata": {
    "slideshow": {
     "slide_type": "subslide"
    }
   },
   "outputs": [],
   "source": [
    "# read the sample file\n",
    "samples = pd.read_csv(\"examples/samples.csv\")\n",
    "samples"
   ]
  },
  {
   "cell_type": "markdown",
   "metadata": {
    "slideshow": {
     "slide_type": "slide"
    }
   },
   "source": [
    "Agora obtemos as séries temporais usando o serviço WTSS para cada uma das amostras."
   ]
  },
  {
   "cell_type": "code",
   "execution_count": null,
   "metadata": {
    "slideshow": {
     "slide_type": "subslide"
    }
   },
   "outputs": [],
   "source": [
    "# wtss_get_time_series is implemented in 'tools.py'\n",
    "samples_ts = wtss_get_time_series(samples)\n",
    "\n",
    "# rescale vegetation indexes\n",
    "samples_ts[\"ndvi\"] *= cv_scheme['attributes']['ndvi']['scale_factor']\n",
    "samples_ts[\"evi\"] *= cv_scheme['attributes']['evi']['scale_factor']\n",
    "\n",
    "samples_ts[0:5]\n",
    "plot_time_series(samples_ts)"
   ]
  },
  {
   "cell_type": "markdown",
   "metadata": {
    "slideshow": {
     "slide_type": "slide"
    }
   },
   "source": [
    "#### Classificação\n",
    "\n",
    "É hora de classificar as 10 amostras usando os padrões e o método DTW. Nós fazemos isso calculando as distâncias DTW entre cada padrão e as amostras. Nós então atribuímos o rótulo do padrão que tiver menor distância DTW para cada uma das amostras."
   ]
  },
  {
   "cell_type": "code",
   "execution_count": null,
   "metadata": {
    "slideshow": {
     "slide_type": "subslide"
    }
   },
   "outputs": [],
   "source": [
    "# classify using DTW\n",
    "classification = classifier_1nn(patterns_ts, samples_ts)\n",
    "\n",
    "# print the classification results\n",
    "classification"
   ]
  },
  {
   "cell_type": "markdown",
   "metadata": {
    "slideshow": {
     "slide_type": "slide"
    }
   },
   "source": [
    "#### Resultados da classificação\n",
    "\n",
    "Os resultados anteriores mostram que o DTW + classificador vizinho mais próximo fizeram um bom trabalho. Nós classificamos corretamente 9 das 10 amostras de séries temporais. A amostra número 3 foi classificada incorretamente. Vamos olhar mais de perto o que aconteceu."
   ]
  },
  {
   "cell_type": "code",
   "execution_count": null,
   "metadata": {
    "slideshow": {
     "slide_type": "subslide"
    }
   },
   "outputs": [],
   "source": [
    "# let's see what happens with sample #3\n",
    "plot_time_series(pd.concat([samples_ts[samples_ts[\"id\"].isin([3])], patterns_ts]))"
   ]
  },
  {
   "cell_type": "markdown",
   "metadata": {
    "slideshow": {
     "slide_type": "slide"
    }
   },
   "source": [
    "# Considerações finais\n",
    "<hr style=\"border:2px solid #0077b9\">\n",
    "\n",
    "Uso do WTSS, visualização, filtragem e classificação de séries temporais.\n",
    "\n",
    "Os exemplos utilizados fizeram uso dos seguintes módulos do Python (disponíveis no notebook do curso):\n",
    "- Map\n",
    "  - [tsmap.py](./tsmap.py) Exibir mapas em notebooks do Jupyter.\n",
    "- Filtro\n",
    "  - [linearmodel.py](./linearmodel.py) Ajuste linear em séries temporais.\n",
    "  - [fourier.py](./fourier.py) Filtro de séries temporais usando Transformada Rápida de Fourier.\n",
    "  - [whittaker.py](./whittaker.py) Filtro de séries temporais usando o amaciador Whittaker.\n",
    "- Classificação: \n",
    "  - [dtw.py](./dtw.py) Implementação do DTW.\n",
    "  - [tools.py](./tools.py) Funções utilitárias para obter e plotar séries temporais."
   ]
  },
  {
   "cell_type": "markdown",
   "metadata": {
    "slideshow": {
     "slide_type": "slide"
    }
   },
   "source": [
    "# Obrigado!\n",
    "\n",
    "\n",
    "Baseado no notebook: https://github.com/e-sensing/wgiss-py-webinar\n",
    "Alber Sánchez\n",
    "alber.ipia @ inpe.br\n"
   ]
  }
 ],
 "metadata": {
  "anaconda-cloud": {},
  "celltoolbar": "Slideshow",
  "kernelspec": {
   "display_name": "Python 2",
   "language": "python",
   "name": "python2"
  },
  "language_info": {
   "codemirror_mode": {
    "name": "ipython",
    "version": 2
   },
   "file_extension": ".py",
   "mimetype": "text/x-python",
   "name": "python",
   "nbconvert_exporter": "python",
   "pygments_lexer": "ipython2",
   "version": "2.7.13"
  },
  "widgets": {
   "application/vnd.jupyter.widget-state+json": {
    "state": {},
    "version_major": 1,
    "version_minor": 0
   }
  }
 },
 "nbformat": 4,
 "nbformat_minor": 2
}
