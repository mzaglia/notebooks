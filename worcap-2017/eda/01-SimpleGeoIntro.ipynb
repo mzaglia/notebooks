{
 "cells": [
  {
   "cell_type": "markdown",
   "metadata": {
    "slideshow": {
     "slide_type": "slide"
    }
   },
   "source": [
    " # EDA em Geospatial Big Data: Análise de Queimadas\n",
    "<hr style=\"border:2px solid #0077b9;\">\n",
    "\n",
    "- Vitor Gomes <vitor.gomes@inpe.br>\n",
    "- Gilberto Ribeiro <gilberto.queiroz@inpe.br>\n",
    "- Rolf Simões <rolf.simoes@inpe.br>"
   ]
  },
  {
   "cell_type": "markdown",
   "metadata": {
    "slideshow": {
     "slide_type": "slide"
    }
   },
   "source": [
    "## Agenda\n",
    "<hr style=\"border:2px solid #0077b9;\">\n",
    "- EDA em Geospatial Big Data\n",
    "- Dados de Queimadas\n",
    "- SimpleGeo\n",
    "    - *Features*\n",
    "    - *Coverages*\n",
    "- Análise de focos de queimadas"
   ]
  },
  {
   "cell_type": "markdown",
   "metadata": {
    "slideshow": {
     "slide_type": "slide"
    }
   },
   "source": [
    "## Fluxo de Data Science\n",
    "<hr style=\"border:2px solid #0077b9;\">\n",
    "<center>\n",
    "<img src=\"./imgs/eda.png\" alt=\"Arquitetura 1\" style=\"width: 800px;\"/>\n",
    "</center>"
   ]
  },
  {
   "cell_type": "markdown",
   "metadata": {
    "slideshow": {
     "slide_type": "slide"
    }
   },
   "source": [
    "## EDA no contexto tradicional \n",
    "<hr style=\"border:2px solid #0077b9;\">\n",
    "<center>\n",
    "<img src=\"./imgs/arquitetura0.png\" alt=\"Arquitetura 1\" style=\"width: 500px;\"/>\n",
    "</center>"
   ]
  },
  {
   "cell_type": "markdown",
   "metadata": {
    "slideshow": {
     "slide_type": "slide"
    }
   },
   "source": [
    "## Uso de WebServices para acesso aos dados \n",
    "<hr style=\"border:2px solid #0077b9;\">\n",
    "<center>\n",
    "<img src=\"./imgs/arquitetura1.png\" alt=\"Arquitetura 1\" style=\"width: 1200px;\"/>\n",
    "</center>"
   ]
  },
  {
   "cell_type": "markdown",
   "metadata": {
    "slideshow": {
     "slide_type": "slide"
    }
   },
   "source": [
    "## Uso da SimpleGeo.py para acesso aos dados\n",
    "<hr style=\"border:2px solid #0077b9;\">\n",
    "<center>\n",
    "<img src=\"./imgs/arquitetura2.png\" alt=\"Arquitetura 2\" style=\"width: 1200px;\"/>\n",
    "</center>"
   ]
  }
 ],
 "metadata": {
  "celltoolbar": "Slideshow",
  "kernelspec": {
   "display_name": "Python [default]",
   "language": "python",
   "name": "python2"
  },
  "language_info": {
   "codemirror_mode": {
    "name": "ipython",
    "version": 2
   },
   "file_extension": ".py",
   "mimetype": "text/x-python",
   "name": "python",
   "nbconvert_exporter": "python",
   "pygments_lexer": "ipython2",
   "version": "2.7.14"
  }
 },
 "nbformat": 4,
 "nbformat_minor": 2
}
