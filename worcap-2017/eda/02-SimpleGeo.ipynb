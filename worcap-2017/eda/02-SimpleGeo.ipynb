{
 "cells": [
  {
   "cell_type": "markdown",
   "metadata": {
    "slideshow": {
     "slide_type": "slide"
    }
   },
   "source": [
    " # SimpleGeo.py\n",
    "<hr style=\"border:2px solid #0077b9;\">"
   ]
  },
  {
   "cell_type": "markdown",
   "metadata": {
    "slideshow": {
     "slide_type": "subslide"
    }
   },
   "source": [
    "## Repositório GIT\n",
    "<hr style=\"border:2px solid #0077b9;\">\n",
    "<img src=\"./imgs/simplegeo.git.png\" style=\"width: 1200px;\"/>\n",
    "URL: [github.com/e-sensing/simple_geo.py](github.com/e-sensing/simple_geo.py)"
   ]
  },
  {
   "cell_type": "markdown",
   "metadata": {
    "slideshow": {
     "slide_type": "slide"
    }
   },
   "source": [
    "## Usando a SimpleGeo.py\n",
    "<hr style=\"border:2px solid #0077b9;\">"
   ]
  },
  {
   "cell_type": "markdown",
   "metadata": {
    "slideshow": {
     "slide_type": "slide"
    }
   },
   "source": [
    "### Listando Features e Coverages disponíveis\n",
    "<hr style=\"border:2px solid #0077b9;\">"
   ]
  },
  {
   "cell_type": "code",
   "execution_count": null,
   "metadata": {
    "slideshow": {
     "slide_type": "subslide"
    }
   },
   "outputs": [],
   "source": [
    "from SimpleGeo import SimpleGeo\n",
    "\n",
    "# connect to wfs and wtss servers\n",
    "s = SimpleGeo(wfs=\"http://www.terrama2.dpi.inpe.br/geoserver\", wtss=\"http://www.terrama2.dpi.inpe.br/e-sensing\")\n",
    "\n",
    "# print available features\n",
    "print(\"Features:\")\n",
    "for f in s.features()['features']:\n",
    "    print(\"\\t{}\".format(f))\n",
    "\n",
    "# print available coverages\n",
    "print(\"\\nCoverages:\")\n",
    "for c in s.coverages()['coverages']:\n",
    "    print(\"\\t{}\".format(c))"
   ]
  },
  {
   "cell_type": "markdown",
   "metadata": {
    "slideshow": {
     "slide_type": "slide"
    }
   },
   "source": [
    "## Obtendo Metadados das Features e Coverages\n",
    "<hr style=\"border:2px solid #0077b9;\">"
   ]
  },
  {
   "cell_type": "code",
   "execution_count": null,
   "metadata": {
    "slideshow": {
     "slide_type": "subslide"
    }
   },
   "outputs": [],
   "source": [
    "# Feature estados_bra\n",
    "f = s.feature('esensing:estados_bra')\n",
    "\n",
    "metadata = f.describe()\n",
    "\n",
    "#print(metadata)\n",
    "\n",
    "print(\"Nome: {}\".format(metadata['full_name']))\n",
    "print(\"Tipo: {}\".format(metadata['geometry']['localtype']))\n",
    "\n",
    "print(\"Atributos:\")\n",
    "for att in metadata['attributes']:\n",
    "    print(\"\\t{:<12}: {}\".format(att['name'], att['localtype']))"
   ]
  },
  {
   "cell_type": "code",
   "execution_count": null,
   "metadata": {
    "slideshow": {
     "slide_type": "subslide"
    }
   },
   "outputs": [],
   "source": [
    "# Coverage rpth\n",
    "c = s.coverage('rpth')\n",
    "\n",
    "metadata = c.describe()\n",
    "print(\"Nome: {}\".format(metadata['name']))\n",
    "print(\"Proj4: {}\".format(metadata['crs']['proj4']))\n",
    "print(\"Timeline: {} ... {}\".format(metadata['timeline'][1], metadata['timeline'][-1]))\n",
    "print(\"Atributos:\")\n",
    "for att in metadata['attributes']:\n",
    "    print(\"\\t{}\".format(att))\n",
    "\n",
    "#print(metadata)"
   ]
  },
  {
   "cell_type": "markdown",
   "metadata": {
    "slideshow": {
     "slide_type": "slide"
    }
   },
   "source": [
    "## Obtendo dados de Features\n",
    "<hr style=\"border:2px solid #0077b9;\">"
   ]
  },
  {
   "cell_type": "code",
   "execution_count": null,
   "metadata": {
    "slideshow": {
     "slide_type": "subslide"
    }
   },
   "outputs": [],
   "source": [
    "f = s.feature('esensing:estados_bra')\n",
    "estados = f.get()\n",
    "# displaying \n",
    "display(estados.head(n=10))"
   ]
  },
  {
   "cell_type": "markdown",
   "metadata": {
    "slideshow": {
     "slide_type": "slide"
    }
   },
   "source": [
    "## Métodos da SimpleGeo para Features\n",
    "<hr style=\"border:2px solid #0077b9;\">"
   ]
  },
  {
   "cell_type": "markdown",
   "metadata": {
    "slideshow": {
     "slide_type": "subslide"
    }
   },
   "source": [
    "### Métodos para Features\n",
    "\n",
    "- **attributes**: define quais atributos devem ser retornados\n",
    "- **max_features**: limita o número de features a serem retornadas\n",
    "- **sort_by**: ordena os elementos por um atributo não espacial\n",
    "- **filter**: seleciona por um ou mais atributos (espaciais ou não)\n",
    "\n"
   ]
  },
  {
   "cell_type": "markdown",
   "metadata": {
    "slideshow": {
     "slide_type": "slide"
    }
   },
   "source": [
    "### Selecionando atributos de Features (attributes)\n",
    "<hr style=\"border:2px solid #0077b9;\">"
   ]
  },
  {
   "cell_type": "code",
   "execution_count": null,
   "metadata": {
    "slideshow": {
     "slide_type": "subslide"
    }
   },
   "outputs": [],
   "source": [
    "f = s.feature('esensing:estados_bra').attributes(['nome','regiao'])\n",
    "estados = f.get()\n",
    "# displaying \n",
    "display(estados.head(n=10))"
   ]
  },
  {
   "cell_type": "markdown",
   "metadata": {
    "slideshow": {
     "slide_type": "slide"
    }
   },
   "source": [
    "### Limitando o número de retornos (max_features)\n",
    "<hr style=\"border:2px solid #0077b9;\">"
   ]
  },
  {
   "cell_type": "code",
   "execution_count": null,
   "metadata": {
    "slideshow": {
     "slide_type": "subslide"
    }
   },
   "outputs": [],
   "source": [
    "f = s.feature('esensing:estados_bra').attributes(['nome','regiao']).max_features(5)\n",
    "estados = f.get()\n",
    "# displaying\n",
    "display(estados)"
   ]
  },
  {
   "cell_type": "markdown",
   "metadata": {
    "slideshow": {
     "slide_type": "slide"
    }
   },
   "source": [
    "### Ordenando features (sort_by)\n",
    "<hr style=\"border:2px solid #0077b9;\">"
   ]
  },
  {
   "cell_type": "code",
   "execution_count": null,
   "metadata": {
    "slideshow": {
     "slide_type": "subslide"
    }
   },
   "outputs": [],
   "source": [
    "# Ascendente ASC\n",
    "f = s.feature('esensing:estados_bra').attributes(['nome','regiao']).max_features(5).sort_by('nome')\n",
    "estados = f.get()\n",
    "# displaying\n",
    "display(estados)"
   ]
  },
  {
   "cell_type": "code",
   "execution_count": null,
   "metadata": {
    "slideshow": {
     "slide_type": "subslide"
    }
   },
   "outputs": [],
   "source": [
    "from SimpleGeo import Predicates as pre\n",
    "\n",
    "# Descesdente DESC\n",
    "f = s.feature('esensing:estados_bra').attributes(['nome','regiao']).max_features(5).sort_by(pre.DESC('nome'))\n",
    "estados = f.get()\n",
    "# displaying\n",
    "display(estados)"
   ]
  },
  {
   "cell_type": "markdown",
   "metadata": {
    "slideshow": {
     "slide_type": "slide"
    }
   },
   "source": [
    "### Filtrando Features\n",
    "<hr style=\"border:2px solid #0077b9;\">\n",
    "\n",
    "A **SimpleGeo** fornece os seguintes predicados para auxiliar a construção de um filtro:\n",
    "\n",
    "- Atributos não espaciais:\n",
    "    - EQ: igual\n",
    "    - NE: diferente\n",
    "    - LT: menor que\n",
    "    - GT: maior que\n",
    "    - LE: menor ou igual a\n",
    "    - GE: maior ou igual a\n",
    "    - AND: e\n",
    "    - OR: ou"
   ]
  },
  {
   "cell_type": "markdown",
   "metadata": {
    "slideshow": {
     "slide_type": "subslide"
    }
   },
   "source": [
    "- Atributos espaciais:\n",
    "    - WITHIN: dentro\n",
    "    - INTERSECTS: intersecta"
   ]
  },
  {
   "cell_type": "code",
   "execution_count": null,
   "metadata": {
    "slideshow": {
     "slide_type": "subslide"
    }
   },
   "outputs": [],
   "source": [
    "# Only South region\n",
    "f = s.feature('esensing:estados_bra')\\\n",
    "     .filter(pre.EQ('regiao','S'))\n",
    "estados = f.get()\n",
    "# displaying \n",
    "display(estados)"
   ]
  },
  {
   "cell_type": "code",
   "execution_count": null,
   "metadata": {
    "slideshow": {
     "slide_type": "subslide"
    }
   },
   "outputs": [],
   "source": [
    "from SimpleGeo import Predicates as pre\n",
    "\n",
    "# South or North regions\n",
    "f = s.feature('esensing:estados_bra')\\\n",
    "     .filter(pre.OR(\n",
    "             pre.EQ('regiao','S'),\n",
    "             pre.EQ('regiao','N')\n",
    "         ))\n",
    "estados = f.get()\n",
    "# displaying \n",
    "display(estados)"
   ]
  },
  {
   "cell_type": "code",
   "execution_count": null,
   "metadata": {
    "slideshow": {
     "slide_type": "subslide"
    }
   },
   "outputs": [],
   "source": [
    "from SimpleGeo import Predicates as pre\n",
    "\n",
    "f = s.feature(\"esensing:focos_bra_2016\") \\\n",
    "    .attributes([\"id\", \"municipio\", \"timestamp\", \"regiao\"]) \\\n",
    "    .filter(pre.OR(\n",
    "    pre.AND(\n",
    "        pre.EQ(\"satelite_referencia\", \"true\"),\n",
    "        pre.GE(\"timestamp\", \"2016-01-01\"),\n",
    "        pre.LT(\"timestamp\", \"2016-02-01\"),\n",
    "        pre.WITHIN(\n",
    "            \"POLYGON((-49.515628859948507 -19.394602563415745,-48.020567850467053 -19.610579617637825,-48.354439522883652 -21.052347219666608,-49.849500507163917 -20.836369963642884,-49.515628859948507 -19.394602563415745))\"),\n",
    "    ), \\\n",
    "    pre.NE(\"regiao\", \"SE\") \\\n",
    "    )) \\\n",
    "    .max_features(10) \\\n",
    "    .sort_by(pre.DESC(\"municipio\"))\n",
    "    \n",
    "focos = f.get()\n",
    "display(focos)"
   ]
  },
  {
   "cell_type": "markdown",
   "metadata": {
    "slideshow": {
     "slide_type": "slide"
    }
   },
   "source": [
    "### Cache\n",
    "<hr style=\"border:2px solid #0077b9;\">\n"
   ]
  },
  {
   "cell_type": "code",
   "execution_count": null,
   "metadata": {
    "slideshow": {
     "slide_type": "subslide"
    }
   },
   "outputs": [],
   "source": [
    "from SimpleGeo import Predicates as pre\n",
    "import time\n",
    "\n",
    "# connect to wfs and wtss servers\n",
    "s = SimpleGeo(wfs=\"http://www.terrama2.dpi.inpe.br/geoserver\", wtss=\"http://www.terrama2.dpi.inpe.br/e-sensing\", cache=True, cache_dir=\"/tmp/.cache\")\n",
    "#s.clear_cache()\n",
    "f = s.feature(\"esensing:focos_bra_2016\") \\\n",
    "    .attributes([\"id\", \"municipio\", \"timestamp\", \"regiao\"]) \\\n",
    "    .filter(pre.OR(\n",
    "    pre.AND(\n",
    "        pre.EQ(\"satelite_referencia\", \"true\"),\n",
    "        pre.GE(\"timestamp\", \"2016-01-01\"),\n",
    "        pre.LT(\"timestamp\", \"2016-02-01\"),\n",
    "        pre.WITHIN(\n",
    "            \"POLYGON((-49.515628859948507 -19.394602563415745,-48.020567850467053 -19.610579617637825,-48.354439522883652 -21.052347219666608,-49.849500507163917 -20.836369963642884,-49.515628859948507 -19.394602563415745))\"),\n",
    "    ), \\\n",
    "    pre.NE(\"regiao\", \"SE\") \\\n",
    "    )) \\\n",
    "    .max_features(10) \\\n",
    "    .sort_by(pre.DESC(\"municipio\"))\n",
    "\n",
    "start = time.time()\n",
    "focos = f.get()\n",
    "end = time.time()\n",
    "\n",
    "#display(focos)\n",
    "\n",
    "# total time\n",
    "print(\"Elapsed time: {}s\".format(end-start))"
   ]
  }
 ],
 "metadata": {
  "celltoolbar": "Slideshow",
  "kernelspec": {
   "display_name": "Python [conda env:simplegeo]",
   "language": "python",
   "name": "conda-env-simplegeo-py"
  },
  "language_info": {
   "codemirror_mode": {
    "name": "ipython",
    "version": 2
   },
   "file_extension": ".py",
   "mimetype": "text/x-python",
   "name": "python",
   "nbconvert_exporter": "python",
   "pygments_lexer": "ipython2",
   "version": "2.7.14"
  }
 },
 "nbformat": 4,
 "nbformat_minor": 2
}
