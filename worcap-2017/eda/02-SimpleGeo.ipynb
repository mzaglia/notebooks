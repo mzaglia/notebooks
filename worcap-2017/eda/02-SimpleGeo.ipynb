{
 "cells": [
  {
   "cell_type": "markdown",
   "metadata": {
    "slideshow": {
     "slide_type": "slide"
    }
   },
   "source": [
    "## SimpleGeo.py\n",
    "<hr style=\"border:2px solid #0077b9;\">\n",
    "\n",
    "- Dados de Queimadas\n",
    "- SimpleGeo.py"
   ]
  },
  {
   "cell_type": "markdown",
   "metadata": {
    "slideshow": {
     "slide_type": "slide"
    }
   },
   "source": [
    "# Dados de Queimadas\n",
    "<hr style=\"border:2px solid #0077b9;\">"
   ]
  },
  {
   "cell_type": "markdown",
   "metadata": {
    "slideshow": {
     "slide_type": "subslide"
    }
   },
   "source": [
    "<table style=\"font-size: 26px;\">\n",
    "<thead>\n",
    "<tr>\n",
    "<th style=\"text-align: left\">#</th>\n",
    "<th style=\"text-align: left\">Dado</th>\n",
    "<th>Descrição</th>\n",
    "<th style=\"text-align: center\">Formato</th>\n",
    "<th style=\"text-align: center\">Res. Temp.</th>\n",
    "<th style=\"text-align: center\">Res. Espacial</th>\n",
    "<th style=\"text-align: center\">Dimensões</th>\n",
    "<th style=\"text-align: center\">Tipo</th>\n",
    "<th style=\"text-align: center\">Serviços</th>\n",
    "<th style=\"text-align: center\">Tamanho</th>\n",
    "</tr>\n",
    "</thead>\n",
    "<tbody>\n",
    "<tr>\n",
    "<td style=\"text-align: left\">1</td>\n",
    "<td style=\"text-align: left\">Focos de Queimadas</td>\n",
    "<td>49.755.288 registros</td>\n",
    "<td style=\"text-align: center\">PostgreSQL</td>\n",
    "<td style=\"text-align: center\">Dados obtidos em 2017-08-11</td>\n",
    "<td style=\"text-align: center\">-</td>\n",
    "<td style=\"text-align: center\">-</td>\n",
    "<td style=\"text-align: center\">Feature</td>\n",
    "<td style=\"text-align: center\">WFS</td>\n",
    "<td style=\"text-align: center\">5GB+10GB</td>\n",
    "</tr>\n",
    "<tr>\n",
    "<td style=\"text-align: left\">2</td>\n",
    "<td style=\"text-align: left\">Risco de Fogo</td>\n",
    "<td>-</td>\n",
    "<td style=\"text-align: center\">NetCDF</td>\n",
    "<td style=\"text-align: center\">Diário (366 cenas)</td>\n",
    "<td style=\"text-align: center\">5km</td>\n",
    "<td style=\"text-align: center\">1200x1400</td>\n",
    "<td style=\"text-align: center\">Coverage</td>\n",
    "<td style=\"text-align: center\">WTSS</td>\n",
    "<td style=\"text-align: center\">2.3GB</td>\n",
    "</tr>\n",
    "<tr>\n",
    "<td style=\"text-align: left\">3</td>\n",
    "<td style=\"text-align: left\">Precipitação</td>\n",
    "<td>-</td>\n",
    "<td style=\"text-align: center\">NetCDF</td>\n",
    "<td style=\"text-align: center\">Diário (366 cenas)</td>\n",
    "<td style=\"text-align: center\">5km</td>\n",
    "<td style=\"text-align: center\">1200x1400</td>\n",
    "<td style=\"text-align: center\">Coverage</td>\n",
    "<td style=\"text-align: center\">WTSS</td>\n",
    "<td style=\"text-align: center\">2.3GB</td>\n",
    "</tr>\n",
    "<tr>\n",
    "<td style=\"text-align: left\">4</td>\n",
    "<td style=\"text-align: left\">Temperatura</td>\n",
    "<td>-</td>\n",
    "<td style=\"text-align: center\">NetCDF</td>\n",
    "<td style=\"text-align: center\">Diário (366 cenas)</td>\n",
    "<td style=\"text-align: center\">5km</td>\n",
    "<td style=\"text-align: center\">1200x1400</td>\n",
    "<td style=\"text-align: center\">Coverage</td>\n",
    "<td style=\"text-align: center\">WTSS</td>\n",
    "<td style=\"text-align: center\">2.3GB</td>\n",
    "</tr>\n",
    "<tr>\n",
    "<td style=\"text-align: left\">5</td>\n",
    "<td style=\"text-align: left\">Humidade</td>\n",
    "<td>-</td>\n",
    "<td style=\"text-align: center\">NetCDF</td>\n",
    "<td style=\"text-align: center\">Diário (366 cenas)</td>\n",
    "<td style=\"text-align: center\">5km</td>\n",
    "<td style=\"text-align: center\">1200x1400</td>\n",
    "<td style=\"text-align: center\">Coverage</td>\n",
    "<td style=\"text-align: center\">WTSS</td>\n",
    "<td style=\"text-align: center\">2.3GB</td>\n",
    "</tr>\n",
    "</tbody>\n",
    "</table>"
   ]
  },
  {
   "cell_type": "markdown",
   "metadata": {
    "slideshow": {
     "slide_type": "subslide"
    }
   },
   "source": [
    "<table>\n",
    "<tr>\n",
    "<td><img src=\"./imgs/focos_bra_2016.png\" alt=\"Focos BRA 2016\" style=\"height: 250px;\"/></td>\n",
    "<td><img src=\"./imgs/risco.png\" alt=\"Risco 2016\" style=\"height: 250px;\"/></td>\n",
    "<td><img src=\"./imgs/precipitacao.png\" alt=\"Precipitação 2016\" style=\"height: 250px;\"/></td>\n",
    "<td><img src=\"./imgs/temperatura.png\" alt=\"Temperatura 2016\" style=\"height: 250px;\"/></td>\n",
    "</tr>\n",
    "<tr>\n",
    "<td style=\"text-align: center\">1. Focos BRA 2016</td>\n",
    "<td style=\"text-align: center\">2. Risco 01-01-2016</td>\n",
    "<td style=\"text-align: center\">3. Precipitação 01-01-2016</td>\n",
    "<td style=\"text-align: center\">4. Temperatura 01-01-2016</td>\n",
    "</tr>\n",
    "<tr>\n",
    "<td><img src=\"./imgs/umidade.png\" alt=\"Umidade 2016\" style=\"height: 250px;\"/></td>\n",
    "</tr>\n",
    "<tr>\n",
    "<td style=\"text-align: center\">5. Umidade 01-01-2016</td>\n",
    "</tr>\n",
    "</table>"
   ]
  },
  {
   "cell_type": "markdown",
   "metadata": {
    "slideshow": {
     "slide_type": "slide"
    }
   },
   "source": [
    "# SimpleGeo.py\n",
    "<hr style=\"border:2px solid #0077b9;\">\n",
    "\n",
    "A SimpleGeo.py é uma biblioteca para o acesso e integração de dados geospaciais através de serviços WFS e WTSS."
   ]
  },
  {
   "cell_type": "markdown",
   "metadata": {
    "slideshow": {
     "slide_type": "subslide"
    }
   },
   "source": [
    "## Repositório GIT\n",
    "<hr style=\"border:2px solid #0077b9;\">\n",
    "<img src=\"./imgs/simplegeo.git.png\" style=\"width: 1200px;\"/>\n",
    "URL: [github.com/e-sensing/simple_geo.py](github.com/e-sensing/simple_geo.py)"
   ]
  },
  {
   "cell_type": "markdown",
   "metadata": {
    "slideshow": {
     "slide_type": "slide"
    }
   },
   "source": [
    "## Usando a SimpleGeo.py\n",
    "<hr style=\"border:2px solid #0077b9;\">"
   ]
  },
  {
   "cell_type": "markdown",
   "metadata": {
    "slideshow": {
     "slide_type": "slide"
    }
   },
   "source": [
    "### Listando Features e Coverages disponíveis\n",
    "<hr style=\"border:2px solid #0077b9;\">"
   ]
  },
  {
   "cell_type": "code",
   "execution_count": 1,
   "metadata": {
    "slideshow": {
     "slide_type": "subslide"
    }
   },
   "outputs": [
    {
     "name": "stdout",
     "output_type": "stream",
     "text": [
      "Features:\n",
      "\tesensing:estados_bra\n",
      "\tesensing:focos_bra_2016\n",
      "\tesensing:municipios_bra\n",
      "\n",
      "Coverages:\n",
      "\trpth\n"
     ]
    }
   ],
   "source": [
    "from SimpleGeo import SimpleGeo\n",
    "\n",
    "# connect to wfs and wtss servers\n",
    "s = SimpleGeo(wfs=\"http://www.terrama2.dpi.inpe.br/geoserver\", wtss=\"http://www.terrama2.dpi.inpe.br/e-sensing\")\n",
    "\n",
    "# print available features\n",
    "print(\"Features:\")\n",
    "for f in s.features()['features']:\n",
    "    print(\"\\t{}\".format(f))\n",
    "\n",
    "# print available coverages\n",
    "print(\"\\nCoverages:\")\n",
    "for c in s.coverages()['coverages']:\n",
    "    print(\"\\t{}\".format(c))"
   ]
  },
  {
   "cell_type": "markdown",
   "metadata": {
    "slideshow": {
     "slide_type": "slide"
    }
   },
   "source": [
    "## Obtendo Metadados das Features e Coverages\n",
    "<hr style=\"border:2px solid #0077b9;\">"
   ]
  },
  {
   "cell_type": "code",
   "execution_count": null,
   "metadata": {
    "slideshow": {
     "slide_type": "subslide"
    }
   },
   "outputs": [],
   "source": [
    "# Feature estados_bra\n",
    "f = s.feature('esensing:estados_bra')\n",
    "\n",
    "metadata = f.describe()\n",
    "\n",
    "#print(metadata)\n",
    "\n",
    "print(\"Nome: {}\".format(metadata['full_name']))\n",
    "print(\"Tipo: {}\".format(metadata['geometry']['localtype']))\n",
    "\n",
    "print(\"Atributos:\")\n",
    "for att in metadata['attributes']:\n",
    "    print(\"\\t{:<12}: {}\".format(att['name'], att['localtype']))"
   ]
  },
  {
   "cell_type": "code",
   "execution_count": null,
   "metadata": {
    "slideshow": {
     "slide_type": "subslide"
    }
   },
   "outputs": [],
   "source": [
    "# Coverage rpth\n",
    "c = s.coverage('rpth')\n",
    "\n",
    "metadata = c.describe()\n",
    "print(\"Nome: {}\".format(metadata['name']))\n",
    "print(\"Proj4: {}\".format(metadata['crs']['proj4']))\n",
    "print(\"Timeline: {} ... {}\".format(metadata['timeline'][1], metadata['timeline'][-1]))\n",
    "print(\"Atributos:\")\n",
    "for att in metadata['attributes']:\n",
    "    print(\"\\t{}\".format(att))\n",
    "\n",
    "#print(metadata)"
   ]
  },
  {
   "cell_type": "markdown",
   "metadata": {
    "slideshow": {
     "slide_type": "slide"
    }
   },
   "source": [
    "## Obtendo dados de Features\n",
    "<hr style=\"border:2px solid #0077b9;\">"
   ]
  },
  {
   "cell_type": "code",
   "execution_count": null,
   "metadata": {
    "slideshow": {
     "slide_type": "subslide"
    }
   },
   "outputs": [],
   "source": [
    "f = s.feature('esensing:estados_bra')\n",
    "estados = f.get()\n",
    "# displaying \n",
    "display(estados.head(n=10))"
   ]
  },
  {
   "cell_type": "markdown",
   "metadata": {
    "slideshow": {
     "slide_type": "slide"
    }
   },
   "source": [
    "## Métodos da SimpleGeo para Features\n",
    "<hr style=\"border:2px solid #0077b9;\">"
   ]
  },
  {
   "cell_type": "markdown",
   "metadata": {
    "slideshow": {
     "slide_type": "subslide"
    }
   },
   "source": [
    "### Métodos para Features\n",
    "\n",
    "- **attributes**: define quais atributos devem ser retornados\n",
    "- **max_features**: limita o número de features a serem retornadas\n",
    "- **sort_by**: ordena os elementos por um atributo não espacial\n",
    "- **filter**: seleciona por um ou mais atributos (espaciais ou não)\n",
    "\n"
   ]
  },
  {
   "cell_type": "markdown",
   "metadata": {
    "slideshow": {
     "slide_type": "slide"
    }
   },
   "source": [
    "### Selecionando atributos de Features (attributes)\n",
    "<hr style=\"border:2px solid #0077b9;\">"
   ]
  },
  {
   "cell_type": "code",
   "execution_count": null,
   "metadata": {
    "slideshow": {
     "slide_type": "subslide"
    }
   },
   "outputs": [],
   "source": [
    "f = s.feature('esensing:estados_bra').attributes(['nome','regiao'])\n",
    "estados = f.get()\n",
    "# displaying \n",
    "display(estados.head(n=10))"
   ]
  },
  {
   "cell_type": "markdown",
   "metadata": {
    "slideshow": {
     "slide_type": "slide"
    }
   },
   "source": [
    "### Limitando o número de retornos (max_features)\n",
    "<hr style=\"border:2px solid #0077b9;\">"
   ]
  },
  {
   "cell_type": "code",
   "execution_count": null,
   "metadata": {
    "slideshow": {
     "slide_type": "subslide"
    }
   },
   "outputs": [],
   "source": [
    "f = s.feature('esensing:estados_bra').attributes(['nome','regiao']).max_features(5)\n",
    "estados = f.get()\n",
    "# displaying\n",
    "display(estados)"
   ]
  },
  {
   "cell_type": "markdown",
   "metadata": {
    "slideshow": {
     "slide_type": "slide"
    }
   },
   "source": [
    "### Ordenando features (sort_by)\n",
    "<hr style=\"border:2px solid #0077b9;\">"
   ]
  },
  {
   "cell_type": "code",
   "execution_count": null,
   "metadata": {
    "slideshow": {
     "slide_type": "subslide"
    }
   },
   "outputs": [],
   "source": [
    "# Ascendente ASC\n",
    "f = s.feature('esensing:estados_bra').attributes(['nome','regiao']).max_features(5).sort_by('nome')\n",
    "estados = f.get()\n",
    "# displaying\n",
    "display(estados)"
   ]
  },
  {
   "cell_type": "code",
   "execution_count": null,
   "metadata": {
    "slideshow": {
     "slide_type": "subslide"
    }
   },
   "outputs": [],
   "source": [
    "from SimpleGeo import Predicates as pre\n",
    "\n",
    "# Descesdente DESC\n",
    "f = s.feature('esensing:estados_bra').attributes(['nome','regiao']).max_features(5).sort_by(pre.DESC('nome'))\n",
    "estados = f.get()\n",
    "# displaying\n",
    "display(estados)"
   ]
  },
  {
   "cell_type": "markdown",
   "metadata": {
    "slideshow": {
     "slide_type": "slide"
    }
   },
   "source": [
    "### Filtrando Features\n",
    "<hr style=\"border:2px solid #0077b9;\">\n",
    "\n",
    "A **SimpleGeo** fornece os seguintes predicados para auxiliar a construção de um filtro:\n",
    "\n",
    "- Atributos não espaciais:\n",
    "    - EQ: igual\n",
    "    - NE: diferente\n",
    "    - LT: menor que\n",
    "    - GT: maior que\n",
    "    - LE: menor ou igual a\n",
    "    - GE: maior ou igual a\n",
    "    - AND: e\n",
    "    - OR: ou"
   ]
  },
  {
   "cell_type": "markdown",
   "metadata": {
    "slideshow": {
     "slide_type": "subslide"
    }
   },
   "source": [
    "- Atributos espaciais:\n",
    "    - WITHIN: dentro\n",
    "    - INTERSECTS: intersecta"
   ]
  },
  {
   "cell_type": "code",
   "execution_count": null,
   "metadata": {
    "slideshow": {
     "slide_type": "subslide"
    }
   },
   "outputs": [],
   "source": [
    "# Only South region\n",
    "f = s.feature('esensing:estados_bra')\\\n",
    "     .filter(pre.EQ('regiao','S'))\n",
    "estados = f.get()\n",
    "# displaying \n",
    "display(estados)"
   ]
  },
  {
   "cell_type": "code",
   "execution_count": null,
   "metadata": {
    "slideshow": {
     "slide_type": "subslide"
    }
   },
   "outputs": [],
   "source": [
    "from SimpleGeo import Predicates as pre\n",
    "\n",
    "# South or North regions\n",
    "f = s.feature('esensing:estados_bra')\\\n",
    "     .filter(pre.OR(\n",
    "             pre.EQ('regiao','S'),\n",
    "             pre.EQ('regiao','N')\n",
    "         ))\n",
    "estados = f.get()\n",
    "# displaying \n",
    "display(estados)"
   ]
  },
  {
   "cell_type": "code",
   "execution_count": null,
   "metadata": {
    "slideshow": {
     "slide_type": "subslide"
    }
   },
   "outputs": [],
   "source": [
    "from SimpleGeo import Predicates as pre\n",
    "\n",
    "f = s.feature(\"esensing:focos_bra_2016\") \\\n",
    "    .attributes([\"id\", \"municipio\", \"timestamp\", \"regiao\"]) \\\n",
    "    .filter(pre.OR(\n",
    "    pre.AND(\n",
    "        pre.EQ(\"satelite_referencia\", \"true\"),\n",
    "        pre.GE(\"timestamp\", \"2016-01-01\"),\n",
    "        pre.LT(\"timestamp\", \"2016-02-01\"),\n",
    "        pre.WITHIN(\n",
    "            \"POLYGON((-49.515628859948507 -19.394602563415745,-48.020567850467053 -19.610579617637825,-48.354439522883652 -21.052347219666608,-49.849500507163917 -20.836369963642884,-49.515628859948507 -19.394602563415745))\"),\n",
    "    ), \\\n",
    "    pre.NE(\"regiao\", \"SE\") \\\n",
    "    )) \\\n",
    "    .max_features(10) \\\n",
    "    .sort_by(pre.DESC(\"municipio\"))\n",
    "    \n",
    "focos = f.get()\n",
    "display(focos)"
   ]
  },
  {
   "cell_type": "markdown",
   "metadata": {
    "slideshow": {
     "slide_type": "slide"
    }
   },
   "source": [
    "## Obtendo Séries Temporais com a SimpleGeo\n",
    "<hr style=\"border:2px solid #0077b9;\">"
   ]
  },
  {
   "cell_type": "code",
   "execution_count": 13,
   "metadata": {
    "slideshow": {
     "slide_type": "subslide"
    }
   },
   "outputs": [
    {
     "data": {
      "text/html": [
       "<div>\n",
       "<style scoped>\n",
       "    .dataframe tbody tr th:only-of-type {\n",
       "        vertical-align: middle;\n",
       "    }\n",
       "\n",
       "    .dataframe tbody tr th {\n",
       "        vertical-align: top;\n",
       "    }\n",
       "\n",
       "    .dataframe thead th {\n",
       "        text-align: right;\n",
       "    }\n",
       "</style>\n",
       "<table border=\"1\" class=\"dataframe\">\n",
       "  <thead>\n",
       "    <tr style=\"text-align: right;\">\n",
       "      <th></th>\n",
       "      <th>humidity</th>\n",
       "      <th>precipitation</th>\n",
       "      <th>risk</th>\n",
       "      <th>temperature</th>\n",
       "    </tr>\n",
       "  </thead>\n",
       "  <tbody>\n",
       "    <tr>\n",
       "      <th>2016-01-01</th>\n",
       "      <td>0.620963</td>\n",
       "      <td>0.840492</td>\n",
       "      <td>0.047310</td>\n",
       "      <td>303.245178</td>\n",
       "    </tr>\n",
       "    <tr>\n",
       "      <th>2016-01-02</th>\n",
       "      <td>0.531946</td>\n",
       "      <td>5.364658</td>\n",
       "      <td>0.021442</td>\n",
       "      <td>303.892456</td>\n",
       "    </tr>\n",
       "    <tr>\n",
       "      <th>2016-01-03</th>\n",
       "      <td>0.734242</td>\n",
       "      <td>2.840686</td>\n",
       "      <td>0.029456</td>\n",
       "      <td>300.913147</td>\n",
       "    </tr>\n",
       "    <tr>\n",
       "      <th>2016-01-04</th>\n",
       "      <td>0.535269</td>\n",
       "      <td>3.866830</td>\n",
       "      <td>0.034228</td>\n",
       "      <td>304.197449</td>\n",
       "    </tr>\n",
       "  </tbody>\n",
       "</table>\n",
       "</div>"
      ],
      "text/plain": [
       "            humidity  precipitation      risk  temperature\n",
       "2016-01-01  0.620963       0.840492  0.047310   303.245178\n",
       "2016-01-02  0.531946       5.364658  0.021442   303.892456\n",
       "2016-01-03  0.734242       2.840686  0.029456   300.913147\n",
       "2016-01-04  0.535269       3.866830  0.034228   304.197449"
      ]
     },
     "metadata": {},
     "output_type": "display_data"
    }
   ],
   "source": [
    "from shapely.geometry import Point\n",
    "# Time Series\n",
    "\n",
    "c = s.coverage(\"rpth\") \\\n",
    "    .attributes([\"precipitation\", \"risk\", \"temperature\", \"humidity\"])\n",
    "\n",
    "ts = s.time_serie(c) \\\n",
    "    .period(\"2016-01-01\", \"2016-01-04\")\n",
    "\n",
    "ts_data = ts.get(Point(-54.0, -12.0))\n",
    "display(ts_data)"
   ]
  },
  {
   "cell_type": "code",
   "execution_count": 14,
   "metadata": {
    "slideshow": {
     "slide_type": "subslide"
    }
   },
   "outputs": [
    {
     "data": {
      "text/html": [
       "<div>\n",
       "<style scoped>\n",
       "    .dataframe tbody tr th:only-of-type {\n",
       "        vertical-align: middle;\n",
       "    }\n",
       "\n",
       "    .dataframe tbody tr th {\n",
       "        vertical-align: top;\n",
       "    }\n",
       "\n",
       "    .dataframe thead th {\n",
       "        text-align: right;\n",
       "    }\n",
       "</style>\n",
       "<table border=\"1\" class=\"dataframe\">\n",
       "  <thead>\n",
       "    <tr style=\"text-align: right;\">\n",
       "      <th></th>\n",
       "      <th>humidity</th>\n",
       "      <th>precipitation</th>\n",
       "      <th>risk</th>\n",
       "      <th>temperature</th>\n",
       "    </tr>\n",
       "  </thead>\n",
       "  <tbody>\n",
       "    <tr>\n",
       "      <th>2016-01-01</th>\n",
       "      <td>0.620963</td>\n",
       "      <td>0.840492</td>\n",
       "      <td>0.047310</td>\n",
       "      <td>303.245178</td>\n",
       "    </tr>\n",
       "    <tr>\n",
       "      <th>2016-01-02</th>\n",
       "      <td>0.531946</td>\n",
       "      <td>5.364658</td>\n",
       "      <td>0.021442</td>\n",
       "      <td>303.892456</td>\n",
       "    </tr>\n",
       "    <tr>\n",
       "      <th>2016-01-03</th>\n",
       "      <td>0.734242</td>\n",
       "      <td>2.840686</td>\n",
       "      <td>0.029456</td>\n",
       "      <td>300.913147</td>\n",
       "    </tr>\n",
       "    <tr>\n",
       "      <th>2016-01-04</th>\n",
       "      <td>0.535269</td>\n",
       "      <td>3.866830</td>\n",
       "      <td>0.034228</td>\n",
       "      <td>304.197449</td>\n",
       "    </tr>\n",
       "  </tbody>\n",
       "</table>\n",
       "</div>"
      ],
      "text/plain": [
       "            humidity  precipitation      risk  temperature\n",
       "2016-01-01  0.620963       0.840492  0.047310   303.245178\n",
       "2016-01-02  0.531946       5.364658  0.021442   303.892456\n",
       "2016-01-03  0.734242       2.840686  0.029456   300.913147\n",
       "2016-01-04  0.535269       3.866830  0.034228   304.197449"
      ]
     },
     "metadata": {},
     "output_type": "display_data"
    },
    {
     "data": {
      "text/html": [
       "<div>\n",
       "<style scoped>\n",
       "    .dataframe tbody tr th:only-of-type {\n",
       "        vertical-align: middle;\n",
       "    }\n",
       "\n",
       "    .dataframe tbody tr th {\n",
       "        vertical-align: top;\n",
       "    }\n",
       "\n",
       "    .dataframe thead th {\n",
       "        text-align: right;\n",
       "    }\n",
       "</style>\n",
       "<table border=\"1\" class=\"dataframe\">\n",
       "  <thead>\n",
       "    <tr style=\"text-align: right;\">\n",
       "      <th></th>\n",
       "      <th>humidity</th>\n",
       "      <th>precipitation</th>\n",
       "      <th>risk</th>\n",
       "      <th>temperature</th>\n",
       "    </tr>\n",
       "  </thead>\n",
       "  <tbody>\n",
       "    <tr>\n",
       "      <th>2016-01-01</th>\n",
       "      <td>0.570955</td>\n",
       "      <td>1.923350</td>\n",
       "      <td>0.042945</td>\n",
       "      <td>303.669464</td>\n",
       "    </tr>\n",
       "    <tr>\n",
       "      <th>2016-01-02</th>\n",
       "      <td>0.667068</td>\n",
       "      <td>5.284581</td>\n",
       "      <td>0.024789</td>\n",
       "      <td>301.866028</td>\n",
       "    </tr>\n",
       "    <tr>\n",
       "      <th>2016-01-03</th>\n",
       "      <td>0.790824</td>\n",
       "      <td>5.740402</td>\n",
       "      <td>0.018523</td>\n",
       "      <td>299.142426</td>\n",
       "    </tr>\n",
       "    <tr>\n",
       "      <th>2016-01-04</th>\n",
       "      <td>0.460336</td>\n",
       "      <td>0.241759</td>\n",
       "      <td>0.102072</td>\n",
       "      <td>305.305603</td>\n",
       "    </tr>\n",
       "  </tbody>\n",
       "</table>\n",
       "</div>"
      ],
      "text/plain": [
       "            humidity  precipitation      risk  temperature\n",
       "2016-01-01  0.570955       1.923350  0.042945   303.669464\n",
       "2016-01-02  0.667068       5.284581  0.024789   301.866028\n",
       "2016-01-03  0.790824       5.740402  0.018523   299.142426\n",
       "2016-01-04  0.460336       0.241759  0.102072   305.305603"
      ]
     },
     "metadata": {},
     "output_type": "display_data"
    }
   ],
   "source": [
    "# Lista de Pontos\n",
    "ts_data = ts.get([Point(-54.0, -12.0), Point(-54.0, -13.0)])\n",
    "for t in ts_data:\n",
    "    display(t)"
   ]
  },
  {
   "cell_type": "markdown",
   "metadata": {
    "slideshow": {
     "slide_type": "slide"
    }
   },
   "source": [
    "## Integrando Features e Séries Temporais\n",
    "<hr style=\"border:2px solid #0077b9;\">"
   ]
  },
  {
   "cell_type": "code",
   "execution_count": 18,
   "metadata": {
    "slideshow": {
     "slide_type": "subslide"
    }
   },
   "outputs": [
    {
     "data": {
      "text/html": [
       "<div>\n",
       "<style scoped>\n",
       "    .dataframe tbody tr th:only-of-type {\n",
       "        vertical-align: middle;\n",
       "    }\n",
       "\n",
       "    .dataframe tbody tr th {\n",
       "        vertical-align: top;\n",
       "    }\n",
       "\n",
       "    .dataframe thead th {\n",
       "        text-align: right;\n",
       "    }\n",
       "</style>\n",
       "<table border=\"1\" class=\"dataframe\">\n",
       "  <thead>\n",
       "    <tr style=\"text-align: right;\">\n",
       "      <th></th>\n",
       "      <th>bbox</th>\n",
       "      <th>geometry</th>\n",
       "      <th>id</th>\n",
       "      <th>municipio</th>\n",
       "      <th>regiao</th>\n",
       "      <th>timestamp</th>\n",
       "    </tr>\n",
       "  </thead>\n",
       "  <tbody>\n",
       "    <tr>\n",
       "      <th>0</th>\n",
       "      <td>[-52.31, -2.95, -52.31, -2.95]</td>\n",
       "      <td>POINT (-52.31 -2.95)</td>\n",
       "      <td>45276709</td>\n",
       "      <td>Vitória Do Xingu</td>\n",
       "      <td>N</td>\n",
       "      <td>2016-01-01T00:00:00Z</td>\n",
       "    </tr>\n",
       "    <tr>\n",
       "      <th>1</th>\n",
       "      <td>[-63.68, 0.5, -63.68, 0.5]</td>\n",
       "      <td>POINT (-63.68 0.5)</td>\n",
       "      <td>25231226</td>\n",
       "      <td>Barcelos</td>\n",
       "      <td>N</td>\n",
       "      <td>2016-01-01T00:00:00Z</td>\n",
       "    </tr>\n",
       "    <tr>\n",
       "      <th>2</th>\n",
       "      <td>[-63.66, 0.5, -63.66, 0.5]</td>\n",
       "      <td>POINT (-63.66 0.5)</td>\n",
       "      <td>25239660</td>\n",
       "      <td>Barcelos</td>\n",
       "      <td>N</td>\n",
       "      <td>2016-01-01T00:00:00Z</td>\n",
       "    </tr>\n",
       "    <tr>\n",
       "      <th>3</th>\n",
       "      <td>[-52.33, -2.95, -52.33, -2.95]</td>\n",
       "      <td>POINT (-52.33 -2.95)</td>\n",
       "      <td>42899497</td>\n",
       "      <td>Brasil Novo</td>\n",
       "      <td>N</td>\n",
       "      <td>2016-01-01T00:00:00Z</td>\n",
       "    </tr>\n",
       "    <tr>\n",
       "      <th>4</th>\n",
       "      <td>[-61.1, -11.34, -61.1, -11.34]</td>\n",
       "      <td>POINT (-61.1 -11.34)</td>\n",
       "      <td>46941054</td>\n",
       "      <td>Cacoal</td>\n",
       "      <td>N</td>\n",
       "      <td>2016-01-01T00:00:00Z</td>\n",
       "    </tr>\n",
       "  </tbody>\n",
       "</table>\n",
       "</div>"
      ],
      "text/plain": [
       "                             bbox              geometry        id  \\\n",
       "0  [-52.31, -2.95, -52.31, -2.95]  POINT (-52.31 -2.95)  45276709   \n",
       "1      [-63.68, 0.5, -63.68, 0.5]    POINT (-63.68 0.5)  25231226   \n",
       "2      [-63.66, 0.5, -63.66, 0.5]    POINT (-63.66 0.5)  25239660   \n",
       "3  [-52.33, -2.95, -52.33, -2.95]  POINT (-52.33 -2.95)  42899497   \n",
       "4  [-61.1, -11.34, -61.1, -11.34]  POINT (-61.1 -11.34)  46941054   \n",
       "\n",
       "          municipio regiao             timestamp  \n",
       "0  Vitória Do Xingu     N   2016-01-01T00:00:00Z  \n",
       "1          Barcelos     N   2016-01-01T00:00:00Z  \n",
       "2          Barcelos     N   2016-01-01T00:00:00Z  \n",
       "3       Brasil Novo     N   2016-01-01T00:00:00Z  \n",
       "4            Cacoal     N   2016-01-01T00:00:00Z  "
      ]
     },
     "metadata": {},
     "output_type": "display_data"
    }
   ],
   "source": [
    "# Integrando Features e TimeSeries\n",
    "\n",
    "# Série Temporal\n",
    "c = s.coverage(\"rpth\") \\\n",
    "    .attributes([\"precipitation\", \"risk\", \"temperature\", \"humidity\"])\n",
    "ts = s.time_serie(c)\n",
    "\n",
    "# Feature\n",
    "f = s.feature(\"esensing:focos_bra_2016\") \\\n",
    "    .attributes([\"id\", \"municipio\", \"timestamp\", \"regiao\"]) \\\n",
    "    .sort_by(\"timestamp\") \\\n",
    "    .max_features(5)\n",
    "display(f.get())"
   ]
  },
  {
   "cell_type": "code",
   "execution_count": 16,
   "metadata": {
    "slideshow": {
     "slide_type": "subslide"
    }
   },
   "outputs": [
    {
     "data": {
      "text/html": [
       "<div>\n",
       "<style scoped>\n",
       "    .dataframe tbody tr th:only-of-type {\n",
       "        vertical-align: middle;\n",
       "    }\n",
       "\n",
       "    .dataframe tbody tr th {\n",
       "        vertical-align: top;\n",
       "    }\n",
       "\n",
       "    .dataframe thead th {\n",
       "        text-align: right;\n",
       "    }\n",
       "</style>\n",
       "<table border=\"1\" class=\"dataframe\">\n",
       "  <thead>\n",
       "    <tr style=\"text-align: right;\">\n",
       "      <th></th>\n",
       "      <th>bbox</th>\n",
       "      <th>geometry</th>\n",
       "      <th>id</th>\n",
       "      <th>municipio</th>\n",
       "      <th>regiao</th>\n",
       "      <th>timestamp</th>\n",
       "      <th>humidity</th>\n",
       "      <th>precipitation</th>\n",
       "      <th>risk</th>\n",
       "      <th>temperature</th>\n",
       "    </tr>\n",
       "  </thead>\n",
       "  <tbody>\n",
       "    <tr>\n",
       "      <th>0</th>\n",
       "      <td>[-52.31, -2.95, -52.31, -2.95]</td>\n",
       "      <td>POINT (-52.31 -2.95)</td>\n",
       "      <td>45276709</td>\n",
       "      <td>Vitória Do Xingu</td>\n",
       "      <td>N</td>\n",
       "      <td>2016-01-01T00:00:00Z</td>\n",
       "      <td>0.565847</td>\n",
       "      <td>2.938754</td>\n",
       "      <td>0.536405</td>\n",
       "      <td>304.520020</td>\n",
       "    </tr>\n",
       "    <tr>\n",
       "      <th>1</th>\n",
       "      <td>[-63.68, 0.5, -63.68, 0.5]</td>\n",
       "      <td>POINT (-63.68 0.5)</td>\n",
       "      <td>25231226</td>\n",
       "      <td>Barcelos</td>\n",
       "      <td>N</td>\n",
       "      <td>2016-01-01T00:00:00Z</td>\n",
       "      <td>0.473713</td>\n",
       "      <td>0.000000</td>\n",
       "      <td>0.415944</td>\n",
       "      <td>305.005859</td>\n",
       "    </tr>\n",
       "    <tr>\n",
       "      <th>2</th>\n",
       "      <td>[-63.66, 0.5, -63.66, 0.5]</td>\n",
       "      <td>POINT (-63.66 0.5)</td>\n",
       "      <td>25239660</td>\n",
       "      <td>Barcelos</td>\n",
       "      <td>N</td>\n",
       "      <td>2016-01-01T00:00:00Z</td>\n",
       "      <td>0.473829</td>\n",
       "      <td>0.000000</td>\n",
       "      <td>0.438030</td>\n",
       "      <td>305.018280</td>\n",
       "    </tr>\n",
       "    <tr>\n",
       "      <th>3</th>\n",
       "      <td>[-52.33, -2.95, -52.33, -2.95]</td>\n",
       "      <td>POINT (-52.33 -2.95)</td>\n",
       "      <td>42899497</td>\n",
       "      <td>Brasil Novo</td>\n",
       "      <td>N</td>\n",
       "      <td>2016-01-01T00:00:00Z</td>\n",
       "      <td>0.567601</td>\n",
       "      <td>2.650581</td>\n",
       "      <td>1.000000</td>\n",
       "      <td>304.486359</td>\n",
       "    </tr>\n",
       "    <tr>\n",
       "      <th>4</th>\n",
       "      <td>[-61.1, -11.34, -61.1, -11.34]</td>\n",
       "      <td>POINT (-61.1 -11.34)</td>\n",
       "      <td>46941054</td>\n",
       "      <td>Cacoal</td>\n",
       "      <td>N</td>\n",
       "      <td>2016-01-01T00:00:00Z</td>\n",
       "      <td>0.623452</td>\n",
       "      <td>0.027066</td>\n",
       "      <td>0.154713</td>\n",
       "      <td>302.489166</td>\n",
       "    </tr>\n",
       "  </tbody>\n",
       "</table>\n",
       "</div>"
      ],
      "text/plain": [
       "                             bbox              geometry        id  \\\n",
       "0  [-52.31, -2.95, -52.31, -2.95]  POINT (-52.31 -2.95)  45276709   \n",
       "1      [-63.68, 0.5, -63.68, 0.5]    POINT (-63.68 0.5)  25231226   \n",
       "2      [-63.66, 0.5, -63.66, 0.5]    POINT (-63.66 0.5)  25239660   \n",
       "3  [-52.33, -2.95, -52.33, -2.95]  POINT (-52.33 -2.95)  42899497   \n",
       "4  [-61.1, -11.34, -61.1, -11.34]  POINT (-61.1 -11.34)  46941054   \n",
       "\n",
       "          municipio regiao             timestamp  humidity  precipitation  \\\n",
       "0  Vitória Do Xingu     N   2016-01-01T00:00:00Z  0.565847       2.938754   \n",
       "1          Barcelos     N   2016-01-01T00:00:00Z  0.473713       0.000000   \n",
       "2          Barcelos     N   2016-01-01T00:00:00Z  0.473829       0.000000   \n",
       "3       Brasil Novo     N   2016-01-01T00:00:00Z  0.567601       2.650581   \n",
       "4            Cacoal     N   2016-01-01T00:00:00Z  0.623452       0.027066   \n",
       "\n",
       "       risk  temperature  \n",
       "0  0.536405   304.520020  \n",
       "1  0.415944   305.005859  \n",
       "2  0.438030   305.018280  \n",
       "3  1.000000   304.486359  \n",
       "4  0.154713   302.489166  "
      ]
     },
     "metadata": {},
     "output_type": "display_data"
    }
   ],
   "source": [
    "# Integrando Features e TimeSeries\n",
    "\n",
    "# Série Temporal\n",
    "c = s.coverage(\"rpth\") \\\n",
    "    .attributes([\"precipitation\", \"risk\", \"temperature\", \"humidity\"])\n",
    "ts = s.time_serie(c)\n",
    "\n",
    "# Feature + Série Temporal\n",
    "f = s.feature(\"esensing:focos_bra_2016\") \\\n",
    "    .attributes(\n",
    "    [\"id\", \"municipio\", \"timestamp\", \"regiao\",\n",
    "     {'time_serie': ts, 'start_date': 0, 'end_date': 0, 'datetime': 'timestamp'}]) \\\n",
    "    .sort_by(\"timestamp\") \\\n",
    "    .max_features(5)\n",
    "display(f.get())"
   ]
  },
  {
   "cell_type": "markdown",
   "metadata": {
    "slideshow": {
     "slide_type": "slide"
    }
   },
   "source": [
    "### Cache\n",
    "<hr style=\"border:2px solid #0077b9;\">\n"
   ]
  },
  {
   "cell_type": "code",
   "execution_count": 20,
   "metadata": {
    "slideshow": {
     "slide_type": "subslide"
    }
   },
   "outputs": [
    {
     "name": "stdout",
     "output_type": "stream",
     "text": [
      "Elapsed time: 9.74682998657s\n"
     ]
    }
   ],
   "source": [
    "from SimpleGeo import Predicates as pre\n",
    "import time\n",
    "\n",
    "# connect to wfs and wtss servers\n",
    "s = SimpleGeo(wfs=\"http://www.terrama2.dpi.inpe.br/geoserver\", wtss=\"http://www.terrama2.dpi.inpe.br/e-sensing\", cache=True, cache_dir=\"/tmp/.cache\")\n",
    "s.clear_cache()\n",
    "f = s.feature(\"esensing:focos_bra_2016\") \\\n",
    "    .attributes([\"id\", \"municipio\", \"timestamp\", \"regiao\"]) \\\n",
    "    .filter(pre.OR(\n",
    "    pre.AND(\n",
    "        pre.EQ(\"satelite_referencia\", \"true\"),\n",
    "        pre.GE(\"timestamp\", \"2016-01-01\"),\n",
    "        pre.LT(\"timestamp\", \"2016-02-01\"),\n",
    "        pre.WITHIN(\n",
    "            \"POLYGON((-49.515628859948507 -19.394602563415745,-48.020567850467053 -19.610579617637825,-48.354439522883652 -21.052347219666608,-49.849500507163917 -20.836369963642884,-49.515628859948507 -19.394602563415745))\"),\n",
    "    ), \\\n",
    "    pre.NE(\"regiao\", \"SE\") \\\n",
    "    )) \\\n",
    "    .max_features(10) \\\n",
    "    .sort_by(pre.DESC(\"municipio\"))\n",
    "\n",
    "start = time.time()\n",
    "focos = f.get()\n",
    "end = time.time()\n",
    "\n",
    "# total time\n",
    "print(\"Elapsed time: {}s\".format(end-start))"
   ]
  }
 ],
 "metadata": {
  "celltoolbar": "Slideshow",
  "kernelspec": {
   "display_name": "Python [conda env:simplegeo]",
   "language": "python",
   "name": "conda-env-simplegeo-py"
  },
  "language_info": {
   "codemirror_mode": {
    "name": "ipython",
    "version": 2
   },
   "file_extension": ".py",
   "mimetype": "text/x-python",
   "name": "python",
   "nbconvert_exporter": "python",
   "pygments_lexer": "ipython2",
   "version": "2.7.14"
  }
 },
 "nbformat": 4,
 "nbformat_minor": 2
}
