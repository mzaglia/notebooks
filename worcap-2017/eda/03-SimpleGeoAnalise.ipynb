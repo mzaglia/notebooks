{
 "cells": [
  {
   "cell_type": "markdown",
   "metadata": {
    "slideshow": {
     "slide_type": "slide"
    }
   },
   "source": [
    "# Análise exploratória dos dados de queimadas\n",
    "<hr style=\"border:2px solid #0077b9;\">\n",
    "\n",
    "- Obtendo os dados através da [SimpleGeo.py](https://github.com/vconrado/bdq.py)\n",
    "- Explorando os dados ([seaborn](https://seaborn.pydata.org/))"
   ]
  },
  {
   "cell_type": "markdown",
   "metadata": {
    "slideshow": {
     "slide_type": "slide"
    }
   },
   "source": [
    "# Objetivo\n",
    "<hr style=\"border:2px solid #0077b9;\">\n",
    "Conhecer os dados, avaliando as correlações entre variáveis e suas distribuições\n",
    "\n",
    "- Qual a relação entre o índice de risco a ocorrência de focos?\n",
    "- Essa relação é constante em todas as regiões do país?\n",
    "- E é constante nas estações do ano?"
   ]
  },
  {
   "cell_type": "markdown",
   "metadata": {
    "slideshow": {
     "slide_type": "slide"
    }
   },
   "source": [
    "# Obtendo dados através da SimpleGeo\n",
    "<hr style=\"border:2px solid #0077b9;\">"
   ]
  },
  {
   "cell_type": "code",
   "execution_count": 12,
   "metadata": {
    "slideshow": {
     "slide_type": "subslide"
    }
   },
   "outputs": [
    {
     "data": {
      "text/html": [
       "<style>.dataframe{font-size: 16px !important;}</style>"
      ],
      "text/plain": [
       "<IPython.core.display.HTML object>"
      ]
     },
     "metadata": {},
     "output_type": "display_data"
    }
   ],
   "source": [
    "from SimpleGeo import SimpleGeo, Predicates as pre\n",
    "\n",
    "import pandas as pd\n",
    "from datetime import datetime, timedelta\n",
    "import matplotlib.pyplot as plt\n",
    "from IPython.display import display, HTML \n",
    "display(HTML(\"<style>.dataframe{font-size: 16px !important;}</style>\"))\n",
    "\n",
    "# Objeto SimpleGeo\n",
    "s = SimpleGeo(wfs=\"http://www.terrama2.dpi.inpe.br/geoserver\", wtss=\"http://www.terrama2.dpi.inpe.br/e-sensing\", cache=True, cache_dir=\"/tmp/.simplegeo\")\n",
    "\n",
    "# Coverage e TimeSerie\n",
    "c = s.coverage(\"rpth\") \\\n",
    "    .attributes([\"precipitation\", \"risk\", \"temperature\", \"humidity\"])\n",
    "ts = s.time_serie(c)  "
   ]
  },
  {
   "cell_type": "code",
   "execution_count": 15,
   "metadata": {
    "slideshow": {
     "slide_type": "subslide"
    }
   },
   "outputs": [],
   "source": [
    "# Feature Base\n",
    "f = s.feature('esensing:focos_bra_2016') \\\n",
    "     .attributes([\"timestamp\",\"regiao\",\"bioma\",\"satelite\",\"satelite_referencia\",\n",
    "                {'time_serie': ts, 'start_date': 0, 'end_date': 0, 'datetime': 'timestamp'}]) \\\n",
    "     .max_features(5) \\\n",
    "     .sort_by('rand')\n",
    "\n",
    "# Filtro Base\n",
    "satelite_filter = pre.OR(\n",
    "                    pre.EQ('satelite','TERRA_M-M'),\n",
    "                    pre.EQ('satelite','TERRA_M-T'),\n",
    "                    pre.EQ('satelite','AQUA_M-M'),\n",
    "                    pre.EQ('satelite','AQUA_M-T'))\n",
    "\n",
    "# Obtendo Features para cada Região\n",
    "fc_n = f.filter(pre.AND(satelite_filter, pre.EQ('regiao','N'))).get()   \n",
    "fc_ne = f.filter(pre.AND(satelite_filter, pre.EQ('regiao','NE'))).get()   \n",
    "fc_co = f.filter(pre.AND(satelite_filter, pre.EQ('regiao','CO'))).get()   \n",
    "fc_se = f.filter(pre.AND(satelite_filter, pre.EQ('regiao','SE'))).get()   \n",
    "fc_s = f.filter(pre.AND(satelite_filter, pre.EQ('regiao','S'))).get()"
   ]
  },
  {
   "cell_type": "code",
   "execution_count": 16,
   "metadata": {
    "slideshow": {
     "slide_type": "subslide"
    }
   },
   "outputs": [
    {
     "data": {
      "text/html": [
       "<div>\n",
       "<style scoped>\n",
       "    .dataframe tbody tr th:only-of-type {\n",
       "        vertical-align: middle;\n",
       "    }\n",
       "\n",
       "    .dataframe tbody tr th {\n",
       "        vertical-align: top;\n",
       "    }\n",
       "\n",
       "    .dataframe thead th {\n",
       "        text-align: right;\n",
       "    }\n",
       "</style>\n",
       "<table border=\"1\" class=\"dataframe\">\n",
       "  <thead>\n",
       "    <tr style=\"text-align: right;\">\n",
       "      <th></th>\n",
       "      <th>bbox</th>\n",
       "      <th>bioma</th>\n",
       "      <th>geometry</th>\n",
       "      <th>regiao</th>\n",
       "      <th>satelite</th>\n",
       "      <th>satelite_referencia</th>\n",
       "      <th>timestamp</th>\n",
       "      <th>humidity</th>\n",
       "      <th>precipitation</th>\n",
       "      <th>risk</th>\n",
       "      <th>temperature</th>\n",
       "    </tr>\n",
       "  </thead>\n",
       "  <tbody>\n",
       "    <tr>\n",
       "      <th>484</th>\n",
       "      <td>[-50.258, -28.853, -50.258, -28.853]</td>\n",
       "      <td>Mata Atlântica</td>\n",
       "      <td>POINT (-50.258 -28.853)</td>\n",
       "      <td>S</td>\n",
       "      <td>AQUA_M-T</td>\n",
       "      <td>True</td>\n",
       "      <td>2016-08-13T17:09:50Z</td>\n",
       "      <td>0.495209</td>\n",
       "      <td>0.0</td>\n",
       "      <td>2.233719e-01</td>\n",
       "      <td>291.824249</td>\n",
       "    </tr>\n",
       "    <tr>\n",
       "      <th>312</th>\n",
       "      <td>[-46.57, -22.909, -46.57, -22.909]</td>\n",
       "      <td>Mata Atlântica</td>\n",
       "      <td>POINT (-46.57 -22.909)</td>\n",
       "      <td>SE</td>\n",
       "      <td>TERRA_M-T</td>\n",
       "      <td>False</td>\n",
       "      <td>2016-07-15T13:16:13Z</td>\n",
       "      <td>0.432894</td>\n",
       "      <td>0.0</td>\n",
       "      <td>9.969210e+36</td>\n",
       "      <td>298.369324</td>\n",
       "    </tr>\n",
       "    <tr>\n",
       "      <th>369</th>\n",
       "      <td>[-41.591, -17.405, -41.591, -17.405]</td>\n",
       "      <td>Mata Atlântica</td>\n",
       "      <td>POINT (-41.591 -17.405)</td>\n",
       "      <td>SE</td>\n",
       "      <td>AQUA_M-T</td>\n",
       "      <td>True</td>\n",
       "      <td>2016-09-20T16:33:46Z</td>\n",
       "      <td>0.275980</td>\n",
       "      <td>0.0</td>\n",
       "      <td>1.000000e+00</td>\n",
       "      <td>305.587555</td>\n",
       "    </tr>\n",
       "    <tr>\n",
       "      <th>2</th>\n",
       "      <td>[-63.588, -8.011, -63.588, -8.011]</td>\n",
       "      <td>Amazônia</td>\n",
       "      <td>POINT (-63.588 -8.010999999999999)</td>\n",
       "      <td>N</td>\n",
       "      <td>AQUA_M-T</td>\n",
       "      <td>True</td>\n",
       "      <td>2016-08-05T17:58:58Z</td>\n",
       "      <td>0.256109</td>\n",
       "      <td>0.0</td>\n",
       "      <td>6.928988e-01</td>\n",
       "      <td>308.596893</td>\n",
       "    </tr>\n",
       "    <tr>\n",
       "      <th>489</th>\n",
       "      <td>[-50.692, -28.11, -50.692, -28.11]</td>\n",
       "      <td>Mata Atlântica</td>\n",
       "      <td>POINT (-50.692 -28.11)</td>\n",
       "      <td>S</td>\n",
       "      <td>AQUA_M-T</td>\n",
       "      <td>True</td>\n",
       "      <td>2016-09-12T17:21:55Z</td>\n",
       "      <td>0.640521</td>\n",
       "      <td>0.0</td>\n",
       "      <td>3.152454e-01</td>\n",
       "      <td>295.752106</td>\n",
       "    </tr>\n",
       "  </tbody>\n",
       "</table>\n",
       "</div>"
      ],
      "text/plain": [
       "                                     bbox           bioma  \\\n",
       "484  [-50.258, -28.853, -50.258, -28.853]  Mata Atlântica   \n",
       "312    [-46.57, -22.909, -46.57, -22.909]  Mata Atlântica   \n",
       "369  [-41.591, -17.405, -41.591, -17.405]  Mata Atlântica   \n",
       "2      [-63.588, -8.011, -63.588, -8.011]        Amazônia   \n",
       "489    [-50.692, -28.11, -50.692, -28.11]  Mata Atlântica   \n",
       "\n",
       "                               geometry regiao   satelite  \\\n",
       "484             POINT (-50.258 -28.853)     S    AQUA_M-T   \n",
       "312              POINT (-46.57 -22.909)     SE  TERRA_M-T   \n",
       "369             POINT (-41.591 -17.405)     SE   AQUA_M-T   \n",
       "2    POINT (-63.588 -8.010999999999999)     N    AQUA_M-T   \n",
       "489              POINT (-50.692 -28.11)     S    AQUA_M-T   \n",
       "\n",
       "     satelite_referencia             timestamp  humidity  precipitation  \\\n",
       "484                 True  2016-08-13T17:09:50Z  0.495209            0.0   \n",
       "312                False  2016-07-15T13:16:13Z  0.432894            0.0   \n",
       "369                 True  2016-09-20T16:33:46Z  0.275980            0.0   \n",
       "2                   True  2016-08-05T17:58:58Z  0.256109            0.0   \n",
       "489                 True  2016-09-12T17:21:55Z  0.640521            0.0   \n",
       "\n",
       "             risk  temperature  \n",
       "484  2.233719e-01   291.824249  \n",
       "312  9.969210e+36   298.369324  \n",
       "369  1.000000e+00   305.587555  \n",
       "2    6.928988e-01   308.596893  \n",
       "489  3.152454e-01   295.752106  "
      ]
     },
     "metadata": {},
     "output_type": "display_data"
    }
   ],
   "source": [
    "# Combinando todos os dados\n",
    "focos = pd.concat([fc_n, fc_ne, fc_co, fc_se, fc_s], ignore_index=True)\n",
    "\n",
    "# Mostrando amostra\n",
    "display(focos.sample(n=5))"
   ]
  },
  {
   "cell_type": "code",
   "execution_count": 17,
   "metadata": {
    "slideshow": {
     "slide_type": "subslide"
    }
   },
   "outputs": [
    {
     "data": {
      "text/html": [
       "<div>\n",
       "<style scoped>\n",
       "    .dataframe tbody tr th:only-of-type {\n",
       "        vertical-align: middle;\n",
       "    }\n",
       "\n",
       "    .dataframe tbody tr th {\n",
       "        vertical-align: top;\n",
       "    }\n",
       "\n",
       "    .dataframe thead th {\n",
       "        text-align: right;\n",
       "    }\n",
       "</style>\n",
       "<table border=\"1\" class=\"dataframe\">\n",
       "  <thead>\n",
       "    <tr style=\"text-align: right;\">\n",
       "      <th></th>\n",
       "      <th>humidity</th>\n",
       "      <th>precipitation</th>\n",
       "      <th>risk</th>\n",
       "      <th>temperature</th>\n",
       "      <th>bioma</th>\n",
       "      <th>regiao</th>\n",
       "      <th>timestamp</th>\n",
       "    </tr>\n",
       "  </thead>\n",
       "  <tbody>\n",
       "    <tr>\n",
       "      <th>230</th>\n",
       "      <td>0.430615</td>\n",
       "      <td>0.0</td>\n",
       "      <td>0.024365</td>\n",
       "      <td>304.775970</td>\n",
       "      <td>Amazônia</td>\n",
       "      <td>CO</td>\n",
       "      <td>2016-02-12T14:15:42Z</td>\n",
       "    </tr>\n",
       "    <tr>\n",
       "      <th>114</th>\n",
       "      <td>0.593401</td>\n",
       "      <td>0.0</td>\n",
       "      <td>1.000000</td>\n",
       "      <td>301.667542</td>\n",
       "      <td>Mata Atlântica</td>\n",
       "      <td>NE</td>\n",
       "      <td>2016-12-29T00:55:00Z</td>\n",
       "    </tr>\n",
       "    <tr>\n",
       "      <th>92</th>\n",
       "      <td>0.606797</td>\n",
       "      <td>0.0</td>\n",
       "      <td>1.000000</td>\n",
       "      <td>304.002075</td>\n",
       "      <td>Amazônia</td>\n",
       "      <td>N</td>\n",
       "      <td>2016-01-17T16:35:00Z</td>\n",
       "    </tr>\n",
       "    <tr>\n",
       "      <th>170</th>\n",
       "      <td>0.290245</td>\n",
       "      <td>0.0</td>\n",
       "      <td>1.000000</td>\n",
       "      <td>303.528931</td>\n",
       "      <td>Cerrado</td>\n",
       "      <td>NE</td>\n",
       "      <td>2016-08-26T01:25:00Z</td>\n",
       "    </tr>\n",
       "    <tr>\n",
       "      <th>100</th>\n",
       "      <td>0.529096</td>\n",
       "      <td>0.0</td>\n",
       "      <td>1.000000</td>\n",
       "      <td>302.712158</td>\n",
       "      <td>Caatinga</td>\n",
       "      <td>NE</td>\n",
       "      <td>2016-11-11T16:10:22Z</td>\n",
       "    </tr>\n",
       "  </tbody>\n",
       "</table>\n",
       "</div>"
      ],
      "text/plain": [
       "     humidity  precipitation      risk  temperature           bioma regiao  \\\n",
       "230  0.430615            0.0  0.024365   304.775970        Amazônia     CO   \n",
       "114  0.593401            0.0  1.000000   301.667542  Mata Atlântica     NE   \n",
       "92   0.606797            0.0  1.000000   304.002075        Amazônia     N    \n",
       "170  0.290245            0.0  1.000000   303.528931         Cerrado     NE   \n",
       "100  0.529096            0.0  1.000000   302.712158        Caatinga     NE   \n",
       "\n",
       "                timestamp  \n",
       "230  2016-02-12T14:15:42Z  \n",
       "114  2016-12-29T00:55:00Z  \n",
       "92   2016-01-17T16:35:00Z  \n",
       "170  2016-08-26T01:25:00Z  \n",
       "100  2016-11-11T16:10:22Z  "
      ]
     },
     "metadata": {},
     "output_type": "display_data"
    }
   ],
   "source": [
    "# Limpando os dados\n",
    "\n",
    "dados = focos[['humidity', 'precipitation', 'risk', 'temperature', 'bioma', 'regiao', 'timestamp']]\n",
    "\n",
    "display(dados.sample(n=5))"
   ]
  },
  {
   "cell_type": "code",
   "execution_count": 18,
   "metadata": {
    "slideshow": {
     "slide_type": "subslide"
    }
   },
   "outputs": [
    {
     "data": {
      "text/html": [
       "<div>\n",
       "<style scoped>\n",
       "    .dataframe tbody tr th:only-of-type {\n",
       "        vertical-align: middle;\n",
       "    }\n",
       "\n",
       "    .dataframe tbody tr th {\n",
       "        vertical-align: top;\n",
       "    }\n",
       "\n",
       "    .dataframe thead th {\n",
       "        text-align: right;\n",
       "    }\n",
       "</style>\n",
       "<table border=\"1\" class=\"dataframe\">\n",
       "  <thead>\n",
       "    <tr style=\"text-align: right;\">\n",
       "      <th></th>\n",
       "      <th>humidity</th>\n",
       "      <th>precipitation</th>\n",
       "      <th>risk</th>\n",
       "      <th>temperature</th>\n",
       "    </tr>\n",
       "  </thead>\n",
       "  <tbody>\n",
       "    <tr>\n",
       "      <th>count</th>\n",
       "      <td>500.000000</td>\n",
       "      <td>500.000000</td>\n",
       "      <td>5.000000e+02</td>\n",
       "      <td>500.000000</td>\n",
       "    </tr>\n",
       "    <tr>\n",
       "      <th>mean</th>\n",
       "      <td>0.413686</td>\n",
       "      <td>0.343883</td>\n",
       "      <td>7.975368e+34</td>\n",
       "      <td>302.986116</td>\n",
       "    </tr>\n",
       "    <tr>\n",
       "      <th>std</th>\n",
       "      <td>0.162213</td>\n",
       "      <td>1.539364</td>\n",
       "      <td>8.889888e+35</td>\n",
       "      <td>5.176278</td>\n",
       "    </tr>\n",
       "    <tr>\n",
       "      <th>min</th>\n",
       "      <td>0.133362</td>\n",
       "      <td>0.000000</td>\n",
       "      <td>2.523286e-05</td>\n",
       "      <td>285.132355</td>\n",
       "    </tr>\n",
       "    <tr>\n",
       "      <th>25%</th>\n",
       "      <td>0.283485</td>\n",
       "      <td>0.000000</td>\n",
       "      <td>4.540023e-01</td>\n",
       "      <td>300.222672</td>\n",
       "    </tr>\n",
       "    <tr>\n",
       "      <th>50%</th>\n",
       "      <td>0.384759</td>\n",
       "      <td>0.000000</td>\n",
       "      <td>1.000000e+00</td>\n",
       "      <td>304.416138</td>\n",
       "    </tr>\n",
       "    <tr>\n",
       "      <th>75%</th>\n",
       "      <td>0.513423</td>\n",
       "      <td>0.000000</td>\n",
       "      <td>1.000000e+00</td>\n",
       "      <td>306.846298</td>\n",
       "    </tr>\n",
       "    <tr>\n",
       "      <th>max</th>\n",
       "      <td>0.967647</td>\n",
       "      <td>18.972645</td>\n",
       "      <td>9.969210e+36</td>\n",
       "      <td>311.992950</td>\n",
       "    </tr>\n",
       "  </tbody>\n",
       "</table>\n",
       "</div>"
      ],
      "text/plain": [
       "         humidity  precipitation          risk  temperature\n",
       "count  500.000000     500.000000  5.000000e+02   500.000000\n",
       "mean     0.413686       0.343883  7.975368e+34   302.986116\n",
       "std      0.162213       1.539364  8.889888e+35     5.176278\n",
       "min      0.133362       0.000000  2.523286e-05   285.132355\n",
       "25%      0.283485       0.000000  4.540023e-01   300.222672\n",
       "50%      0.384759       0.000000  1.000000e+00   304.416138\n",
       "75%      0.513423       0.000000  1.000000e+00   306.846298\n",
       "max      0.967647      18.972645  9.969210e+36   311.992950"
      ]
     },
     "execution_count": 18,
     "metadata": {},
     "output_type": "execute_result"
    }
   ],
   "source": [
    "# Olhando os dados\n",
    "dados.describe()"
   ]
  },
  {
   "cell_type": "code",
   "execution_count": 19,
   "metadata": {
    "slideshow": {
     "slide_type": "subslide"
    }
   },
   "outputs": [
    {
     "data": {
      "text/html": [
       "<div>\n",
       "<style scoped>\n",
       "    .dataframe tbody tr th:only-of-type {\n",
       "        vertical-align: middle;\n",
       "    }\n",
       "\n",
       "    .dataframe tbody tr th {\n",
       "        vertical-align: top;\n",
       "    }\n",
       "\n",
       "    .dataframe thead th {\n",
       "        text-align: right;\n",
       "    }\n",
       "</style>\n",
       "<table border=\"1\" class=\"dataframe\">\n",
       "  <thead>\n",
       "    <tr style=\"text-align: right;\">\n",
       "      <th></th>\n",
       "      <th>risk</th>\n",
       "      <th>precipitation</th>\n",
       "      <th>humidity</th>\n",
       "      <th>temperature</th>\n",
       "    </tr>\n",
       "  </thead>\n",
       "  <tbody>\n",
       "    <tr>\n",
       "      <th>count</th>\n",
       "      <td>496.000000</td>\n",
       "      <td>496.000000</td>\n",
       "      <td>496.000000</td>\n",
       "      <td>496.000000</td>\n",
       "    </tr>\n",
       "    <tr>\n",
       "      <th>mean</th>\n",
       "      <td>0.741521</td>\n",
       "      <td>0.346656</td>\n",
       "      <td>0.412846</td>\n",
       "      <td>29.864349</td>\n",
       "    </tr>\n",
       "    <tr>\n",
       "      <th>std</th>\n",
       "      <td>0.351531</td>\n",
       "      <td>1.545260</td>\n",
       "      <td>0.162018</td>\n",
       "      <td>5.154784</td>\n",
       "    </tr>\n",
       "    <tr>\n",
       "      <th>min</th>\n",
       "      <td>0.000025</td>\n",
       "      <td>0.000000</td>\n",
       "      <td>0.133362</td>\n",
       "      <td>11.982355</td>\n",
       "    </tr>\n",
       "    <tr>\n",
       "      <th>25%</th>\n",
       "      <td>0.445469</td>\n",
       "      <td>0.000000</td>\n",
       "      <td>0.283060</td>\n",
       "      <td>27.125375</td>\n",
       "    </tr>\n",
       "    <tr>\n",
       "      <th>50%</th>\n",
       "      <td>1.000000</td>\n",
       "      <td>0.000000</td>\n",
       "      <td>0.384331</td>\n",
       "      <td>31.274606</td>\n",
       "    </tr>\n",
       "    <tr>\n",
       "      <th>75%</th>\n",
       "      <td>1.000000</td>\n",
       "      <td>0.000000</td>\n",
       "      <td>0.513045</td>\n",
       "      <td>33.696298</td>\n",
       "    </tr>\n",
       "    <tr>\n",
       "      <th>max</th>\n",
       "      <td>1.000000</td>\n",
       "      <td>18.972645</td>\n",
       "      <td>0.967647</td>\n",
       "      <td>38.842950</td>\n",
       "    </tr>\n",
       "  </tbody>\n",
       "</table>\n",
       "</div>"
      ],
      "text/plain": [
       "             risk  precipitation    humidity  temperature\n",
       "count  496.000000     496.000000  496.000000   496.000000\n",
       "mean     0.741521       0.346656    0.412846    29.864349\n",
       "std      0.351531       1.545260    0.162018     5.154784\n",
       "min      0.000025       0.000000    0.133362    11.982355\n",
       "25%      0.445469       0.000000    0.283060    27.125375\n",
       "50%      1.000000       0.000000    0.384331    31.274606\n",
       "75%      1.000000       0.000000    0.513045    33.696298\n",
       "max      1.000000      18.972645    0.967647    38.842950"
      ]
     },
     "execution_count": 19,
     "metadata": {},
     "output_type": "execute_result"
    }
   ],
   "source": [
    "# Arrumando os dados\n",
    "\n",
    "# Removendo linhas com missing data\n",
    "dados = dados[dados['risk']<=1]\n",
    "\n",
    "# reordenando os dados\n",
    "dados = dados[[\"risk\", \"precipitation\", \"humidity\", \"temperature\", \"bioma\", \"regiao\", \"timestamp\"]]\n",
    "\n",
    "# Convertendo temperatura de Kelvin para Celsius\n",
    "dados[\"temperature\"] = dados[\"temperature\"]-273.15\n",
    "\n",
    "# Convertendo para data\n",
    "dados['timestamp'] = pd.to_datetime(dados['timestamp'])  \n",
    "\n",
    "dados.describe()"
   ]
  },
  {
   "cell_type": "markdown",
   "metadata": {
    "slideshow": {
     "slide_type": "slide"
    }
   },
   "source": [
    "## Explorando os dados\n",
    "<hr style=\"border:2px solid #0077b9;\">\n",
    "- Explorar dados\n",
    "    - Todo o Brasil\n",
    "    - Por região (N, NE, CO, SE e S)\n",
    "    - Por estação (Primavera, Verão, Outono e Inverno)"
   ]
  },
  {
   "cell_type": "markdown",
   "metadata": {
    "slideshow": {
     "slide_type": "subslide"
    }
   },
   "source": [
    "### Todo o Brasil\n",
    "<hr style=\"border:2px solid #0077b9;\">"
   ]
  },
  {
   "cell_type": "code",
   "execution_count": 20,
   "metadata": {
    "slideshow": {
     "slide_type": "subslide"
    }
   },
   "outputs": [],
   "source": [
    "# importando e configurando módulos de plotagem\n",
    "import seaborn as sns\n",
    "import numpy as np\n",
    "from IPython.display import display, HTML \n",
    "from matplotlib import pyplot as plt\n",
    "%matplotlib inline \n",
    "\n",
    "fig_size = (16,5)\n",
    "palette=sns.diverging_palette(10, 240,  as_cmap=True)\n",
    "\n",
    "siglas = [\"N \", \"NE\", \"CO\", \"SE\", \"S \"]\n",
    "regioes = [\"Norte\", \"Nordeste\", \"Centro-Oeste\", \"Sudeste\", \"Sul\"]\n",
    "\n",
    "palette=sns.diverging_palette(240, 10,  as_cmap=True)"
   ]
  },
  {
   "cell_type": "code",
   "execution_count": 21,
   "metadata": {
    "slideshow": {
     "slide_type": "subslide"
    }
   },
   "outputs": [
    {
     "data": {
      "text/plain": [
       "<matplotlib.axes._subplots.AxesSubplot at 0x7fde11cb5950>"
      ]
     },
     "execution_count": 21,
     "metadata": {},
     "output_type": "execute_result"
    },
    {
     "data": {
      "image/png": "[encoded data removed]",
      "text/plain": [
       "<matplotlib.figure.Figure at 0x7fde11c231d0>"
      ]
     },
     "metadata": {},
     "output_type": "display_data"
    }
   ],
   "source": [
    "# Gerando matrix de correlação\n",
    "sns.set(font_scale=1.2)\n",
    "f, ax = plt.subplots(figsize=(10, 8))\n",
    "corr = dados.corr()\n",
    "sns.heatmap(corr, mask=np.zeros_like(corr, dtype=np.bool), cmap=palette, \n",
    "            square=True, ax=ax, annot=True) "
   ]
  },
  {
   "cell_type": "code",
   "execution_count": 22,
   "metadata": {
    "slideshow": {
     "slide_type": "subslide"
    }
   },
   "outputs": [
    {
     "data": {
      "image/png": "[encoded data removed]",
      "text/plain": [
       "<matplotlib.figure.Figure at 0x7fde1a8394d0>"
      ]
     },
     "metadata": {},
     "output_type": "display_data"
    }
   ],
   "source": [
    "# Boxplot de todos os dados\n",
    "fig, ax = plt.subplots(figsize=fig_size)\n",
    "sns.boxplot(ax=ax, x=\"risk\", data=dados, palette=\"vlag\" )\n",
    "sns.swarmplot(x=\"risk\", data=dados, size=2, color=\".3\", linewidth=0)\n",
    "ax.xaxis.grid(True) \n",
    "ax.set(ylabel=\"Todos\")\n",
    "sns.despine(trim=True, left=True)"
   ]
  },
  {
   "cell_type": "code",
   "execution_count": null,
   "metadata": {
    "slideshow": {
     "slide_type": "subslide"
    }
   },
   "outputs": [],
   "source": [
    "# Gerando scatterplot matrix\n",
    "sns.pairplot(dados)"
   ]
  },
  {
   "cell_type": "markdown",
   "metadata": {
    "slideshow": {
     "slide_type": "slide"
    }
   },
   "source": [
    "### Por região\n",
    "<hr style=\"border:2px solid #0077b9;\">\n",
    "- N, NE, CO, SE e S"
   ]
  },
  {
   "cell_type": "code",
   "execution_count": null,
   "metadata": {
    "slideshow": {
     "slide_type": "subslide"
    }
   },
   "outputs": [],
   "source": [
    "# Gerando matrix de correlação para cada região\n",
    "\n",
    "f, ((ax1, ax2), (ax3, ax4), (ax5, ax6)) = plt.subplots(3, 2, sharex=True, sharey=True)\n",
    "ax = [ax1, ax2, ax3, ax4, ax5, ax6]\n",
    "\n",
    "for i in xrange(0, 5):\n",
    "    corr = dados[dados['regiao'] == siglas[i]].corr()\n",
    "    sns.heatmap(corr, mask=np.zeros_like(corr, dtype=np.bool), cmap=palette, \n",
    "                square=True, ax=ax[i], annot=True, vmin=-1, vmax=1)\n",
    "    ax[i].set_title(regioes[i])\n",
    "\n",
    "ax6.set_visible(False)\n",
    "f.subplots_adjust(hspace=0.4, top=4, right=2.5)"
   ]
  },
  {
   "cell_type": "code",
   "execution_count": null,
   "metadata": {
    "slideshow": {
     "slide_type": "subslide"
    }
   },
   "outputs": [],
   "source": [
    "# Gerando scatterplot matrix por região\n",
    "sns.set(font_scale=2)\n",
    "color_regions = [\"#1f77b4\", \"#ff7f0e\", \"#2ca02c\", \"#d62728\", \"#9467bd\"]\n",
    "sns.pairplot(dados, hue=\"regiao\", palette=sns.color_palette(color_regions), size=4)"
   ]
  },
  {
   "cell_type": "code",
   "execution_count": null,
   "metadata": {
    "slideshow": {
     "slide_type": "subslide"
    }
   },
   "outputs": [],
   "source": [
    "# Histogramas para cada região\n",
    "from scipy import stats, integrate\n",
    "sns.set(color_codes=True)\n",
    "\n",
    "sns.set(font_scale=2)\n",
    "sns.set_context(\"paper\", rc={\"font.size\":28,\"axes.titlesize\":22,\"axes.labelsize\":22})   \n",
    "f, ((ax1, ax2), (ax3, ax4), (ax5, ax6)) = plt.subplots(3, 2, sharex=True, sharey=True)\n",
    "ax = [ax1, ax2, ax3, ax4, ax5, ax6]\n",
    "\n",
    "for i in xrange(0, 5):\n",
    "    sns.distplot(dados[dados['regiao'] == siglas[i]][\"risk\"], ax=ax[i], kde=False, bins=np.arange(0.0, 1.1, 0.1), color=color_regions[i], hist_kws=dict(edgecolor=\"k\", linewidth=2))\n",
    "    ax[i].set_title(regioes[i])\n",
    "    ax[i].tick_params(labelsize=22)\n",
    "    plt.setp( ax[i].get_xticklabels(), visible=True)\n",
    "\n",
    "ax[5].set_visible(False)\n",
    "plt.subplots_adjust(hspace=0.4, top=3, right=1.9)"
   ]
  },
  {
   "cell_type": "code",
   "execution_count": null,
   "metadata": {
    "slideshow": {
     "slide_type": "subslide"
    }
   },
   "outputs": [],
   "source": [
    "# Gerando boxplot para (risco, temperatura, precipitação, umidade) por região\n",
    "\n",
    "sns.set(font_scale=1.5)\n",
    "\n",
    "for var in (\"risk\", \"temperature\", \"precipitation\", \"humidity\"):\n",
    "    fig, ax = plt.subplots(figsize=fig_size)\n",
    "    sns.boxplot(ax=ax, x=var,  y=\"regiao\", data=dados, palette=color_regions)\n",
    "    sns.swarmplot(x=var, y=\"regiao\", data=dados, size=2, color=\".3\", linewidth=0)\n",
    "    ax.xaxis.grid(True)\n",
    "    ax.set(ylabel=\"\")\n",
    "    sns.despine(trim=True, left=True)"
   ]
  },
  {
   "cell_type": "markdown",
   "metadata": {
    "slideshow": {
     "slide_type": "slide"
    }
   },
   "source": [
    "### Por estações\n",
    "<hr style=\"border:2px solid #0077b9;\">\n",
    "- Primavera, Verão, Outono e Inverno"
   ]
  },
  {
   "cell_type": "code",
   "execution_count": null,
   "metadata": {
    "slideshow": {
     "slide_type": "subslide"
    }
   },
   "outputs": [],
   "source": [
    "# Separando dados por estação\n",
    "\n",
    "# períodos das estacoes no hemisfério sul\n",
    "primavera = (dados['timestamp'] > '2016-09-23') & (dados['timestamp'] <= '2016-12-21')\n",
    "verao = (dados['timestamp'] > '2016-12-21') | ( (dados['timestamp'] >= '2016-01-01') & (dados['timestamp'] < '2016-03-21') )\n",
    "outono = (dados['timestamp'] > '2016-03-21') & (dados['timestamp'] <= '2016-06-20')\n",
    "inverno = (dados['timestamp'] > '2016-06-20') & (dados['timestamp'] <= '2016-09-23')\n",
    "\n",
    "# Criando coluna estacao\n",
    "dados['estacao']=''\n",
    "dados.loc[primavera, 'estacao']=\"primavera\"\n",
    "dados.loc[verao, 'estacao']=\"verao\"\n",
    "dados.loc[outono,'estacao']=\"outono\"\n",
    "dados.loc[inverno, 'estacao']='inverno'\n",
    "\n",
    "# Contado por grupo de risco e por estação\n",
    "dados.filter(items=[\"risk\", \"estacao\"])\\\n",
    "     .groupby([\"estacao\",pd.cut(dados[\"risk\"], np.arange(0, 1+.25, .25))])\\\n",
    "     .count().rename(columns={'risk':'Total'})"
   ]
  },
  {
   "cell_type": "code",
   "execution_count": null,
   "metadata": {
    "slideshow": {
     "slide_type": "subslide"
    }
   },
   "outputs": [],
   "source": [
    "# Boxplot para Estação-Risco\n",
    "\n",
    "colors = [\"faded green\", \"windows blue\", \"amber\", \"greyish\"]\n",
    "colors_estacoes = sns.xkcd_palette(colors).as_hex()\n",
    "\n",
    "sns.set(font_scale=1.5)\n",
    "fig, ax = plt.subplots(figsize=fig_size)\n",
    "sns.boxplot(ax=ax, x=\"risk\", y=\"estacao\", data=dados, palette=colors_estacoes)\n",
    "sns.swarmplot(x=\"risk\", y=\"estacao\", data=dados, size=2, color=\".3\", linewidth=0)\n",
    "ax.xaxis.grid(True)\n",
    "ax.set(ylabel=\"\")\n",
    "sns.despine(trim=True, left=True)"
   ]
  },
  {
   "cell_type": "code",
   "execution_count": null,
   "metadata": {
    "slideshow": {
     "slide_type": "subslide"
    }
   },
   "outputs": [],
   "source": [
    "# Ocorrências por Região-Estação\n",
    "\n",
    "sns.set(font_scale=1.2)\n",
    "estacao_regiao=pd.DataFrame(index=(\"N \", \"NE\", \"CO\", \"SE\", \"S \"))\n",
    "for estacao in (\"primavera\", \"verao\", \"outono\", \"inverno\"): \n",
    "    for regiao in (\"N \", \"NE\", \"CO\", \"SE\", \"S \"):\n",
    "        estacao_regiao.set_value(regiao, estacao, len(dados.loc[ (dados['estacao']==estacao) & (dados['regiao']==regiao)]))\n",
    "\n",
    "sns.heatmap(estacao_regiao, cmap=palette, annot=True,  fmt='g')"
   ]
  },
  {
   "cell_type": "code",
   "execution_count": null,
   "metadata": {
    "slideshow": {
     "slide_type": "subslide"
    }
   },
   "outputs": [],
   "source": [
    "# Boxplot Região-Estação\n",
    "\n",
    "sns.set(font_scale=1.5)\n",
    "for estacao,i in zip((\"primavera\", \"verao\", \"outono\", \"inverno\"), xrange(0,5)): \n",
    "    fig, ax = plt.subplots(figsize=fig_size)\n",
    "    sns.boxplot(x=\"risk\", y=\"regiao\", data=dados.loc[dados['estacao']==estacao] , palette=color_regions, ax=ax)\n",
    "    sns.swarmplot(x=\"risk\", y=\"regiao\", data=dados.loc[dados['estacao']==estacao], size=2, color=\".3\", linewidth=0, ax=ax)\n",
    "    ax.xaxis.grid(True)\n",
    "    ax.set(ylabel=\"\")\n",
    "    sns.despine(trim=True, left=True)\n",
    "    ax.set_title(estacao)"
   ]
  },
  {
   "cell_type": "markdown",
   "metadata": {
    "slideshow": {
     "slide_type": "slide"
    }
   },
   "source": [
    "## Links\n",
    "<hr style=\"border:2px solid #0077b9;\">\n",
    "\n",
    "\n",
    "- **simple_geo.py**: [http://github.com/esensing/simple_geo.py/](http://github.com/esensing/simple_geo.py/)\n",
    "- WTSS.py: [https://github.com/e-sensing/wtss.py](https://github.com/e-sensing/wtss.py)\n",
    "- Seaborn: [https://seaborn.pydata.org/](https://seaborn.pydata.org/)"
   ]
  }
 ],
 "metadata": {
  "celltoolbar": "Slideshow",
  "kernelspec": {
   "display_name": "Python [conda env:simplegeo]",
   "language": "python",
   "name": "conda-env-simplegeo-py"
  },
  "language_info": {
   "codemirror_mode": {
    "name": "ipython",
    "version": 2
   },
   "file_extension": ".py",
   "mimetype": "text/x-python",
   "name": "python",
   "nbconvert_exporter": "python",
   "pygments_lexer": "ipython2",
   "version": "2.7.14"
  }
 },
 "nbformat": 4,
 "nbformat_minor": 2
}
