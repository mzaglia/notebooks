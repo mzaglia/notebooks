{
 "cells": [
  {
   "cell_type": "markdown",
   "metadata": {
    "slideshow": {
     "slide_type": "slide"
    }
   },
   "source": [
    "# Atividade \n",
    "<hr style=\"border:2px solid #0077b9;\">\n",
    "\n",
    "1. Análise por bioma\n",
    "2. Séries Temporais: SimpleGeo.py"
   ]
  },
  {
   "cell_type": "markdown",
   "metadata": {
    "slideshow": {
     "slide_type": "slide"
    }
   },
   "source": [
    "## 1. Análise por bioma \n",
    "<hr style=\"border:2px solid #0077b9;\">\n"
   ]
  },
  {
   "cell_type": "code",
   "execution_count": null,
   "metadata": {
    "slideshow": {
     "slide_type": "subslide"
    }
   },
   "outputs": [],
   "source": [
    "# Biomas\n",
    "biomas = ['Amazônia', 'Cerrado', 'Caatinga', 'Mata Atlântica','Pantanal', 'Pampa']\n",
    "display(biomas)"
   ]
  },
  {
   "cell_type": "markdown",
   "metadata": {
    "slideshow": {
     "slide_type": "subslide"
    }
   },
   "source": [
    "## Atividades \n",
    "<hr style=\"border:2px solid #0077b9;\">\n",
    "- Produzir histograma de risco por bioma\n",
    "- Produzir scatterplot matrix por bioma\n",
    "- Produzir boxplot para (risco, temperatura, precipitação, umidade) por bioma\n"
   ]
  },
  {
   "cell_type": "markdown",
   "metadata": {
    "slideshow": {
     "slide_type": "slide"
    }
   },
   "source": [
    "## 2. Séries Temporais: SimpleGeo.py \n",
    "<hr style=\"border:2px solid #0077b9;\">\n"
   ]
  },
  {
   "cell_type": "markdown",
   "metadata": {
    "slideshow": {
     "slide_type": "subslide"
    }
   },
   "source": [
    "## Atividades \n",
    "<hr style=\"border:2px solid #0077b9;\">\n",
    "- Reproduzir a análise realizada na prática de Séries Temporais usando a SimpleGeo.py"
   ]
  }
 ],
 "metadata": {
  "celltoolbar": "Slideshow",
  "kernelspec": {
   "display_name": "Python [conda env:simplegeo]",
   "language": "python",
   "name": "conda-env-simplegeo-py"
  },
  "language_info": {
   "codemirror_mode": {
    "name": "ipython",
    "version": 2
   },
   "file_extension": ".py",
   "mimetype": "text/x-python",
   "name": "python",
   "nbconvert_exporter": "python",
   "pygments_lexer": "ipython2",
   "version": "2.7.14"
  }
 },
 "nbformat": 4,
 "nbformat_minor": 2
}
